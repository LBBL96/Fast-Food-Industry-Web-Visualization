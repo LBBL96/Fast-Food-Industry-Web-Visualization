{
 "cells": [
  {
   "cell_type": "code",
   "execution_count": 1,
   "metadata": {},
   "outputs": [],
   "source": [
    "import pandas as pd"
   ]
  },
  {
   "cell_type": "code",
   "execution_count": 3,
   "metadata": {},
   "outputs": [
    {
     "data": {
      "text/html": [
       "<div>\n",
       "<style scoped>\n",
       "    .dataframe tbody tr th:only-of-type {\n",
       "        vertical-align: middle;\n",
       "    }\n",
       "\n",
       "    .dataframe tbody tr th {\n",
       "        vertical-align: top;\n",
       "    }\n",
       "\n",
       "    .dataframe thead th {\n",
       "        text-align: right;\n",
       "    }\n",
       "</style>\n",
       "<table border=\"1\" class=\"dataframe\">\n",
       "  <thead>\n",
       "    <tr style=\"text-align: right;\">\n",
       "      <th></th>\n",
       "      <th>name</th>\n",
       "      <th>categories</th>\n",
       "      <th>city</th>\n",
       "      <th>state</th>\n",
       "      <th>postalCode</th>\n",
       "      <th>latitude</th>\n",
       "      <th>longitude</th>\n",
       "    </tr>\n",
       "  </thead>\n",
       "  <tbody>\n",
       "    <tr>\n",
       "      <th>0</th>\n",
       "      <td>90 Miles Cuban Cafe</td>\n",
       "      <td>Ethnic</td>\n",
       "      <td>Chicago</td>\n",
       "      <td>IL</td>\n",
       "      <td>60618</td>\n",
       "      <td>41.937897</td>\n",
       "      <td>-87.685781</td>\n",
       "    </tr>\n",
       "    <tr>\n",
       "      <th>1</th>\n",
       "      <td>A's Ace Burgers</td>\n",
       "      <td>Burger</td>\n",
       "      <td>Dana Point</td>\n",
       "      <td>CA</td>\n",
       "      <td>92629</td>\n",
       "      <td>33.464500</td>\n",
       "      <td>-117.684500</td>\n",
       "    </tr>\n",
       "    <tr>\n",
       "      <th>2</th>\n",
       "      <td>A&amp;W/Long John Silvers</td>\n",
       "      <td>Seafood</td>\n",
       "      <td>Belle Vernon</td>\n",
       "      <td>PA</td>\n",
       "      <td>15012</td>\n",
       "      <td>40.136482</td>\n",
       "      <td>-79.842820</td>\n",
       "    </tr>\n",
       "  </tbody>\n",
       "</table>\n",
       "</div>"
      ],
      "text/plain": [
       "                    name categories          city state postalCode   latitude  \\\n",
       "0    90 Miles Cuban Cafe     Ethnic       Chicago    IL      60618  41.937897   \n",
       "1        A's Ace Burgers     Burger    Dana Point    CA      92629  33.464500   \n",
       "2  A&W/Long John Silvers    Seafood  Belle Vernon    PA      15012  40.136482   \n",
       "\n",
       "    longitude  \n",
       "0  -87.685781  \n",
       "1 -117.684500  \n",
       "2  -79.842820  "
      ]
     },
     "execution_count": 3,
     "metadata": {},
     "output_type": "execute_result"
    }
   ],
   "source": [
    "df = pd.read_csv(\"final_clean.csv\")\n",
    "df.head(3)"
   ]
  },
  {
   "cell_type": "code",
   "execution_count": 291,
   "metadata": {},
   "outputs": [
    {
     "data": {
      "text/plain": [
       "(-1.1166585923484087,\n",
       " 1.1007932663023052,\n",
       " -1.1047363054695014,\n",
       " 1.113423675390096)"
      ]
     },
     "execution_count": 291,
     "metadata": {},
     "output_type": "execute_result"
    },
    {
     "data": {
      "image/png": "[encoded data removed]",
      "text/plain": [
       "<Figure size 432x288 with 1 Axes>"
      ]
     },
     "metadata": {},
     "output_type": "display_data"
    }
   ],
   "source": [
    "# Burgers are America's best seller\n",
    "df.groupby(\"categories\").size().nlargest(7).plot(kind = \"pie\", autopct=\"%1.1f%%\", \n",
    "                                                title = \"Percentage of Restaurants in the U.S. by Category\")\\\n",
    "                                            .axis(\"equal\")"
   ]
  },
  {
   "cell_type": "code",
   "execution_count": 110,
   "metadata": {},
   "outputs": [
    {
     "data": {
      "text/html": [
       "<div>\n",
       "<style scoped>\n",
       "    .dataframe tbody tr th:only-of-type {\n",
       "        vertical-align: middle;\n",
       "    }\n",
       "\n",
       "    .dataframe tbody tr th {\n",
       "        vertical-align: top;\n",
       "    }\n",
       "\n",
       "    .dataframe thead th {\n",
       "        text-align: right;\n",
       "    }\n",
       "</style>\n",
       "<table border=\"1\" class=\"dataframe\">\n",
       "  <thead>\n",
       "    <tr style=\"text-align: right;\">\n",
       "      <th>categories</th>\n",
       "      <th>Burger</th>\n",
       "      <th>Chicken</th>\n",
       "      <th>Ethnic</th>\n",
       "      <th>Pizza</th>\n",
       "      <th>Sandwich</th>\n",
       "      <th>Seafood</th>\n",
       "      <th>Snack</th>\n",
       "      <th>All</th>\n",
       "    </tr>\n",
       "    <tr>\n",
       "      <th>state</th>\n",
       "      <th></th>\n",
       "      <th></th>\n",
       "      <th></th>\n",
       "      <th></th>\n",
       "      <th></th>\n",
       "      <th></th>\n",
       "      <th></th>\n",
       "      <th></th>\n",
       "    </tr>\n",
       "  </thead>\n",
       "  <tbody>\n",
       "    <tr>\n",
       "      <th>AK</th>\n",
       "      <td>3</td>\n",
       "      <td>0</td>\n",
       "      <td>4</td>\n",
       "      <td>1</td>\n",
       "      <td>6</td>\n",
       "      <td>0</td>\n",
       "      <td>1</td>\n",
       "      <td>15</td>\n",
       "    </tr>\n",
       "    <tr>\n",
       "      <th>AL</th>\n",
       "      <td>2</td>\n",
       "      <td>1</td>\n",
       "      <td>3</td>\n",
       "      <td>0</td>\n",
       "      <td>0</td>\n",
       "      <td>0</td>\n",
       "      <td>0</td>\n",
       "      <td>6</td>\n",
       "    </tr>\n",
       "    <tr>\n",
       "      <th>AR</th>\n",
       "      <td>47</td>\n",
       "      <td>7</td>\n",
       "      <td>18</td>\n",
       "      <td>6</td>\n",
       "      <td>18</td>\n",
       "      <td>2</td>\n",
       "      <td>3</td>\n",
       "      <td>101</td>\n",
       "    </tr>\n",
       "    <tr>\n",
       "      <th>AZ</th>\n",
       "      <td>148</td>\n",
       "      <td>15</td>\n",
       "      <td>73</td>\n",
       "      <td>31</td>\n",
       "      <td>48</td>\n",
       "      <td>2</td>\n",
       "      <td>12</td>\n",
       "      <td>329</td>\n",
       "    </tr>\n",
       "    <tr>\n",
       "      <th>CA</th>\n",
       "      <td>615</td>\n",
       "      <td>70</td>\n",
       "      <td>214</td>\n",
       "      <td>78</td>\n",
       "      <td>112</td>\n",
       "      <td>2</td>\n",
       "      <td>67</td>\n",
       "      <td>1158</td>\n",
       "    </tr>\n",
       "  </tbody>\n",
       "</table>\n",
       "</div>"
      ],
      "text/plain": [
       "categories  Burger  Chicken  Ethnic  Pizza  Sandwich  Seafood  Snack   All\n",
       "state                                                                     \n",
       "AK               3        0       4      1         6        0      1    15\n",
       "AL               2        1       3      0         0        0      0     6\n",
       "AR              47        7      18      6        18        2      3   101\n",
       "AZ             148       15      73     31        48        2     12   329\n",
       "CA             615       70     214     78       112        2     67  1158"
      ]
     },
     "execution_count": 110,
     "metadata": {},
     "output_type": "execute_result"
    }
   ],
   "source": [
    "# Cross-tabulation showing number of restaurants by type and state\n",
    "category_df = pd.crosstab(df[\"state\"], df[\"categories\"], margins = True)\n",
    "category_df.head()"
   ]
  },
  {
   "cell_type": "code",
   "execution_count": 111,
   "metadata": {},
   "outputs": [
    {
     "data": {
      "text/html": [
       "<div>\n",
       "<style scoped>\n",
       "    .dataframe tbody tr th:only-of-type {\n",
       "        vertical-align: middle;\n",
       "    }\n",
       "\n",
       "    .dataframe tbody tr th {\n",
       "        vertical-align: top;\n",
       "    }\n",
       "\n",
       "    .dataframe thead th {\n",
       "        text-align: right;\n",
       "    }\n",
       "</style>\n",
       "<table border=\"1\" class=\"dataframe\">\n",
       "  <thead>\n",
       "    <tr style=\"text-align: right;\">\n",
       "      <th>categories</th>\n",
       "      <th>Burger</th>\n",
       "      <th>Chicken</th>\n",
       "      <th>Ethnic</th>\n",
       "      <th>Pizza</th>\n",
       "      <th>Sandwich</th>\n",
       "      <th>Seafood</th>\n",
       "      <th>Snack</th>\n",
       "      <th>All</th>\n",
       "    </tr>\n",
       "    <tr>\n",
       "      <th>state</th>\n",
       "      <th></th>\n",
       "      <th></th>\n",
       "      <th></th>\n",
       "      <th></th>\n",
       "      <th></th>\n",
       "      <th></th>\n",
       "      <th></th>\n",
       "      <th></th>\n",
       "    </tr>\n",
       "  </thead>\n",
       "  <tbody>\n",
       "    <tr>\n",
       "      <th>AK</th>\n",
       "      <td>0.000307</td>\n",
       "      <td>0.000000</td>\n",
       "      <td>0.000409</td>\n",
       "      <td>0.000102</td>\n",
       "      <td>0.000614</td>\n",
       "      <td>0.000000</td>\n",
       "      <td>0.000102</td>\n",
       "      <td>0.001535</td>\n",
       "    </tr>\n",
       "    <tr>\n",
       "      <th>AL</th>\n",
       "      <td>0.000205</td>\n",
       "      <td>0.000102</td>\n",
       "      <td>0.000307</td>\n",
       "      <td>0.000000</td>\n",
       "      <td>0.000000</td>\n",
       "      <td>0.000000</td>\n",
       "      <td>0.000000</td>\n",
       "      <td>0.000614</td>\n",
       "    </tr>\n",
       "    <tr>\n",
       "      <th>AR</th>\n",
       "      <td>0.004811</td>\n",
       "      <td>0.000716</td>\n",
       "      <td>0.001842</td>\n",
       "      <td>0.000614</td>\n",
       "      <td>0.001842</td>\n",
       "      <td>0.000205</td>\n",
       "      <td>0.000307</td>\n",
       "      <td>0.010338</td>\n",
       "    </tr>\n",
       "    <tr>\n",
       "      <th>AZ</th>\n",
       "      <td>0.015148</td>\n",
       "      <td>0.001535</td>\n",
       "      <td>0.007472</td>\n",
       "      <td>0.003173</td>\n",
       "      <td>0.004913</td>\n",
       "      <td>0.000205</td>\n",
       "      <td>0.001228</td>\n",
       "      <td>0.033675</td>\n",
       "    </tr>\n",
       "    <tr>\n",
       "      <th>CA</th>\n",
       "      <td>0.062948</td>\n",
       "      <td>0.007165</td>\n",
       "      <td>0.021904</td>\n",
       "      <td>0.007984</td>\n",
       "      <td>0.011464</td>\n",
       "      <td>0.000205</td>\n",
       "      <td>0.006858</td>\n",
       "      <td>0.118526</td>\n",
       "    </tr>\n",
       "  </tbody>\n",
       "</table>\n",
       "</div>"
      ],
      "text/plain": [
       "categories    Burger   Chicken    Ethnic     Pizza  Sandwich   Seafood  \\\n",
       "state                                                                    \n",
       "AK          0.000307  0.000000  0.000409  0.000102  0.000614  0.000000   \n",
       "AL          0.000205  0.000102  0.000307  0.000000  0.000000  0.000000   \n",
       "AR          0.004811  0.000716  0.001842  0.000614  0.001842  0.000205   \n",
       "AZ          0.015148  0.001535  0.007472  0.003173  0.004913  0.000205   \n",
       "CA          0.062948  0.007165  0.021904  0.007984  0.011464  0.000205   \n",
       "\n",
       "categories     Snack       All  \n",
       "state                           \n",
       "AK          0.000102  0.001535  \n",
       "AL          0.000000  0.000614  \n",
       "AR          0.000307  0.010338  \n",
       "AZ          0.001228  0.033675  \n",
       "CA          0.006858  0.118526  "
      ]
     },
     "execution_count": 111,
     "metadata": {},
     "output_type": "execute_result"
    }
   ],
   "source": [
    "# Turning the cross-tab into proportions; adding margins gives the marginal total\n",
    "proportions = pd.crosstab(df[\"state\"], df[\"categories\"], margins = True, normalize = True)\n",
    "proportions.head()"
   ]
  },
  {
   "cell_type": "code",
   "execution_count": 112,
   "metadata": {},
   "outputs": [
    {
     "data": {
      "text/html": [
       "<div>\n",
       "<style scoped>\n",
       "    .dataframe tbody tr th:only-of-type {\n",
       "        vertical-align: middle;\n",
       "    }\n",
       "\n",
       "    .dataframe tbody tr th {\n",
       "        vertical-align: top;\n",
       "    }\n",
       "\n",
       "    .dataframe thead th {\n",
       "        text-align: right;\n",
       "    }\n",
       "</style>\n",
       "<table border=\"1\" class=\"dataframe\">\n",
       "  <thead>\n",
       "    <tr style=\"text-align: right;\">\n",
       "      <th>categories</th>\n",
       "      <th>Burger</th>\n",
       "      <th>Chicken</th>\n",
       "      <th>Ethnic</th>\n",
       "      <th>Pizza</th>\n",
       "      <th>Sandwich</th>\n",
       "      <th>Seafood</th>\n",
       "      <th>Snack</th>\n",
       "      <th>All</th>\n",
       "    </tr>\n",
       "    <tr>\n",
       "      <th>state</th>\n",
       "      <th></th>\n",
       "      <th></th>\n",
       "      <th></th>\n",
       "      <th></th>\n",
       "      <th></th>\n",
       "      <th></th>\n",
       "      <th></th>\n",
       "      <th></th>\n",
       "    </tr>\n",
       "  </thead>\n",
       "  <tbody>\n",
       "    <tr>\n",
       "      <th>All</th>\n",
       "      <td>0.482395</td>\n",
       "      <td>0.066735</td>\n",
       "      <td>0.149028</td>\n",
       "      <td>0.060184</td>\n",
       "      <td>0.188741</td>\n",
       "      <td>0.007062</td>\n",
       "      <td>0.045855</td>\n",
       "      <td>1.000000</td>\n",
       "    </tr>\n",
       "    <tr>\n",
       "      <th>CA</th>\n",
       "      <td>0.062948</td>\n",
       "      <td>0.007165</td>\n",
       "      <td>0.021904</td>\n",
       "      <td>0.007984</td>\n",
       "      <td>0.011464</td>\n",
       "      <td>0.000205</td>\n",
       "      <td>0.006858</td>\n",
       "      <td>0.118526</td>\n",
       "    </tr>\n",
       "    <tr>\n",
       "      <th>TX</th>\n",
       "      <td>0.041453</td>\n",
       "      <td>0.010747</td>\n",
       "      <td>0.010850</td>\n",
       "      <td>0.002968</td>\n",
       "      <td>0.011157</td>\n",
       "      <td>0.000716</td>\n",
       "      <td>0.004094</td>\n",
       "      <td>0.081986</td>\n",
       "    </tr>\n",
       "  </tbody>\n",
       "</table>\n",
       "</div>"
      ],
      "text/plain": [
       "categories    Burger   Chicken    Ethnic     Pizza  Sandwich   Seafood  \\\n",
       "state                                                                    \n",
       "All         0.482395  0.066735  0.149028  0.060184  0.188741  0.007062   \n",
       "CA          0.062948  0.007165  0.021904  0.007984  0.011464  0.000205   \n",
       "TX          0.041453  0.010747  0.010850  0.002968  0.011157  0.000716   \n",
       "\n",
       "categories     Snack       All  \n",
       "state                           \n",
       "All         0.045855  1.000000  \n",
       "CA          0.006858  0.118526  \n",
       "TX          0.004094  0.081986  "
      ]
     },
     "execution_count": 112,
     "metadata": {},
     "output_type": "execute_result"
    }
   ],
   "source": [
    "# In our dataset, California has the highest proportion of restaurants, at 0.12 (or 12% of all restaurants\n",
    "# in the dataset). Texas has 8% of all restaurants in the dataset.\n",
    "proportions.sort_values(by = \"All\", ascending = False).head(3)"
   ]
  },
  {
   "cell_type": "code",
   "execution_count": 113,
   "metadata": {},
   "outputs": [
    {
     "data": {
      "text/plain": [
       "<matplotlib.axes._subplots.AxesSubplot at 0x122f43320>"
      ]
     },
     "execution_count": 113,
     "metadata": {},
     "output_type": "execute_result"
    },
    {
     "data": {
      "image/png": "[encoded data removed]",
      "text/plain": [
       "<Figure size 432x288 with 1 Axes>"
      ]
     },
     "metadata": {
      "needs_background": "light"
     },
     "output_type": "display_data"
    }
   ],
   "source": [
    "# Bar chart of proportions by category (this matches pie chart)\n",
    "proportions.sort_values(by = \"All\", ascending = False).head(1).reset_index()\\\n",
    "        .drop(columns = \"All\").set_index(\"state\").plot(kind = \"bar\", rot = 0)"
   ]
  },
  {
   "cell_type": "code",
   "execution_count": 30,
   "metadata": {},
   "outputs": [],
   "source": [
    "# Extracting rows where name is Chick-Fil-A and pulling five largest states\n",
    "Chick = df[df[\"name\"] == \"Chick-Fil-A\"].groupby(\"state\").size().nlargest()"
   ]
  },
  {
   "cell_type": "code",
   "execution_count": 292,
   "metadata": {},
   "outputs": [
    {
     "data": {
      "text/plain": [
       "<matplotlib.axes._subplots.AxesSubplot at 0x1298cbba8>"
      ]
     },
     "execution_count": 292,
     "metadata": {},
     "output_type": "execute_result"
    },
    {
     "data": {
      "image/png": "[encoded data removed]",
      "text/plain": [
       "<Figure size 432x288 with 1 Axes>"
      ]
     },
     "metadata": {
      "needs_background": "light"
     },
     "output_type": "display_data"
    }
   ],
   "source": [
    "# States with the most Chick-Fil-A restaurants\n",
    "Chick.reset_index().sort_values(by = 0, ascending = False).set_index(\"state\")\\\n",
    "        .rename(columns = {0: \"Chick-Fil-A\"})\\\n",
    "        .plot(kind = \"bar\", rot = 0, title = \"States with the Most Chick-Fil-A Restaurants\",\n",
    "             legend = False)"
   ]
  },
  {
   "cell_type": "code",
   "execution_count": 117,
   "metadata": {},
   "outputs": [
    {
     "data": {
      "text/html": [
       "<div>\n",
       "<style scoped>\n",
       "    .dataframe tbody tr th:only-of-type {\n",
       "        vertical-align: middle;\n",
       "    }\n",
       "\n",
       "    .dataframe tbody tr th {\n",
       "        vertical-align: top;\n",
       "    }\n",
       "\n",
       "    .dataframe thead th {\n",
       "        text-align: right;\n",
       "    }\n",
       "</style>\n",
       "<table border=\"1\" class=\"dataframe\">\n",
       "  <thead>\n",
       "    <tr style=\"text-align: right;\">\n",
       "      <th>categories</th>\n",
       "      <th>Burger</th>\n",
       "      <th>Chicken</th>\n",
       "      <th>Ethnic</th>\n",
       "      <th>Pizza</th>\n",
       "      <th>Sandwich</th>\n",
       "      <th>Seafood</th>\n",
       "      <th>Snack</th>\n",
       "    </tr>\n",
       "    <tr>\n",
       "      <th>state</th>\n",
       "      <th></th>\n",
       "      <th></th>\n",
       "      <th></th>\n",
       "      <th></th>\n",
       "      <th></th>\n",
       "      <th></th>\n",
       "      <th></th>\n",
       "    </tr>\n",
       "  </thead>\n",
       "  <tbody>\n",
       "    <tr>\n",
       "      <th>AK</th>\n",
       "      <td>0.200000</td>\n",
       "      <td>0.000000</td>\n",
       "      <td>0.266667</td>\n",
       "      <td>0.066667</td>\n",
       "      <td>0.400000</td>\n",
       "      <td>0.000000</td>\n",
       "      <td>0.066667</td>\n",
       "    </tr>\n",
       "    <tr>\n",
       "      <th>AL</th>\n",
       "      <td>0.333333</td>\n",
       "      <td>0.166667</td>\n",
       "      <td>0.500000</td>\n",
       "      <td>0.000000</td>\n",
       "      <td>0.000000</td>\n",
       "      <td>0.000000</td>\n",
       "      <td>0.000000</td>\n",
       "    </tr>\n",
       "    <tr>\n",
       "      <th>AR</th>\n",
       "      <td>0.465347</td>\n",
       "      <td>0.069307</td>\n",
       "      <td>0.178218</td>\n",
       "      <td>0.059406</td>\n",
       "      <td>0.178218</td>\n",
       "      <td>0.019802</td>\n",
       "      <td>0.029703</td>\n",
       "    </tr>\n",
       "  </tbody>\n",
       "</table>\n",
       "</div>"
      ],
      "text/plain": [
       "categories    Burger   Chicken    Ethnic     Pizza  Sandwich   Seafood  \\\n",
       "state                                                                    \n",
       "AK          0.200000  0.000000  0.266667  0.066667  0.400000  0.000000   \n",
       "AL          0.333333  0.166667  0.500000  0.000000  0.000000  0.000000   \n",
       "AR          0.465347  0.069307  0.178218  0.059406  0.178218  0.019802   \n",
       "\n",
       "categories     Snack  \n",
       "state                 \n",
       "AK          0.066667  \n",
       "AL          0.000000  \n",
       "AR          0.029703  "
      ]
     },
     "execution_count": 117,
     "metadata": {},
     "output_type": "execute_result"
    }
   ],
   "source": [
    "# New dataframe that has proportions of restaurant type within state (as opposed to nationally)\n",
    "state_prop = pd.crosstab(df[\"state\"], df[\"categories\"], margins = True, \n",
    "                          normalize = \"index\")\n",
    "state_prop.head(3)"
   ]
  },
  {
   "cell_type": "code",
   "execution_count": 41,
   "metadata": {},
   "outputs": [],
   "source": [
    "# The five states whose proportion of pizza is the largest\n",
    "Pizza = state_prop.sort_values(by = \"Pizza\", ascending = False).head()"
   ]
  },
  {
   "cell_type": "code",
   "execution_count": 42,
   "metadata": {},
   "outputs": [
    {
     "data": {
      "text/html": [
       "<div>\n",
       "<style scoped>\n",
       "    .dataframe tbody tr th:only-of-type {\n",
       "        vertical-align: middle;\n",
       "    }\n",
       "\n",
       "    .dataframe tbody tr th {\n",
       "        vertical-align: top;\n",
       "    }\n",
       "\n",
       "    .dataframe thead th {\n",
       "        text-align: right;\n",
       "    }\n",
       "</style>\n",
       "<table border=\"1\" class=\"dataframe\">\n",
       "  <thead>\n",
       "    <tr style=\"text-align: right;\">\n",
       "      <th>categories</th>\n",
       "      <th>Burger</th>\n",
       "      <th>Chicken</th>\n",
       "      <th>Ethnic</th>\n",
       "      <th>Pizza</th>\n",
       "      <th>Sandwich</th>\n",
       "      <th>Seafood</th>\n",
       "      <th>Snack</th>\n",
       "    </tr>\n",
       "    <tr>\n",
       "      <th>state</th>\n",
       "      <th></th>\n",
       "      <th></th>\n",
       "      <th></th>\n",
       "      <th></th>\n",
       "      <th></th>\n",
       "      <th></th>\n",
       "      <th></th>\n",
       "    </tr>\n",
       "  </thead>\n",
       "  <tbody>\n",
       "    <tr>\n",
       "      <th>RI</th>\n",
       "      <td>0.333333</td>\n",
       "      <td>0.000000</td>\n",
       "      <td>0.133333</td>\n",
       "      <td>0.266667</td>\n",
       "      <td>0.200000</td>\n",
       "      <td>0.000000</td>\n",
       "      <td>0.000000</td>\n",
       "    </tr>\n",
       "    <tr>\n",
       "      <th>NM</th>\n",
       "      <td>0.532468</td>\n",
       "      <td>0.038961</td>\n",
       "      <td>0.220779</td>\n",
       "      <td>0.142857</td>\n",
       "      <td>0.051948</td>\n",
       "      <td>0.012987</td>\n",
       "      <td>0.000000</td>\n",
       "    </tr>\n",
       "    <tr>\n",
       "      <th>WY</th>\n",
       "      <td>0.344828</td>\n",
       "      <td>0.000000</td>\n",
       "      <td>0.068966</td>\n",
       "      <td>0.137931</td>\n",
       "      <td>0.310345</td>\n",
       "      <td>0.000000</td>\n",
       "      <td>0.103448</td>\n",
       "    </tr>\n",
       "    <tr>\n",
       "      <th>MT</th>\n",
       "      <td>0.342105</td>\n",
       "      <td>0.000000</td>\n",
       "      <td>0.289474</td>\n",
       "      <td>0.131579</td>\n",
       "      <td>0.210526</td>\n",
       "      <td>0.000000</td>\n",
       "      <td>0.026316</td>\n",
       "    </tr>\n",
       "    <tr>\n",
       "      <th>ND</th>\n",
       "      <td>0.314286</td>\n",
       "      <td>0.028571</td>\n",
       "      <td>0.285714</td>\n",
       "      <td>0.114286</td>\n",
       "      <td>0.257143</td>\n",
       "      <td>0.000000</td>\n",
       "      <td>0.000000</td>\n",
       "    </tr>\n",
       "  </tbody>\n",
       "</table>\n",
       "</div>"
      ],
      "text/plain": [
       "categories    Burger   Chicken    Ethnic     Pizza  Sandwich   Seafood  \\\n",
       "state                                                                    \n",
       "RI          0.333333  0.000000  0.133333  0.266667  0.200000  0.000000   \n",
       "NM          0.532468  0.038961  0.220779  0.142857  0.051948  0.012987   \n",
       "WY          0.344828  0.000000  0.068966  0.137931  0.310345  0.000000   \n",
       "MT          0.342105  0.000000  0.289474  0.131579  0.210526  0.000000   \n",
       "ND          0.314286  0.028571  0.285714  0.114286  0.257143  0.000000   \n",
       "\n",
       "categories     Snack  \n",
       "state                 \n",
       "RI          0.000000  \n",
       "NM          0.000000  \n",
       "WY          0.103448  \n",
       "MT          0.026316  \n",
       "ND          0.000000  "
      ]
     },
     "execution_count": 42,
     "metadata": {},
     "output_type": "execute_result"
    }
   ],
   "source": [
    "Pizza"
   ]
  },
  {
   "cell_type": "code",
   "execution_count": 51,
   "metadata": {},
   "outputs": [
    {
     "data": {
      "text/plain": [
       "<matplotlib.axes._subplots.AxesSubplot at 0x121b7b710>"
      ]
     },
     "execution_count": 51,
     "metadata": {},
     "output_type": "execute_result"
    },
    {
     "data": {
      "image/png": "[encoded data removed]",
      "text/plain": [
       "<Figure size 432x288 with 1 Axes>"
      ]
     },
     "metadata": {
      "needs_background": "light"
     },
     "output_type": "display_data"
    }
   ],
   "source": [
    "Pizza[\"Pizza\"].plot(kind = \"bar\", rot = 0, title = \"Top States by Proportion of Fast Food that is Pizza\")"
   ]
  },
  {
   "cell_type": "code",
   "execution_count": 59,
   "metadata": {},
   "outputs": [
    {
     "data": {
      "text/html": [
       "<div>\n",
       "<style scoped>\n",
       "    .dataframe tbody tr th:only-of-type {\n",
       "        vertical-align: middle;\n",
       "    }\n",
       "\n",
       "    .dataframe tbody tr th {\n",
       "        vertical-align: top;\n",
       "    }\n",
       "\n",
       "    .dataframe thead th {\n",
       "        text-align: right;\n",
       "    }\n",
       "</style>\n",
       "<table border=\"1\" class=\"dataframe\">\n",
       "  <thead>\n",
       "    <tr style=\"text-align: right;\">\n",
       "      <th>categories</th>\n",
       "      <th>Burger</th>\n",
       "      <th>Chicken</th>\n",
       "      <th>Ethnic</th>\n",
       "      <th>Pizza</th>\n",
       "      <th>Sandwich</th>\n",
       "      <th>Seafood</th>\n",
       "      <th>Snack</th>\n",
       "    </tr>\n",
       "    <tr>\n",
       "      <th>state</th>\n",
       "      <th></th>\n",
       "      <th></th>\n",
       "      <th></th>\n",
       "      <th></th>\n",
       "      <th></th>\n",
       "      <th></th>\n",
       "      <th></th>\n",
       "    </tr>\n",
       "  </thead>\n",
       "  <tbody>\n",
       "    <tr>\n",
       "      <th>HI</th>\n",
       "      <td>0.843750</td>\n",
       "      <td>0.000000</td>\n",
       "      <td>0.062500</td>\n",
       "      <td>0.031250</td>\n",
       "      <td>0.000000</td>\n",
       "      <td>0.00</td>\n",
       "      <td>0.031250</td>\n",
       "    </tr>\n",
       "    <tr>\n",
       "      <th>VT</th>\n",
       "      <td>0.733333</td>\n",
       "      <td>0.000000</td>\n",
       "      <td>0.066667</td>\n",
       "      <td>0.000000</td>\n",
       "      <td>0.133333</td>\n",
       "      <td>0.00</td>\n",
       "      <td>0.000000</td>\n",
       "    </tr>\n",
       "    <tr>\n",
       "      <th>OR</th>\n",
       "      <td>0.610390</td>\n",
       "      <td>0.006494</td>\n",
       "      <td>0.116883</td>\n",
       "      <td>0.032468</td>\n",
       "      <td>0.175325</td>\n",
       "      <td>0.00</td>\n",
       "      <td>0.058442</td>\n",
       "    </tr>\n",
       "    <tr>\n",
       "      <th>ME</th>\n",
       "      <td>0.600000</td>\n",
       "      <td>0.000000</td>\n",
       "      <td>0.160000</td>\n",
       "      <td>0.080000</td>\n",
       "      <td>0.080000</td>\n",
       "      <td>0.04</td>\n",
       "      <td>0.040000</td>\n",
       "    </tr>\n",
       "    <tr>\n",
       "      <th>LA</th>\n",
       "      <td>0.549505</td>\n",
       "      <td>0.103960</td>\n",
       "      <td>0.133663</td>\n",
       "      <td>0.084158</td>\n",
       "      <td>0.103960</td>\n",
       "      <td>0.00</td>\n",
       "      <td>0.014851</td>\n",
       "    </tr>\n",
       "  </tbody>\n",
       "</table>\n",
       "</div>"
      ],
      "text/plain": [
       "categories    Burger   Chicken    Ethnic     Pizza  Sandwich  Seafood  \\\n",
       "state                                                                   \n",
       "HI          0.843750  0.000000  0.062500  0.031250  0.000000     0.00   \n",
       "VT          0.733333  0.000000  0.066667  0.000000  0.133333     0.00   \n",
       "OR          0.610390  0.006494  0.116883  0.032468  0.175325     0.00   \n",
       "ME          0.600000  0.000000  0.160000  0.080000  0.080000     0.04   \n",
       "LA          0.549505  0.103960  0.133663  0.084158  0.103960     0.00   \n",
       "\n",
       "categories     Snack  \n",
       "state                 \n",
       "HI          0.031250  \n",
       "VT          0.000000  \n",
       "OR          0.058442  \n",
       "ME          0.040000  \n",
       "LA          0.014851  "
      ]
     },
     "execution_count": 59,
     "metadata": {},
     "output_type": "execute_result"
    }
   ],
   "source": [
    "# Top 5 states in proportion of restaurants within state that are burger restaurants\n",
    "Burger = state_prop.sort_values(by = \"Burger\", ascending = False).head()\n",
    "Burger"
   ]
  },
  {
   "cell_type": "code",
   "execution_count": 60,
   "metadata": {},
   "outputs": [
    {
     "data": {
      "text/plain": [
       "<matplotlib.axes._subplots.AxesSubplot at 0x1219d2128>"
      ]
     },
     "execution_count": 60,
     "metadata": {},
     "output_type": "execute_result"
    },
    {
     "data": {
      "image/png": "[encoded data removed]",
      "text/plain": [
       "<Figure size 432x288 with 1 Axes>"
      ]
     },
     "metadata": {
      "needs_background": "light"
     },
     "output_type": "display_data"
    }
   ],
   "source": [
    "Burger[\"Burger\"].plot(kind = \"bar\", rot = 0, title = \"Top States by Proportion of Fast Food that is Burgers\")"
   ]
  },
  {
   "cell_type": "code",
   "execution_count": 61,
   "metadata": {},
   "outputs": [
    {
     "data": {
      "text/html": [
       "<div>\n",
       "<style scoped>\n",
       "    .dataframe tbody tr th:only-of-type {\n",
       "        vertical-align: middle;\n",
       "    }\n",
       "\n",
       "    .dataframe tbody tr th {\n",
       "        vertical-align: top;\n",
       "    }\n",
       "\n",
       "    .dataframe thead th {\n",
       "        text-align: right;\n",
       "    }\n",
       "</style>\n",
       "<table border=\"1\" class=\"dataframe\">\n",
       "  <thead>\n",
       "    <tr style=\"text-align: right;\">\n",
       "      <th>categories</th>\n",
       "      <th>Burger</th>\n",
       "      <th>Chicken</th>\n",
       "      <th>Ethnic</th>\n",
       "      <th>Pizza</th>\n",
       "      <th>Sandwich</th>\n",
       "      <th>Seafood</th>\n",
       "      <th>Snack</th>\n",
       "    </tr>\n",
       "    <tr>\n",
       "      <th>state</th>\n",
       "      <th></th>\n",
       "      <th></th>\n",
       "      <th></th>\n",
       "      <th></th>\n",
       "      <th></th>\n",
       "      <th></th>\n",
       "      <th></th>\n",
       "    </tr>\n",
       "  </thead>\n",
       "  <tbody>\n",
       "    <tr>\n",
       "      <th>AL</th>\n",
       "      <td>0.333333</td>\n",
       "      <td>0.166667</td>\n",
       "      <td>0.500000</td>\n",
       "      <td>0.000000</td>\n",
       "      <td>0.000000</td>\n",
       "      <td>0.000000</td>\n",
       "      <td>0.000000</td>\n",
       "    </tr>\n",
       "    <tr>\n",
       "      <th>MO</th>\n",
       "      <td>0.398773</td>\n",
       "      <td>0.006135</td>\n",
       "      <td>0.312883</td>\n",
       "      <td>0.030675</td>\n",
       "      <td>0.208589</td>\n",
       "      <td>0.006135</td>\n",
       "      <td>0.012270</td>\n",
       "    </tr>\n",
       "    <tr>\n",
       "      <th>NV</th>\n",
       "      <td>0.471074</td>\n",
       "      <td>0.024793</td>\n",
       "      <td>0.297521</td>\n",
       "      <td>0.049587</td>\n",
       "      <td>0.132231</td>\n",
       "      <td>0.008264</td>\n",
       "      <td>0.016529</td>\n",
       "    </tr>\n",
       "    <tr>\n",
       "      <th>MT</th>\n",
       "      <td>0.342105</td>\n",
       "      <td>0.000000</td>\n",
       "      <td>0.289474</td>\n",
       "      <td>0.131579</td>\n",
       "      <td>0.210526</td>\n",
       "      <td>0.000000</td>\n",
       "      <td>0.026316</td>\n",
       "    </tr>\n",
       "    <tr>\n",
       "      <th>ND</th>\n",
       "      <td>0.314286</td>\n",
       "      <td>0.028571</td>\n",
       "      <td>0.285714</td>\n",
       "      <td>0.114286</td>\n",
       "      <td>0.257143</td>\n",
       "      <td>0.000000</td>\n",
       "      <td>0.000000</td>\n",
       "    </tr>\n",
       "  </tbody>\n",
       "</table>\n",
       "</div>"
      ],
      "text/plain": [
       "categories    Burger   Chicken    Ethnic     Pizza  Sandwich   Seafood  \\\n",
       "state                                                                    \n",
       "AL          0.333333  0.166667  0.500000  0.000000  0.000000  0.000000   \n",
       "MO          0.398773  0.006135  0.312883  0.030675  0.208589  0.006135   \n",
       "NV          0.471074  0.024793  0.297521  0.049587  0.132231  0.008264   \n",
       "MT          0.342105  0.000000  0.289474  0.131579  0.210526  0.000000   \n",
       "ND          0.314286  0.028571  0.285714  0.114286  0.257143  0.000000   \n",
       "\n",
       "categories     Snack  \n",
       "state                 \n",
       "AL          0.000000  \n",
       "MO          0.012270  \n",
       "NV          0.016529  \n",
       "MT          0.026316  \n",
       "ND          0.000000  "
      ]
     },
     "execution_count": 61,
     "metadata": {},
     "output_type": "execute_result"
    }
   ],
   "source": [
    "# Top five states by proportion of \"ethic\" restaurants\n",
    "Ethnic = state_prop.sort_values(by = \"Ethnic\", ascending = False).head()\n",
    "Ethnic"
   ]
  },
  {
   "cell_type": "code",
   "execution_count": 69,
   "metadata": {},
   "outputs": [
    {
     "data": {
      "text/plain": [
       "<matplotlib.axes._subplots.AxesSubplot at 0x121cd7a20>"
      ]
     },
     "execution_count": 69,
     "metadata": {},
     "output_type": "execute_result"
    },
    {
     "data": {
      "image/png": "[encoded data removed]",
      "text/plain": [
       "<Figure size 432x288 with 1 Axes>"
      ]
     },
     "metadata": {
      "needs_background": "light"
     },
     "output_type": "display_data"
    }
   ],
   "source": [
    "Ethnic[\"Ethnic\"].plot(kind = \"bar\", rot = 0, title = \"Top States by Proportion of Ethnic Fast Food Restaurants\")"
   ]
  },
  {
   "cell_type": "code",
   "execution_count": 63,
   "metadata": {},
   "outputs": [
    {
     "data": {
      "text/html": [
       "<div>\n",
       "<style scoped>\n",
       "    .dataframe tbody tr th:only-of-type {\n",
       "        vertical-align: middle;\n",
       "    }\n",
       "\n",
       "    .dataframe tbody tr th {\n",
       "        vertical-align: top;\n",
       "    }\n",
       "\n",
       "    .dataframe thead th {\n",
       "        text-align: right;\n",
       "    }\n",
       "</style>\n",
       "<table border=\"1\" class=\"dataframe\">\n",
       "  <thead>\n",
       "    <tr style=\"text-align: right;\">\n",
       "      <th>categories</th>\n",
       "      <th>Burger</th>\n",
       "      <th>Chicken</th>\n",
       "      <th>Ethnic</th>\n",
       "      <th>Pizza</th>\n",
       "      <th>Sandwich</th>\n",
       "      <th>Seafood</th>\n",
       "      <th>Snack</th>\n",
       "    </tr>\n",
       "    <tr>\n",
       "      <th>state</th>\n",
       "      <th></th>\n",
       "      <th></th>\n",
       "      <th></th>\n",
       "      <th></th>\n",
       "      <th></th>\n",
       "      <th></th>\n",
       "      <th></th>\n",
       "    </tr>\n",
       "  </thead>\n",
       "  <tbody>\n",
       "    <tr>\n",
       "      <th>AL</th>\n",
       "      <td>0.333333</td>\n",
       "      <td>0.166667</td>\n",
       "      <td>0.500000</td>\n",
       "      <td>0.000000</td>\n",
       "      <td>0.000000</td>\n",
       "      <td>0.000000</td>\n",
       "      <td>0.000000</td>\n",
       "    </tr>\n",
       "    <tr>\n",
       "      <th>NC</th>\n",
       "      <td>0.450847</td>\n",
       "      <td>0.138983</td>\n",
       "      <td>0.074576</td>\n",
       "      <td>0.084746</td>\n",
       "      <td>0.216949</td>\n",
       "      <td>0.003390</td>\n",
       "      <td>0.020339</td>\n",
       "    </tr>\n",
       "    <tr>\n",
       "      <th>TX</th>\n",
       "      <td>0.501238</td>\n",
       "      <td>0.129950</td>\n",
       "      <td>0.131188</td>\n",
       "      <td>0.035891</td>\n",
       "      <td>0.134901</td>\n",
       "      <td>0.008663</td>\n",
       "      <td>0.049505</td>\n",
       "    </tr>\n",
       "    <tr>\n",
       "      <th>VA</th>\n",
       "      <td>0.383399</td>\n",
       "      <td>0.122530</td>\n",
       "      <td>0.122530</td>\n",
       "      <td>0.051383</td>\n",
       "      <td>0.292490</td>\n",
       "      <td>0.000000</td>\n",
       "      <td>0.023715</td>\n",
       "    </tr>\n",
       "    <tr>\n",
       "      <th>SC</th>\n",
       "      <td>0.481283</td>\n",
       "      <td>0.117647</td>\n",
       "      <td>0.074866</td>\n",
       "      <td>0.042781</td>\n",
       "      <td>0.224599</td>\n",
       "      <td>0.000000</td>\n",
       "      <td>0.053476</td>\n",
       "    </tr>\n",
       "  </tbody>\n",
       "</table>\n",
       "</div>"
      ],
      "text/plain": [
       "categories    Burger   Chicken    Ethnic     Pizza  Sandwich   Seafood  \\\n",
       "state                                                                    \n",
       "AL          0.333333  0.166667  0.500000  0.000000  0.000000  0.000000   \n",
       "NC          0.450847  0.138983  0.074576  0.084746  0.216949  0.003390   \n",
       "TX          0.501238  0.129950  0.131188  0.035891  0.134901  0.008663   \n",
       "VA          0.383399  0.122530  0.122530  0.051383  0.292490  0.000000   \n",
       "SC          0.481283  0.117647  0.074866  0.042781  0.224599  0.000000   \n",
       "\n",
       "categories     Snack  \n",
       "state                 \n",
       "AL          0.000000  \n",
       "NC          0.020339  \n",
       "TX          0.049505  \n",
       "VA          0.023715  \n",
       "SC          0.053476  "
      ]
     },
     "execution_count": 63,
     "metadata": {},
     "output_type": "execute_result"
    }
   ],
   "source": [
    "# Top 5 states in proportion of restaurants within state that are chicken restaurants\n",
    "Chicken = state_prop.sort_values(by = \"Chicken\", ascending = False).head()\n",
    "Chicken "
   ]
  },
  {
   "cell_type": "code",
   "execution_count": 68,
   "metadata": {},
   "outputs": [
    {
     "data": {
      "text/plain": [
       "<matplotlib.axes._subplots.AxesSubplot at 0x121c20da0>"
      ]
     },
     "execution_count": 68,
     "metadata": {},
     "output_type": "execute_result"
    },
    {
     "data": {
      "image/png": "[encoded data removed]",
      "text/plain": [
       "<Figure size 432x288 with 1 Axes>"
      ]
     },
     "metadata": {
      "needs_background": "light"
     },
     "output_type": "display_data"
    }
   ],
   "source": [
    "Chicken[\"Chicken\"].plot(kind = \"bar\", rot = 0, title = \"Top States by Proportion of Fast Food that is Chicken\")"
   ]
  },
  {
   "cell_type": "code",
   "execution_count": 386,
   "metadata": {},
   "outputs": [
    {
     "data": {
      "text/plain": [
       "<matplotlib.axes._subplots.AxesSubplot at 0x12fbe12e8>"
      ]
     },
     "execution_count": 386,
     "metadata": {},
     "output_type": "execute_result"
    },
    {
     "data": {
      "image/png": "[encoded data removed]",
      "text/plain": [
       "<Figure size 432x288 with 1 Axes>"
      ]
     },
     "metadata": {
      "needs_background": "light"
     },
     "output_type": "display_data"
    }
   ],
   "source": [
    "# Ten largest restaurants in our dataset by number of locations\n",
    "df.groupby(\"name\")[\"categories\"].size().nlargest(10).plot(kind = \"bar\", \n",
    "                                                          rot = 45,\n",
    "                                                         title = \"Top 10 Restaurants by Name\")"
   ]
  },
  {
   "cell_type": "code",
   "execution_count": 70,
   "metadata": {},
   "outputs": [
    {
     "data": {
      "text/html": [
       "<div>\n",
       "<style scoped>\n",
       "    .dataframe tbody tr th:only-of-type {\n",
       "        vertical-align: middle;\n",
       "    }\n",
       "\n",
       "    .dataframe tbody tr th {\n",
       "        vertical-align: top;\n",
       "    }\n",
       "\n",
       "    .dataframe thead th {\n",
       "        text-align: right;\n",
       "    }\n",
       "</style>\n",
       "<table border=\"1\" class=\"dataframe\">\n",
       "  <thead>\n",
       "    <tr style=\"text-align: right;\">\n",
       "      <th></th>\n",
       "      <th>name</th>\n",
       "      <th>categories</th>\n",
       "      <th>city</th>\n",
       "      <th>state</th>\n",
       "      <th>postalCode</th>\n",
       "      <th>latitude</th>\n",
       "      <th>longitude</th>\n",
       "    </tr>\n",
       "  </thead>\n",
       "  <tbody>\n",
       "    <tr>\n",
       "      <th>13</th>\n",
       "      <td>Ani's Chicken</td>\n",
       "      <td>Chicken</td>\n",
       "      <td>Montebello</td>\n",
       "      <td>CA</td>\n",
       "      <td>90640</td>\n",
       "      <td>34.018116</td>\n",
       "      <td>-118.105300</td>\n",
       "    </tr>\n",
       "    <tr>\n",
       "      <th>806</th>\n",
       "      <td>Bojangles' Famous Chicken 'n Biscuits</td>\n",
       "      <td>Chicken</td>\n",
       "      <td>Hiram</td>\n",
       "      <td>GA</td>\n",
       "      <td>30141</td>\n",
       "      <td>33.890714</td>\n",
       "      <td>-84.750513</td>\n",
       "    </tr>\n",
       "    <tr>\n",
       "      <th>807</th>\n",
       "      <td>Bojangles' Famous Chicken 'n Biscuits</td>\n",
       "      <td>Chicken</td>\n",
       "      <td>Fayetteville</td>\n",
       "      <td>NC</td>\n",
       "      <td>28304</td>\n",
       "      <td>35.026886</td>\n",
       "      <td>-79.052482</td>\n",
       "    </tr>\n",
       "    <tr>\n",
       "      <th>808</th>\n",
       "      <td>Bojangles' Famous Chicken 'n Biscuits</td>\n",
       "      <td>Chicken</td>\n",
       "      <td>Irmo</td>\n",
       "      <td>SC</td>\n",
       "      <td>29063</td>\n",
       "      <td>34.095532</td>\n",
       "      <td>-81.159696</td>\n",
       "    </tr>\n",
       "    <tr>\n",
       "      <th>809</th>\n",
       "      <td>Bojangles' Famous Chicken 'n Biscuits</td>\n",
       "      <td>Chicken</td>\n",
       "      <td>Shelby</td>\n",
       "      <td>NC</td>\n",
       "      <td>28152</td>\n",
       "      <td>35.282600</td>\n",
       "      <td>-81.556032</td>\n",
       "    </tr>\n",
       "  </tbody>\n",
       "</table>\n",
       "</div>"
      ],
      "text/plain": [
       "                                      name categories          city state  \\\n",
       "13                           Ani's Chicken    Chicken    Montebello    CA   \n",
       "806  Bojangles' Famous Chicken 'n Biscuits    Chicken         Hiram    GA   \n",
       "807  Bojangles' Famous Chicken 'n Biscuits    Chicken  Fayetteville    NC   \n",
       "808  Bojangles' Famous Chicken 'n Biscuits    Chicken          Irmo    SC   \n",
       "809  Bojangles' Famous Chicken 'n Biscuits    Chicken        Shelby    NC   \n",
       "\n",
       "    postalCode   latitude   longitude  \n",
       "13       90640  34.018116 -118.105300  \n",
       "806      30141  33.890714  -84.750513  \n",
       "807      28304  35.026886  -79.052482  \n",
       "808      29063  34.095532  -81.159696  \n",
       "809      28152  35.282600  -81.556032  "
      ]
     },
     "execution_count": 70,
     "metadata": {},
     "output_type": "execute_result"
    }
   ],
   "source": [
    "# Restaurants that fall into the \"chicken\" category\n",
    "cat_chicken = df[df[\"categories\"] == \"Chicken\"]\n",
    "cat_chicken.head()"
   ]
  },
  {
   "cell_type": "code",
   "execution_count": 72,
   "metadata": {},
   "outputs": [
    {
     "data": {
      "text/plain": [
       "name\n",
       "Chick-Fil-A                              228\n",
       "KFC                                      176\n",
       "Boston Market                             42\n",
       "Bojangles' Famous Chicken 'n Biscuits     32\n",
       "Church's Chicken                          27\n",
       "El Pollo Loco                             23\n",
       "Golden Chick                              21\n",
       "Popeye's Louisiana Kitchen                20\n",
       "Chicken Express                           16\n",
       "Raising Cane's                            12\n",
       "dtype: int64"
      ]
     },
     "execution_count": 72,
     "metadata": {},
     "output_type": "execute_result"
    }
   ],
   "source": [
    "cat_chicken.groupby(\"name\").size().nlargest(10)"
   ]
  },
  {
   "cell_type": "code",
   "execution_count": 119,
   "metadata": {},
   "outputs": [
    {
     "data": {
      "text/plain": [
       "652"
      ]
     },
     "execution_count": 119,
     "metadata": {},
     "output_type": "execute_result"
    }
   ],
   "source": [
    "# Total number of chicken restaurants\n",
    "count_chicken = cat_chicken.groupby(\"name\")[\"name\"].count()\n",
    "count_chicken.sum()"
   ]
  },
  {
   "cell_type": "code",
   "execution_count": 77,
   "metadata": {},
   "outputs": [
    {
     "data": {
      "text/plain": [
       "0.3496932515337423"
      ]
     },
     "execution_count": 77,
     "metadata": {},
     "output_type": "execute_result"
    }
   ],
   "source": [
    "# Proportion of chicken restaurants in our dataset that are Chick-Fil-A\n",
    "228/652"
   ]
  },
  {
   "cell_type": "code",
   "execution_count": 90,
   "metadata": {},
   "outputs": [
    {
     "data": {
      "text/plain": [
       "name\n",
       "Ani's Chicken                             1\n",
       "Bojangles' Famous Chicken 'n Biscuits    32\n",
       "Boston Market                            42\n",
       "Bush's Chicken                            2\n",
       "California Chicken Cafe                   1\n",
       "Name: name, dtype: int64"
      ]
     },
     "execution_count": 90,
     "metadata": {},
     "output_type": "execute_result"
    }
   ],
   "source": [
    "count_chicken.head()"
   ]
  },
  {
   "cell_type": "code",
   "execution_count": 358,
   "metadata": {},
   "outputs": [
    {
     "data": {
      "text/plain": [
       "<matplotlib.axes._subplots.AxesSubplot at 0x12efbe940>"
      ]
     },
     "execution_count": 358,
     "metadata": {},
     "output_type": "execute_result"
    },
    {
     "data": {
      "image/png": "[encoded data removed]",
      "text/plain": [
       "<Figure size 432x288 with 1 Axes>"
      ]
     },
     "metadata": {
      "needs_background": "light"
     },
     "output_type": "display_data"
    }
   ],
   "source": [
    "# Three largest chicken restaurants\n",
    "count_chicken.nlargest(3).plot(kind = \"bar\", rot = 0, title = \"Top Three Chicken Chains\")"
   ]
  },
  {
   "cell_type": "code",
   "execution_count": 106,
   "metadata": {},
   "outputs": [
    {
     "data": {
      "text/plain": [
       "(-1.1202385146209588,\n",
       " 1.1009637387914741,\n",
       " -1.1022558197565537,\n",
       " 1.1059915261184805)"
      ]
     },
     "execution_count": 106,
     "metadata": {},
     "output_type": "execute_result"
    },
    {
     "data": {
      "image/png": "[encoded data removed]",
      "text/plain": [
       "<Figure size 432x288 with 1 Axes>"
      ]
     },
     "metadata": {},
     "output_type": "display_data"
    }
   ],
   "source": [
    "df.groupby(\"region\")[\"name\"].count().plot(kind = \"pie\", autopct=\"%1.1f%%\",\n",
    "                                         title = \"Restaurants by Region\").axis(\"equal\")"
   ]
  },
  {
   "cell_type": "code",
   "execution_count": 357,
   "metadata": {},
   "outputs": [
    {
     "data": {
      "text/plain": [
       "<matplotlib.axes._subplots.AxesSubplot at 0x12efd09b0>"
      ]
     },
     "execution_count": 357,
     "metadata": {},
     "output_type": "execute_result"
    },
    {
     "data": {
      "image/png": "[encoded data removed]",
      "text/plain": [
       "<Figure size 432x288 with 1 Axes>"
      ]
     },
     "metadata": {
      "needs_background": "light"
     },
     "output_type": "display_data"
    }
   ],
   "source": [
    "df.groupby(\"region\")[\"name\"].count().plot(kind = \"bar\", rot = 0, \n",
    "                                          title = \"Number of Restaurants by Region\")"
   ]
  },
  {
   "cell_type": "code",
   "execution_count": 120,
   "metadata": {},
   "outputs": [
    {
     "data": {
      "text/html": [
       "<div>\n",
       "<style scoped>\n",
       "    .dataframe tbody tr th:only-of-type {\n",
       "        vertical-align: middle;\n",
       "    }\n",
       "\n",
       "    .dataframe tbody tr th {\n",
       "        vertical-align: top;\n",
       "    }\n",
       "\n",
       "    .dataframe thead th {\n",
       "        text-align: right;\n",
       "    }\n",
       "</style>\n",
       "<table border=\"1\" class=\"dataframe\">\n",
       "  <thead>\n",
       "    <tr style=\"text-align: right;\">\n",
       "      <th></th>\n",
       "      <th>name</th>\n",
       "      <th>categories</th>\n",
       "      <th>city</th>\n",
       "      <th>state</th>\n",
       "      <th>postalCode</th>\n",
       "      <th>latitude</th>\n",
       "      <th>longitude</th>\n",
       "      <th>region</th>\n",
       "    </tr>\n",
       "  </thead>\n",
       "  <tbody>\n",
       "    <tr>\n",
       "      <th>0</th>\n",
       "      <td>90 Miles Cuban Cafe</td>\n",
       "      <td>Ethnic</td>\n",
       "      <td>Chicago</td>\n",
       "      <td>IL</td>\n",
       "      <td>60618</td>\n",
       "      <td>41.937897</td>\n",
       "      <td>-87.685781</td>\n",
       "      <td>Midwest</td>\n",
       "    </tr>\n",
       "    <tr>\n",
       "      <th>4</th>\n",
       "      <td>Acropolis Gyro Palace</td>\n",
       "      <td>Ethnic</td>\n",
       "      <td>Columbus</td>\n",
       "      <td>OH</td>\n",
       "      <td>43214</td>\n",
       "      <td>40.071324</td>\n",
       "      <td>-83.018535</td>\n",
       "      <td>Midwest</td>\n",
       "    </tr>\n",
       "    <tr>\n",
       "      <th>5</th>\n",
       "      <td>Adobe Cantina Salsa</td>\n",
       "      <td>Ethnic</td>\n",
       "      <td>Hammond</td>\n",
       "      <td>LA</td>\n",
       "      <td>70401</td>\n",
       "      <td>30.501010</td>\n",
       "      <td>-90.480980</td>\n",
       "      <td>South</td>\n",
       "    </tr>\n",
       "    <tr>\n",
       "      <th>683</th>\n",
       "      <td>Au Bon Pain</td>\n",
       "      <td>Ethnic</td>\n",
       "      <td>Philadelphia</td>\n",
       "      <td>PA</td>\n",
       "      <td>19103</td>\n",
       "      <td>39.953602</td>\n",
       "      <td>-75.173279</td>\n",
       "      <td>Northeast</td>\n",
       "    </tr>\n",
       "    <tr>\n",
       "      <th>697</th>\n",
       "      <td>Baja Fresh Mexican Grill</td>\n",
       "      <td>Ethnic</td>\n",
       "      <td>Encinitas</td>\n",
       "      <td>CA</td>\n",
       "      <td>92024</td>\n",
       "      <td>33.049628</td>\n",
       "      <td>-117.260182</td>\n",
       "      <td>West</td>\n",
       "    </tr>\n",
       "  </tbody>\n",
       "</table>\n",
       "</div>"
      ],
      "text/plain": [
       "                         name categories          city state postalCode  \\\n",
       "0         90 Miles Cuban Cafe     Ethnic       Chicago    IL      60618   \n",
       "4       Acropolis Gyro Palace     Ethnic      Columbus    OH      43214   \n",
       "5         Adobe Cantina Salsa     Ethnic       Hammond    LA      70401   \n",
       "683               Au Bon Pain     Ethnic  Philadelphia    PA      19103   \n",
       "697  Baja Fresh Mexican Grill     Ethnic     Encinitas    CA      92024   \n",
       "\n",
       "      latitude   longitude     region  \n",
       "0    41.937897  -87.685781    Midwest  \n",
       "4    40.071324  -83.018535    Midwest  \n",
       "5    30.501010  -90.480980      South  \n",
       "683  39.953602  -75.173279  Northeast  \n",
       "697  33.049628 -117.260182       West  "
      ]
     },
     "execution_count": 120,
     "metadata": {},
     "output_type": "execute_result"
    }
   ],
   "source": [
    "cat_ethnic = df[df[\"categories\"] == \"Ethnic\"]\n",
    "cat_ethnic.head()"
   ]
  },
  {
   "cell_type": "code",
   "execution_count": 121,
   "metadata": {},
   "outputs": [
    {
     "data": {
      "text/plain": [
       "name\n",
       "Taco Bell                 1036\n",
       "Del Taco                    66\n",
       "Panda Express               62\n",
       "Taco John's                 53\n",
       "Chipotle Mexican Grill      33\n",
       "Taco Time                   24\n",
       "Taco Bueno                  22\n",
       "Moe's Southwest Grill       13\n",
       "Pei Wei                     10\n",
       "QDOBA Mexican Eats           8\n",
       "dtype: int64"
      ]
     },
     "execution_count": 121,
     "metadata": {},
     "output_type": "execute_result"
    }
   ],
   "source": [
    "cat_ethnic.groupby(\"name\").size().nlargest(10)"
   ]
  },
  {
   "cell_type": "code",
   "execution_count": 385,
   "metadata": {},
   "outputs": [
    {
     "data": {
      "text/plain": [
       "<matplotlib.axes._subplots.AxesSubplot at 0x12fabd5f8>"
      ]
     },
     "execution_count": 385,
     "metadata": {},
     "output_type": "execute_result"
    },
    {
     "data": {
      "image/png": "[encoded data removed]",
      "text/plain": [
       "<Figure size 432x288 with 1 Axes>"
      ]
     },
     "metadata": {
      "needs_background": "light"
     },
     "output_type": "display_data"
    }
   ],
   "source": [
    "cat_ethnic.groupby(\"name\").size().nlargest().plot(kind = \"bar\", rot = 45,\n",
    "                                                 title = \"Top Five 'Ethnic' Restaurants by Count\")"
   ]
  },
  {
   "cell_type": "code",
   "execution_count": 356,
   "metadata": {},
   "outputs": [
    {
     "data": {
      "text/plain": [
       "<matplotlib.axes._subplots.AxesSubplot at 0x12ef73860>"
      ]
     },
     "execution_count": 356,
     "metadata": {},
     "output_type": "execute_result"
    },
    {
     "data": {
      "image/png": "[encoded data removed]",
      "text/plain": [
       "<Figure size 432x288 with 1 Axes>"
      ]
     },
     "metadata": {
      "needs_background": "light"
     },
     "output_type": "display_data"
    }
   ],
   "source": [
    "df.groupby(\"categories\")[\"region\"].size().nlargest(7).plot(kind = \"bar\",\n",
    "                                                          rot = 0, \n",
    "                                                          title = \"Restaurants by Category\")"
   ]
  },
  {
   "cell_type": "code",
   "execution_count": 134,
   "metadata": {},
   "outputs": [],
   "source": [
    "South = df[df[\"region\"] == \"South\"]"
   ]
  },
  {
   "cell_type": "code",
   "execution_count": 355,
   "metadata": {},
   "outputs": [
    {
     "data": {
      "text/plain": [
       "<matplotlib.axes._subplots.AxesSubplot at 0x12ed83748>"
      ]
     },
     "execution_count": 355,
     "metadata": {},
     "output_type": "execute_result"
    },
    {
     "data": {
      "image/png": "[encoded data removed]",
      "text/plain": [
       "<Figure size 432x288 with 1 Axes>"
      ]
     },
     "metadata": {
      "needs_background": "light"
     },
     "output_type": "display_data"
    }
   ],
   "source": [
    "South.groupby(\"categories\").size().plot(kind = \"bar\", title = \"Restaurants in the South\", rot = 0)"
   ]
  },
  {
   "cell_type": "code",
   "execution_count": 144,
   "metadata": {},
   "outputs": [],
   "source": [
    "Northeast = df[df[\"region\"] == \"Northeast\"]"
   ]
  },
  {
   "cell_type": "code",
   "execution_count": 353,
   "metadata": {},
   "outputs": [
    {
     "data": {
      "text/plain": [
       "<matplotlib.axes._subplots.AxesSubplot at 0x12ecaddd8>"
      ]
     },
     "execution_count": 353,
     "metadata": {},
     "output_type": "execute_result"
    },
    {
     "data": {
      "image/png": "[encoded data removed]",
      "text/plain": [
       "<Figure size 432x288 with 1 Axes>"
      ]
     },
     "metadata": {
      "needs_background": "light"
     },
     "output_type": "display_data"
    }
   ],
   "source": [
    "Northeast.groupby(\"categories\").size().plot(kind = \"bar\", title = \"Restaurants in the Northeast\", rot = 0)"
   ]
  },
  {
   "cell_type": "code",
   "execution_count": 156,
   "metadata": {},
   "outputs": [],
   "source": [
    "West = df[df[\"region\"] == \"West\"]"
   ]
  },
  {
   "cell_type": "code",
   "execution_count": 352,
   "metadata": {},
   "outputs": [
    {
     "data": {
      "text/plain": [
       "<matplotlib.axes._subplots.AxesSubplot at 0x12ec4f198>"
      ]
     },
     "execution_count": 352,
     "metadata": {},
     "output_type": "execute_result"
    },
    {
     "data": {
      "image/png": "[encoded data removed]",
      "text/plain": [
       "<Figure size 432x288 with 1 Axes>"
      ]
     },
     "metadata": {
      "needs_background": "light"
     },
     "output_type": "display_data"
    }
   ],
   "source": [
    "West.groupby(\"categories\").size().plot(kind = \"bar\", title = \"Restaurants in the West\", rot = 0)"
   ]
  },
  {
   "cell_type": "code",
   "execution_count": 159,
   "metadata": {},
   "outputs": [],
   "source": [
    "Midwest = df[df[\"region\"] == \"Midwest\"]"
   ]
  },
  {
   "cell_type": "code",
   "execution_count": 351,
   "metadata": {},
   "outputs": [
    {
     "data": {
      "text/plain": [
       "<matplotlib.axes._subplots.AxesSubplot at 0x12e758ac8>"
      ]
     },
     "execution_count": 351,
     "metadata": {},
     "output_type": "execute_result"
    },
    {
     "data": {
      "image/png": "[encoded data removed]",
      "text/plain": [
       "<Figure size 432x288 with 1 Axes>"
      ]
     },
     "metadata": {
      "needs_background": "light"
     },
     "output_type": "display_data"
    }
   ],
   "source": [
    "Midwest.groupby(\"categories\").size().plot(kind = \"bar\", title = \"Restaurants in the Midwest\", rot = 0)"
   ]
  },
  {
   "cell_type": "code",
   "execution_count": 163,
   "metadata": {},
   "outputs": [],
   "source": [
    "cat_burger = df[df[\"categories\"] == \"Burger\"]"
   ]
  },
  {
   "cell_type": "code",
   "execution_count": 350,
   "metadata": {},
   "outputs": [
    {
     "data": {
      "text/plain": [
       "<matplotlib.axes._subplots.AxesSubplot at 0x12e9869b0>"
      ]
     },
     "execution_count": 350,
     "metadata": {},
     "output_type": "execute_result"
    },
    {
     "data": {
      "image/png": "[encoded data removed]",
      "text/plain": [
       "<Figure size 432x288 with 1 Axes>"
      ]
     },
     "metadata": {
      "needs_background": "light"
     },
     "output_type": "display_data"
    }
   ],
   "source": [
    "cat_burger.groupby(\"name\").size().nlargest().plot(kind = \"bar\", rot = 45,\n",
    "                                                 title = \"Top Five Burger Restaurants\")"
   ]
  },
  {
   "cell_type": "code",
   "execution_count": 169,
   "metadata": {},
   "outputs": [],
   "source": [
    "cat_sandwich = df[df[\"categories\"] == \"Sandwich\"]"
   ]
  },
  {
   "cell_type": "code",
   "execution_count": 348,
   "metadata": {},
   "outputs": [
    {
     "data": {
      "text/plain": [
       "<matplotlib.axes._subplots.AxesSubplot at 0x12e764438>"
      ]
     },
     "execution_count": 348,
     "metadata": {},
     "output_type": "execute_result"
    },
    {
     "data": {
      "image/png": "[encoded data removed]",
      "text/plain": [
       "<Figure size 432x288 with 1 Axes>"
      ]
     },
     "metadata": {
      "needs_background": "light"
     },
     "output_type": "display_data"
    }
   ],
   "source": [
    "cat_sandwich.groupby(\"name\").size().nlargest().plot(kind = \"bar\", rot = 0,\n",
    "                                                 title = \"Top Five Sandwich Restaurants\")"
   ]
  },
  {
   "cell_type": "code",
   "execution_count": 171,
   "metadata": {},
   "outputs": [],
   "source": [
    "cat_seafood = df[df[\"categories\"] == \"Seafood\"]"
   ]
  },
  {
   "cell_type": "code",
   "execution_count": 347,
   "metadata": {},
   "outputs": [
    {
     "data": {
      "text/plain": [
       "<matplotlib.axes._subplots.AxesSubplot at 0x12e6f7eb8>"
      ]
     },
     "execution_count": 347,
     "metadata": {},
     "output_type": "execute_result"
    },
    {
     "data": {
      "image/png": "[encoded data removed]",
      "text/plain": [
       "<Figure size 432x288 with 1 Axes>"
      ]
     },
     "metadata": {
      "needs_background": "light"
     },
     "output_type": "display_data"
    }
   ],
   "source": [
    "cat_seafood.groupby(\"name\").size().nlargest(3).plot(kind = 'bar', rot = 0,\n",
    "                                                   title = \"Top Three Seafood Restaurants\")"
   ]
  },
  {
   "cell_type": "code",
   "execution_count": 182,
   "metadata": {},
   "outputs": [
    {
     "data": {
      "text/html": [
       "<div>\n",
       "<style scoped>\n",
       "    .dataframe tbody tr th:only-of-type {\n",
       "        vertical-align: middle;\n",
       "    }\n",
       "\n",
       "    .dataframe tbody tr th {\n",
       "        vertical-align: top;\n",
       "    }\n",
       "\n",
       "    .dataframe thead th {\n",
       "        text-align: right;\n",
       "    }\n",
       "</style>\n",
       "<table border=\"1\" class=\"dataframe\">\n",
       "  <thead>\n",
       "    <tr style=\"text-align: right;\">\n",
       "      <th>categories</th>\n",
       "      <th>Burger</th>\n",
       "      <th>Chicken</th>\n",
       "      <th>Ethnic</th>\n",
       "      <th>Pizza</th>\n",
       "      <th>Sandwich</th>\n",
       "      <th>Seafood</th>\n",
       "      <th>Snack</th>\n",
       "      <th>All</th>\n",
       "    </tr>\n",
       "    <tr>\n",
       "      <th>region</th>\n",
       "      <th></th>\n",
       "      <th></th>\n",
       "      <th></th>\n",
       "      <th></th>\n",
       "      <th></th>\n",
       "      <th></th>\n",
       "      <th></th>\n",
       "      <th></th>\n",
       "    </tr>\n",
       "  </thead>\n",
       "  <tbody>\n",
       "    <tr>\n",
       "      <th>Midwest</th>\n",
       "      <td>1038</td>\n",
       "      <td>81</td>\n",
       "      <td>375</td>\n",
       "      <td>137</td>\n",
       "      <td>605</td>\n",
       "      <td>19</td>\n",
       "      <td>97</td>\n",
       "      <td>2352</td>\n",
       "    </tr>\n",
       "    <tr>\n",
       "      <th>Northeast</th>\n",
       "      <td>579</td>\n",
       "      <td>83</td>\n",
       "      <td>105</td>\n",
       "      <td>81</td>\n",
       "      <td>221</td>\n",
       "      <td>7</td>\n",
       "      <td>93</td>\n",
       "      <td>1169</td>\n",
       "    </tr>\n",
       "    <tr>\n",
       "      <th>South</th>\n",
       "      <td>1887</td>\n",
       "      <td>383</td>\n",
       "      <td>485</td>\n",
       "      <td>205</td>\n",
       "      <td>677</td>\n",
       "      <td>34</td>\n",
       "      <td>150</td>\n",
       "      <td>3821</td>\n",
       "    </tr>\n",
       "    <tr>\n",
       "      <th>West</th>\n",
       "      <td>1209</td>\n",
       "      <td>105</td>\n",
       "      <td>491</td>\n",
       "      <td>165</td>\n",
       "      <td>341</td>\n",
       "      <td>9</td>\n",
       "      <td>108</td>\n",
       "      <td>2428</td>\n",
       "    </tr>\n",
       "    <tr>\n",
       "      <th>All</th>\n",
       "      <td>4713</td>\n",
       "      <td>652</td>\n",
       "      <td>1456</td>\n",
       "      <td>588</td>\n",
       "      <td>1844</td>\n",
       "      <td>69</td>\n",
       "      <td>448</td>\n",
       "      <td>9770</td>\n",
       "    </tr>\n",
       "  </tbody>\n",
       "</table>\n",
       "</div>"
      ],
      "text/plain": [
       "categories  Burger  Chicken  Ethnic  Pizza  Sandwich  Seafood  Snack   All\n",
       "region                                                                    \n",
       "Midwest       1038       81     375    137       605       19     97  2352\n",
       "Northeast      579       83     105     81       221        7     93  1169\n",
       "South         1887      383     485    205       677       34    150  3821\n",
       "West          1209      105     491    165       341        9    108  2428\n",
       "All           4713      652    1456    588      1844       69    448  9770"
      ]
     },
     "execution_count": 182,
     "metadata": {},
     "output_type": "execute_result"
    }
   ],
   "source": [
    "regions_df = pd.crosstab(df[\"region\"], df[\"categories\"], margins = True)\n",
    "regions_df.head()"
   ]
  },
  {
   "cell_type": "code",
   "execution_count": 179,
   "metadata": {},
   "outputs": [],
   "source": [
    "regions_df.drop(columns = \"All\", inplace = True)"
   ]
  },
  {
   "cell_type": "code",
   "execution_count": 214,
   "metadata": {},
   "outputs": [
    {
     "data": {
      "text/plain": [
       "<matplotlib.axes._subplots.AxesSubplot at 0x12656fb00>"
      ]
     },
     "execution_count": 214,
     "metadata": {},
     "output_type": "execute_result"
    },
    {
     "data": {
      "image/png": "[encoded data removed]",
      "text/plain": [
       "<Figure size 432x288 with 1 Axes>"
      ]
     },
     "metadata": {
      "needs_background": "light"
     },
     "output_type": "display_data"
    }
   ],
   "source": [
    "df.groupby(['categories','region']).size().unstack().plot(kind = 'bar', \n",
    "#                                                           stacked = True,\n",
    "                                                         title = \"Restaurant Type by Region\",\n",
    "                                                         rot = 45)"
   ]
  },
  {
   "cell_type": "code",
   "execution_count": 346,
   "metadata": {},
   "outputs": [
    {
     "data": {
      "text/plain": [
       "<matplotlib.legend.Legend at 0x12db73438>"
      ]
     },
     "execution_count": 346,
     "metadata": {},
     "output_type": "execute_result"
    },
    {
     "data": {
      "image/png": "[encoded data removed]",
      "text/plain": [
       "<Figure size 432x288 with 1 Axes>"
      ]
     },
     "metadata": {
      "needs_background": "light"
     },
     "output_type": "display_data"
    }
   ],
   "source": [
    "df.groupby(['region', 'categories']).size().unstack().plot(kind = 'bar', \n",
    "#                                                           stacked = True,\n",
    "                                                         title = \"Restaurant Type within Regions\",\n",
    "                                                         rot = 0, legend = False)\\\n",
    "        .legend(loc='center left', bbox_to_anchor=(1.0, 0.5))\n"
   ]
  },
  {
   "cell_type": "code",
   "execution_count": 345,
   "metadata": {},
   "outputs": [
    {
     "data": {
      "text/plain": [
       "<matplotlib.legend.Legend at 0x12e2a4be0>"
      ]
     },
     "execution_count": 345,
     "metadata": {},
     "output_type": "execute_result"
    },
    {
     "data": {
      "image/png": "[encoded data removed]",
      "text/plain": [
       "<Figure size 432x288 with 1 Axes>"
      ]
     },
     "metadata": {
      "needs_background": "light"
     },
     "output_type": "display_data"
    }
   ],
   "source": [
    "df.groupby(['region', 'categories']).size().unstack().plot(kind = 'bar', \n",
    "                                                          stacked = True,\n",
    "                                                         title = \"Restaurant Type within Regions\",\n",
    "                                                         rot = 0, legend = False)\\\n",
    "        .legend(loc='center left', bbox_to_anchor=(1.0, 0.5))"
   ]
  },
  {
   "cell_type": "code",
   "execution_count": 388,
   "metadata": {},
   "outputs": [
    {
     "data": {
      "text/plain": [
       "<matplotlib.axes._subplots.AxesSubplot at 0x12fdef0f0>"
      ]
     },
     "execution_count": 388,
     "metadata": {},
     "output_type": "execute_result"
    },
    {
     "data": {
      "image/png": "[encoded data removed]",
      "text/plain": [
       "<Figure size 432x288 with 1 Axes>"
      ]
     },
     "metadata": {
      "needs_background": "light"
     },
     "output_type": "display_data"
    }
   ],
   "source": [
    "df.groupby(\"state\").size().nlargest(10).reset_index().sort_values(by = 0, ascending = False)\\\n",
    "        .set_index(\"state\").plot(kind = \"bar\", rot = 0, legend = False, \n",
    "                                 title = \"Top 10 States by Count in Dataset\")"
   ]
  },
  {
   "cell_type": "code",
   "execution_count": 387,
   "metadata": {},
   "outputs": [
    {
     "data": {
      "text/plain": [
       "<matplotlib.axes._subplots.AxesSubplot at 0x12fca3780>"
      ]
     },
     "execution_count": 387,
     "metadata": {},
     "output_type": "execute_result"
    },
    {
     "data": {
      "image/png": "[encoded data removed]",
      "text/plain": [
       "<Figure size 432x288 with 1 Axes>"
      ]
     },
     "metadata": {
      "needs_background": "light"
     },
     "output_type": "display_data"
    }
   ],
   "source": [
    "df.groupby(\"state\").size().nsmallest(10).reset_index().sort_values(by = 0, ascending = False)\\\n",
    "        .set_index(\"state\").plot(kind = \"bar\", rot = 0, legend = False, \n",
    "                                 title = \"Bottom 10 States by Count in Dataset\")"
   ]
  },
  {
   "cell_type": "code",
   "execution_count": 253,
   "metadata": {},
   "outputs": [],
   "source": [
    "AL = df[df[\"state\"] == \"AL\"]"
   ]
  },
  {
   "cell_type": "code",
   "execution_count": 337,
   "metadata": {},
   "outputs": [
    {
     "data": {
      "text/plain": [
       "<matplotlib.axes._subplots.AxesSubplot at 0x12da7aa90>"
      ]
     },
     "execution_count": 337,
     "metadata": {},
     "output_type": "execute_result"
    },
    {
     "data": {
      "image/png": "[encoded data removed]",
      "text/plain": [
       "<Figure size 432x288 with 1 Axes>"
      ]
     },
     "metadata": {
      "needs_background": "light"
     },
     "output_type": "display_data"
    }
   ],
   "source": [
    "AL.groupby(\"categories\").size().plot(kind = \"bar\", title = \"Types of Restaurants in Alabama\", rot = 0)"
   ]
  },
  {
   "cell_type": "code",
   "execution_count": 376,
   "metadata": {},
   "outputs": [
    {
     "data": {
      "text/plain": [
       "<matplotlib.axes._subplots.AxesSubplot at 0x12f5f56d8>"
      ]
     },
     "execution_count": 376,
     "metadata": {},
     "output_type": "execute_result"
    },
    {
     "data": {
      "image/png": "[encoded data removed]",
      "text/plain": [
       "<Figure size 432x288 with 1 Axes>"
      ]
     },
     "metadata": {
      "needs_background": "light"
     },
     "output_type": "display_data"
    }
   ],
   "source": [
    "AL.groupby(\"name\").size().plot(kind = \"bar\", \n",
    "                               title = \"The Six Restaurants in Alabama\",\n",
    "                              rot = 0)"
   ]
  },
  {
   "cell_type": "code",
   "execution_count": 344,
   "metadata": {},
   "outputs": [
    {
     "data": {
      "text/plain": [
       "<matplotlib.axes._subplots.AxesSubplot at 0x12e08c828>"
      ]
     },
     "execution_count": 344,
     "metadata": {},
     "output_type": "execute_result"
    },
    {
     "data": {
      "image/png": "[encoded data removed]",
      "text/plain": [
       "<Figure size 432x288 with 1 Axes>"
      ]
     },
     "metadata": {
      "needs_background": "light"
     },
     "output_type": "display_data"
    }
   ],
   "source": [
    "cat_seafood.groupby(\"state\").size().nsmallest(25).plot(kind = \"bar\", \n",
    "                                                       rot = 45,\n",
    "                                                      title = \"\")"
   ]
  },
  {
   "cell_type": "code",
   "execution_count": 339,
   "metadata": {},
   "outputs": [
    {
     "data": {
      "text/plain": [
       "<matplotlib.axes._subplots.AxesSubplot at 0x12dc9d208>"
      ]
     },
     "execution_count": 339,
     "metadata": {},
     "output_type": "execute_result"
    },
    {
     "data": {
      "image/png": "[encoded data removed]",
      "text/plain": [
       "<Figure size 432x288 with 1 Axes>"
      ]
     },
     "metadata": {
      "needs_background": "light"
     },
     "output_type": "display_data"
    }
   ],
   "source": [
    "# Bottom half have zero seafood restaurants, so only 25 states have even one in the dataset\n",
    "cat_seafood.groupby(\"state\").size().nlargest(15).plot(kind = \"bar\", \n",
    "                                                       rot = 0,\n",
    "                                                      title = \"Top 15 States in Number of Seafood Restaurants\")"
   ]
  },
  {
   "cell_type": "code",
   "execution_count": 294,
   "metadata": {},
   "outputs": [],
   "source": [
    "pop = pd.read_csv(\"State_Population.csv\")"
   ]
  },
  {
   "cell_type": "code",
   "execution_count": 340,
   "metadata": {},
   "outputs": [
    {
     "data": {
      "text/plain": [
       "<matplotlib.axes._subplots.AxesSubplot at 0x12d8559b0>"
      ]
     },
     "execution_count": 340,
     "metadata": {},
     "output_type": "execute_result"
    },
    {
     "data": {
      "image/png": "[encoded data removed]",
      "text/plain": [
       "<Figure size 432x288 with 1 Axes>"
      ]
     },
     "metadata": {
      "needs_background": "light"
     },
     "output_type": "display_data"
    }
   ],
   "source": [
    "pop.groupby(\"Region\")[\"Population\"].sum().plot(kind = 'bar', rot = 0,\n",
    "                                              title = \"United States Population by Region\")"
   ]
  },
  {
   "cell_type": "code",
   "execution_count": 341,
   "metadata": {},
   "outputs": [
    {
     "data": {
      "text/plain": [
       "<matplotlib.axes._subplots.AxesSubplot at 0x12dea7470>"
      ]
     },
     "execution_count": 341,
     "metadata": {},
     "output_type": "execute_result"
    },
    {
     "data": {
      "image/png": "[encoded data removed]",
      "text/plain": [
       "<Figure size 432x288 with 1 Axes>"
      ]
     },
     "metadata": {
      "needs_background": "light"
     },
     "output_type": "display_data"
    }
   ],
   "source": [
    "df.groupby(\"region\").size().plot(kind = \"bar\", rot = 0,\n",
    "                                title = \"Restaurants in the Dataset by Region\")"
   ]
  },
  {
   "cell_type": "code",
   "execution_count": 317,
   "metadata": {},
   "outputs": [],
   "source": [
    "prop = state_prop.unstack().reset_index()"
   ]
  },
  {
   "cell_type": "code",
   "execution_count": 330,
   "metadata": {},
   "outputs": [],
   "source": [
    "Alaska = prop[prop[\"state\"] == \"AK\"]"
   ]
  },
  {
   "cell_type": "code",
   "execution_count": 342,
   "metadata": {},
   "outputs": [
    {
     "data": {
      "text/plain": [
       "<matplotlib.axes._subplots.AxesSubplot at 0x12de8f4e0>"
      ]
     },
     "execution_count": 342,
     "metadata": {},
     "output_type": "execute_result"
    },
    {
     "data": {
      "image/png": "[encoded data removed]",
      "text/plain": [
       "<Figure size 432x288 with 1 Axes>"
      ]
     },
     "metadata": {
      "needs_background": "light"
     },
     "output_type": "display_data"
    }
   ],
   "source": [
    "Alaska.sort_values(by = 0, ascending = False).head().set_index(\"categories\")\\\n",
    "                .plot(kind = \"bar\", legend = False, rot = 0,\n",
    "                      title = \"Proportion of Restaurants in Alaska by Category\")"
   ]
  },
  {
   "cell_type": "code",
   "execution_count": 375,
   "metadata": {},
   "outputs": [
    {
     "data": {
      "text/plain": [
       "<matplotlib.axes._subplots.AxesSubplot at 0x12f691128>"
      ]
     },
     "execution_count": 375,
     "metadata": {},
     "output_type": "execute_result"
    },
    {
     "data": {
      "image/png": "[encoded data removed]",
      "text/plain": [
       "<Figure size 432x288 with 1 Axes>"
      ]
     },
     "metadata": {
      "needs_background": "light"
     },
     "output_type": "display_data"
    }
   ],
   "source": [
    "df[df[\"state\"] == \"AK\"].groupby(\"categories\").size().reset_index()\\\n",
    "            .sort_values(by = 0, ascending = False).set_index(\"categories\")\\\n",
    "            .plot(kind = \"bar\", rot = 0, legend = False, \n",
    "                 title = \"Count by Category of Alaska's 15 Restaurants\")"
   ]
  },
  {
   "cell_type": "code",
   "execution_count": 373,
   "metadata": {},
   "outputs": [
    {
     "data": {
      "text/plain": [
       "15"
      ]
     },
     "execution_count": 373,
     "metadata": {},
     "output_type": "execute_result"
    }
   ],
   "source": [
    "df[df[\"state\"] == \"AK\"].groupby(\"categories\").size().sum()"
   ]
  },
  {
   "cell_type": "code",
   "execution_count": 384,
   "metadata": {},
   "outputs": [
    {
     "data": {
      "text/plain": [
       "<matplotlib.axes._subplots.AxesSubplot at 0x12fa8c240>"
      ]
     },
     "execution_count": 384,
     "metadata": {},
     "output_type": "execute_result"
    },
    {
     "data": {
      "image/png": "[encoded data removed]",
      "text/plain": [
       "<Figure size 432x288 with 1 Axes>"
      ]
     },
     "metadata": {
      "needs_background": "light"
     },
     "output_type": "display_data"
    }
   ],
   "source": [
    "df[df[\"name\"] == 'Starbucks Coffee'].groupby(\"state\").size()\\\n",
    "            .plot(kind = \"bar\", rot = 0, title = \"Of the 4 Starbucks, 3 are in Texas\")"
   ]
  },
  {
   "cell_type": "code",
   "execution_count": 396,
   "metadata": {},
   "outputs": [
    {
     "data": {
      "text/plain": [
       "<matplotlib.axes._subplots.AxesSubplot at 0x130150828>"
      ]
     },
     "execution_count": 396,
     "metadata": {},
     "output_type": "execute_result"
    },
    {
     "data": {
      "image/png": "[encoded data removed]",
      "text/plain": [
       "<Figure size 432x288 with 1 Axes>"
      ]
     },
     "metadata": {
      "needs_background": "light"
     },
     "output_type": "display_data"
    }
   ],
   "source": [
    "df[df[\"state\"]==\"HI\"].groupby(\"categories\").size().plot(kind = \"bar\", rot = 0,\n",
    "                                                       title = \"Of Hawaii's 31 Restaurants, 27 are Sandwich Shops\")"
   ]
  },
  {
   "cell_type": "code",
   "execution_count": 400,
   "metadata": {},
   "outputs": [
    {
     "data": {
      "text/plain": [
       "<matplotlib.axes._subplots.AxesSubplot at 0x130255898>"
      ]
     },
     "execution_count": 400,
     "metadata": {},
     "output_type": "execute_result"
    },
    {
     "data": {
      "image/png": "[encoded data removed]",
      "text/plain": [
       "<Figure size 432x288 with 1 Axes>"
      ]
     },
     "metadata": {
      "needs_background": "light"
     },
     "output_type": "display_data"
    }
   ],
   "source": [
    "df[df[\"state\"]==\"HI\"].groupby(\"name\").size().plot(kind = \"bar\")"
   ]
  },
  {
   "cell_type": "code",
   "execution_count": 405,
   "metadata": {},
   "outputs": [
    {
     "data": {
      "text/html": [
       "<div>\n",
       "<style scoped>\n",
       "    .dataframe tbody tr th:only-of-type {\n",
       "        vertical-align: middle;\n",
       "    }\n",
       "\n",
       "    .dataframe tbody tr th {\n",
       "        vertical-align: top;\n",
       "    }\n",
       "\n",
       "    .dataframe thead th {\n",
       "        text-align: right;\n",
       "    }\n",
       "</style>\n",
       "<table border=\"1\" class=\"dataframe\">\n",
       "  <thead>\n",
       "    <tr style=\"text-align: right;\">\n",
       "      <th></th>\n",
       "      <th>name</th>\n",
       "      <th>categories</th>\n",
       "      <th>city</th>\n",
       "      <th>state</th>\n",
       "      <th>postalCode</th>\n",
       "      <th>latitude</th>\n",
       "      <th>longitude</th>\n",
       "      <th>region</th>\n",
       "    </tr>\n",
       "    <tr>\n",
       "      <th>categories</th>\n",
       "      <th></th>\n",
       "      <th></th>\n",
       "      <th></th>\n",
       "      <th></th>\n",
       "      <th></th>\n",
       "      <th></th>\n",
       "      <th></th>\n",
       "      <th></th>\n",
       "    </tr>\n",
       "  </thead>\n",
       "  <tbody>\n",
       "    <tr>\n",
       "      <th>Burger</th>\n",
       "      <td>1</td>\n",
       "      <td>1</td>\n",
       "      <td>2</td>\n",
       "      <td>1</td>\n",
       "      <td>3</td>\n",
       "      <td>3</td>\n",
       "      <td>3</td>\n",
       "      <td>1</td>\n",
       "    </tr>\n",
       "    <tr>\n",
       "      <th>Ethnic</th>\n",
       "      <td>2</td>\n",
       "      <td>1</td>\n",
       "      <td>2</td>\n",
       "      <td>1</td>\n",
       "      <td>2</td>\n",
       "      <td>2</td>\n",
       "      <td>2</td>\n",
       "      <td>1</td>\n",
       "    </tr>\n",
       "    <tr>\n",
       "      <th>Pizza</th>\n",
       "      <td>3</td>\n",
       "      <td>1</td>\n",
       "      <td>4</td>\n",
       "      <td>1</td>\n",
       "      <td>4</td>\n",
       "      <td>4</td>\n",
       "      <td>4</td>\n",
       "      <td>1</td>\n",
       "    </tr>\n",
       "    <tr>\n",
       "      <th>Sandwich</th>\n",
       "      <td>2</td>\n",
       "      <td>1</td>\n",
       "      <td>3</td>\n",
       "      <td>1</td>\n",
       "      <td>3</td>\n",
       "      <td>3</td>\n",
       "      <td>3</td>\n",
       "      <td>1</td>\n",
       "    </tr>\n",
       "  </tbody>\n",
       "</table>\n",
       "</div>"
      ],
      "text/plain": [
       "            name  categories  city  state  postalCode  latitude  longitude  \\\n",
       "categories                                                                   \n",
       "Burger         1           1     2      1           3         3          3   \n",
       "Ethnic         2           1     2      1           2         2          2   \n",
       "Pizza          3           1     4      1           4         4          4   \n",
       "Sandwich       2           1     3      1           3         3          3   \n",
       "\n",
       "            region  \n",
       "categories          \n",
       "Burger           1  \n",
       "Ethnic           1  \n",
       "Pizza            1  \n",
       "Sandwich         1  "
      ]
     },
     "execution_count": 405,
     "metadata": {},
     "output_type": "execute_result"
    }
   ],
   "source": [
    "df[df[\"state\"]==\"RI\"].groupby(\"categories\").nunique()"
   ]
  },
  {
   "cell_type": "code",
   "execution_count": 419,
   "metadata": {},
   "outputs": [
    {
     "data": {
      "text/plain": [
       "<matplotlib.axes._subplots.AxesSubplot at 0x1305a1390>"
      ]
     },
     "execution_count": 419,
     "metadata": {},
     "output_type": "execute_result"
    },
    {
     "data": {
      "image/png": "[encoded data removed]",
      "text/plain": [
       "<Figure size 432x288 with 1 Axes>"
      ]
     },
     "metadata": {
      "needs_background": "light"
     },
     "output_type": "display_data"
    }
   ],
   "source": [
    "df[df[\"name\"]=='Chick-Fil-A'].groupby(\"state\").size().nlargest()\\\n",
    "            .plot(kind = \"bar\", rot = 0, title = \"Top 5 Number of Chick-Fil-A Locations by State\")"
   ]
  },
  {
   "cell_type": "code",
   "execution_count": 416,
   "metadata": {},
   "outputs": [
    {
     "data": {
      "text/plain": [
       "118"
      ]
     },
     "execution_count": 416,
     "metadata": {},
     "output_type": "execute_result"
    }
   ],
   "source": [
    "df[df[\"name\"]=='Chick-Fil-A'].groupby(\"state\").size().nlargest().sum()"
   ]
  },
  {
   "cell_type": "code",
   "execution_count": 418,
   "metadata": {},
   "outputs": [
    {
     "data": {
      "text/plain": [
       "228"
      ]
     },
     "execution_count": 418,
     "metadata": {},
     "output_type": "execute_result"
    }
   ],
   "source": [
    "df[df[\"name\"]=='Chick-Fil-A'].groupby(\"state\").size().sum()"
   ]
  },
  {
   "cell_type": "code",
   "execution_count": 420,
   "metadata": {},
   "outputs": [
    {
     "data": {
      "text/plain": [
       "0.5175438596491229"
      ]
     },
     "execution_count": 420,
     "metadata": {},
     "output_type": "execute_result"
    }
   ],
   "source": [
    "118/228"
   ]
  },
  {
   "cell_type": "code",
   "execution_count": 424,
   "metadata": {},
   "outputs": [
    {
     "data": {
      "text/plain": [
       "1036"
      ]
     },
     "execution_count": 424,
     "metadata": {},
     "output_type": "execute_result"
    }
   ],
   "source": [
    "df[df[\"name\"]==\"Taco Bell\"].groupby(\"state\").size().sum()"
   ]
  },
  {
   "cell_type": "code",
   "execution_count": 425,
   "metadata": {},
   "outputs": [
    {
     "data": {
      "text/plain": [
       "0.16502070723160242"
      ]
     },
     "execution_count": 425,
     "metadata": {},
     "output_type": "execute_result"
    }
   ],
   "source": [
    "# Percentage of all Taco Bells contained in our dataset\n",
    "1036/6278"
   ]
  },
  {
   "cell_type": "code",
   "execution_count": 431,
   "metadata": {},
   "outputs": [
    {
     "data": {
      "text/plain": [
       "name\n",
       "McDonald's     1949\n",
       "Taco Bell      1036\n",
       "Subway          849\n",
       "Burger King     835\n",
       "Arby's          669\n",
       "dtype: int64"
      ]
     },
     "execution_count": 431,
     "metadata": {},
     "output_type": "execute_result"
    }
   ],
   "source": [
    "df.groupby(\"name\").size().nlargest()"
   ]
  },
  {
   "cell_type": "code",
   "execution_count": 432,
   "metadata": {},
   "outputs": [
    {
     "data": {
      "text/plain": [
       "0.13768986223949134"
      ]
     },
     "execution_count": 432,
     "metadata": {},
     "output_type": "execute_result"
    }
   ],
   "source": [
    "# Percentage of McDonald's\n",
    "1949/14155"
   ]
  },
  {
   "cell_type": "code",
   "execution_count": 433,
   "metadata": {},
   "outputs": [
    {
     "data": {
      "text/plain": [
       "0.03174543822913551"
      ]
     },
     "execution_count": 433,
     "metadata": {},
     "output_type": "execute_result"
    }
   ],
   "source": [
    "# Percentage of Subways\n",
    "849/26744"
   ]
  },
  {
   "cell_type": "code",
   "execution_count": 441,
   "metadata": {},
   "outputs": [],
   "source": [
    "unstack_state = state_prop.unstack().reset_index()"
   ]
  },
  {
   "cell_type": "code",
   "execution_count": 442,
   "metadata": {},
   "outputs": [
    {
     "data": {
      "text/html": [
       "<div>\n",
       "<style scoped>\n",
       "    .dataframe tbody tr th:only-of-type {\n",
       "        vertical-align: middle;\n",
       "    }\n",
       "\n",
       "    .dataframe tbody tr th {\n",
       "        vertical-align: top;\n",
       "    }\n",
       "\n",
       "    .dataframe thead th {\n",
       "        text-align: right;\n",
       "    }\n",
       "</style>\n",
       "<table border=\"1\" class=\"dataframe\">\n",
       "  <thead>\n",
       "    <tr style=\"text-align: right;\">\n",
       "      <th></th>\n",
       "      <th>categories</th>\n",
       "      <th>state</th>\n",
       "      <th>0</th>\n",
       "    </tr>\n",
       "  </thead>\n",
       "  <tbody>\n",
       "    <tr>\n",
       "      <th>0</th>\n",
       "      <td>Burger</td>\n",
       "      <td>AK</td>\n",
       "      <td>0.200000</td>\n",
       "    </tr>\n",
       "    <tr>\n",
       "      <th>1</th>\n",
       "      <td>Burger</td>\n",
       "      <td>AL</td>\n",
       "      <td>0.333333</td>\n",
       "    </tr>\n",
       "    <tr>\n",
       "      <th>2</th>\n",
       "      <td>Burger</td>\n",
       "      <td>AR</td>\n",
       "      <td>0.465347</td>\n",
       "    </tr>\n",
       "    <tr>\n",
       "      <th>3</th>\n",
       "      <td>Burger</td>\n",
       "      <td>AZ</td>\n",
       "      <td>0.449848</td>\n",
       "    </tr>\n",
       "    <tr>\n",
       "      <th>4</th>\n",
       "      <td>Burger</td>\n",
       "      <td>CA</td>\n",
       "      <td>0.531088</td>\n",
       "    </tr>\n",
       "  </tbody>\n",
       "</table>\n",
       "</div>"
      ],
      "text/plain": [
       "  categories state         0\n",
       "0     Burger    AK  0.200000\n",
       "1     Burger    AL  0.333333\n",
       "2     Burger    AR  0.465347\n",
       "3     Burger    AZ  0.449848\n",
       "4     Burger    CA  0.531088"
      ]
     },
     "execution_count": 442,
     "metadata": {},
     "output_type": "execute_result"
    }
   ],
   "source": [
    "unstack_state.head()"
   ]
  },
  {
   "cell_type": "code",
   "execution_count": 449,
   "metadata": {},
   "outputs": [
    {
     "data": {
      "text/html": [
       "<div>\n",
       "<style scoped>\n",
       "    .dataframe tbody tr th:only-of-type {\n",
       "        vertical-align: middle;\n",
       "    }\n",
       "\n",
       "    .dataframe tbody tr th {\n",
       "        vertical-align: top;\n",
       "    }\n",
       "\n",
       "    .dataframe thead th {\n",
       "        text-align: right;\n",
       "    }\n",
       "</style>\n",
       "<table border=\"1\" class=\"dataframe\">\n",
       "  <thead>\n",
       "    <tr style=\"text-align: right;\">\n",
       "      <th></th>\n",
       "      <th>categories</th>\n",
       "      <th>state</th>\n",
       "      <th>0</th>\n",
       "    </tr>\n",
       "  </thead>\n",
       "  <tbody>\n",
       "    <tr>\n",
       "      <th>271</th>\n",
       "      <td>Seafood</td>\n",
       "      <td>KY</td>\n",
       "      <td>0.042424</td>\n",
       "    </tr>\n",
       "    <tr>\n",
       "      <th>275</th>\n",
       "      <td>Seafood</td>\n",
       "      <td>ME</td>\n",
       "      <td>0.040000</td>\n",
       "    </tr>\n",
       "    <tr>\n",
       "      <th>269</th>\n",
       "      <td>Seafood</td>\n",
       "      <td>IN</td>\n",
       "      <td>0.032129</td>\n",
       "    </tr>\n",
       "    <tr>\n",
       "      <th>270</th>\n",
       "      <td>Seafood</td>\n",
       "      <td>KS</td>\n",
       "      <td>0.028571</td>\n",
       "    </tr>\n",
       "    <tr>\n",
       "      <th>262</th>\n",
       "      <td>Seafood</td>\n",
       "      <td>DE</td>\n",
       "      <td>0.024390</td>\n",
       "    </tr>\n",
       "    <tr>\n",
       "      <th>260</th>\n",
       "      <td>Seafood</td>\n",
       "      <td>CO</td>\n",
       "      <td>0.020408</td>\n",
       "    </tr>\n",
       "    <tr>\n",
       "      <th>261</th>\n",
       "      <td>Seafood</td>\n",
       "      <td>CT</td>\n",
       "      <td>0.020000</td>\n",
       "    </tr>\n",
       "    <tr>\n",
       "      <th>257</th>\n",
       "      <td>Seafood</td>\n",
       "      <td>AR</td>\n",
       "      <td>0.019802</td>\n",
       "    </tr>\n",
       "    <tr>\n",
       "      <th>264</th>\n",
       "      <td>Seafood</td>\n",
       "      <td>GA</td>\n",
       "      <td>0.014458</td>\n",
       "    </tr>\n",
       "    <tr>\n",
       "      <th>289</th>\n",
       "      <td>Seafood</td>\n",
       "      <td>OH</td>\n",
       "      <td>0.013645</td>\n",
       "    </tr>\n",
       "    <tr>\n",
       "      <th>286</th>\n",
       "      <td>Seafood</td>\n",
       "      <td>NM</td>\n",
       "      <td>0.012987</td>\n",
       "    </tr>\n",
       "    <tr>\n",
       "      <th>274</th>\n",
       "      <td>Seafood</td>\n",
       "      <td>MD</td>\n",
       "      <td>0.012270</td>\n",
       "    </tr>\n",
       "    <tr>\n",
       "      <th>296</th>\n",
       "      <td>Seafood</td>\n",
       "      <td>TN</td>\n",
       "      <td>0.010067</td>\n",
       "    </tr>\n",
       "    <tr>\n",
       "      <th>297</th>\n",
       "      <td>Seafood</td>\n",
       "      <td>TX</td>\n",
       "      <td>0.008739</td>\n",
       "    </tr>\n",
       "    <tr>\n",
       "      <th>266</th>\n",
       "      <td>Seafood</td>\n",
       "      <td>IA</td>\n",
       "      <td>0.008696</td>\n",
       "    </tr>\n",
       "    <tr>\n",
       "      <th>287</th>\n",
       "      <td>Seafood</td>\n",
       "      <td>NV</td>\n",
       "      <td>0.008264</td>\n",
       "    </tr>\n",
       "    <tr>\n",
       "      <th>263</th>\n",
       "      <td>Seafood</td>\n",
       "      <td>FL</td>\n",
       "      <td>0.008157</td>\n",
       "    </tr>\n",
       "    <tr>\n",
       "      <th>292</th>\n",
       "      <td>Seafood</td>\n",
       "      <td>PA</td>\n",
       "      <td>0.008152</td>\n",
       "    </tr>\n",
       "    <tr>\n",
       "      <th>305</th>\n",
       "      <td>Seafood</td>\n",
       "      <td>All</td>\n",
       "      <td>0.007062</td>\n",
       "    </tr>\n",
       "    <tr>\n",
       "      <th>278</th>\n",
       "      <td>Seafood</td>\n",
       "      <td>MO</td>\n",
       "      <td>0.006289</td>\n",
       "    </tr>\n",
       "    <tr>\n",
       "      <th>258</th>\n",
       "      <td>Seafood</td>\n",
       "      <td>AZ</td>\n",
       "      <td>0.006079</td>\n",
       "    </tr>\n",
       "    <tr>\n",
       "      <th>273</th>\n",
       "      <td>Seafood</td>\n",
       "      <td>MA</td>\n",
       "      <td>0.005128</td>\n",
       "    </tr>\n",
       "    <tr>\n",
       "      <th>281</th>\n",
       "      <td>Seafood</td>\n",
       "      <td>NC</td>\n",
       "      <td>0.003425</td>\n",
       "    </tr>\n",
       "    <tr>\n",
       "      <th>288</th>\n",
       "      <td>Seafood</td>\n",
       "      <td>NY</td>\n",
       "      <td>0.002907</td>\n",
       "    </tr>\n",
       "    <tr>\n",
       "      <th>259</th>\n",
       "      <td>Seafood</td>\n",
       "      <td>CA</td>\n",
       "      <td>0.001727</td>\n",
       "    </tr>\n",
       "    <tr>\n",
       "      <th>294</th>\n",
       "      <td>Seafood</td>\n",
       "      <td>SC</td>\n",
       "      <td>0.000000</td>\n",
       "    </tr>\n",
       "    <tr>\n",
       "      <th>304</th>\n",
       "      <td>Seafood</td>\n",
       "      <td>WY</td>\n",
       "      <td>0.000000</td>\n",
       "    </tr>\n",
       "    <tr>\n",
       "      <th>293</th>\n",
       "      <td>Seafood</td>\n",
       "      <td>RI</td>\n",
       "      <td>0.000000</td>\n",
       "    </tr>\n",
       "    <tr>\n",
       "      <th>291</th>\n",
       "      <td>Seafood</td>\n",
       "      <td>OR</td>\n",
       "      <td>0.000000</td>\n",
       "    </tr>\n",
       "    <tr>\n",
       "      <th>295</th>\n",
       "      <td>Seafood</td>\n",
       "      <td>SD</td>\n",
       "      <td>0.000000</td>\n",
       "    </tr>\n",
       "    <tr>\n",
       "      <th>301</th>\n",
       "      <td>Seafood</td>\n",
       "      <td>WA</td>\n",
       "      <td>0.000000</td>\n",
       "    </tr>\n",
       "    <tr>\n",
       "      <th>302</th>\n",
       "      <td>Seafood</td>\n",
       "      <td>WI</td>\n",
       "      <td>0.000000</td>\n",
       "    </tr>\n",
       "    <tr>\n",
       "      <th>298</th>\n",
       "      <td>Seafood</td>\n",
       "      <td>UT</td>\n",
       "      <td>0.000000</td>\n",
       "    </tr>\n",
       "    <tr>\n",
       "      <th>299</th>\n",
       "      <td>Seafood</td>\n",
       "      <td>VA</td>\n",
       "      <td>0.000000</td>\n",
       "    </tr>\n",
       "    <tr>\n",
       "      <th>300</th>\n",
       "      <td>Seafood</td>\n",
       "      <td>VT</td>\n",
       "      <td>0.000000</td>\n",
       "    </tr>\n",
       "    <tr>\n",
       "      <th>303</th>\n",
       "      <td>Seafood</td>\n",
       "      <td>WV</td>\n",
       "      <td>0.000000</td>\n",
       "    </tr>\n",
       "    <tr>\n",
       "      <th>255</th>\n",
       "      <td>Seafood</td>\n",
       "      <td>AK</td>\n",
       "      <td>0.000000</td>\n",
       "    </tr>\n",
       "    <tr>\n",
       "      <th>290</th>\n",
       "      <td>Seafood</td>\n",
       "      <td>OK</td>\n",
       "      <td>0.000000</td>\n",
       "    </tr>\n",
       "    <tr>\n",
       "      <th>285</th>\n",
       "      <td>Seafood</td>\n",
       "      <td>NJ</td>\n",
       "      <td>0.000000</td>\n",
       "    </tr>\n",
       "    <tr>\n",
       "      <th>284</th>\n",
       "      <td>Seafood</td>\n",
       "      <td>NH</td>\n",
       "      <td>0.000000</td>\n",
       "    </tr>\n",
       "    <tr>\n",
       "      <th>283</th>\n",
       "      <td>Seafood</td>\n",
       "      <td>NE</td>\n",
       "      <td>0.000000</td>\n",
       "    </tr>\n",
       "    <tr>\n",
       "      <th>282</th>\n",
       "      <td>Seafood</td>\n",
       "      <td>ND</td>\n",
       "      <td>0.000000</td>\n",
       "    </tr>\n",
       "    <tr>\n",
       "      <th>256</th>\n",
       "      <td>Seafood</td>\n",
       "      <td>AL</td>\n",
       "      <td>0.000000</td>\n",
       "    </tr>\n",
       "    <tr>\n",
       "      <th>279</th>\n",
       "      <td>Seafood</td>\n",
       "      <td>MS</td>\n",
       "      <td>0.000000</td>\n",
       "    </tr>\n",
       "    <tr>\n",
       "      <th>277</th>\n",
       "      <td>Seafood</td>\n",
       "      <td>MN</td>\n",
       "      <td>0.000000</td>\n",
       "    </tr>\n",
       "    <tr>\n",
       "      <th>276</th>\n",
       "      <td>Seafood</td>\n",
       "      <td>MI</td>\n",
       "      <td>0.000000</td>\n",
       "    </tr>\n",
       "    <tr>\n",
       "      <th>272</th>\n",
       "      <td>Seafood</td>\n",
       "      <td>LA</td>\n",
       "      <td>0.000000</td>\n",
       "    </tr>\n",
       "    <tr>\n",
       "      <th>268</th>\n",
       "      <td>Seafood</td>\n",
       "      <td>IL</td>\n",
       "      <td>0.000000</td>\n",
       "    </tr>\n",
       "    <tr>\n",
       "      <th>267</th>\n",
       "      <td>Seafood</td>\n",
       "      <td>ID</td>\n",
       "      <td>0.000000</td>\n",
       "    </tr>\n",
       "    <tr>\n",
       "      <th>265</th>\n",
       "      <td>Seafood</td>\n",
       "      <td>HI</td>\n",
       "      <td>0.000000</td>\n",
       "    </tr>\n",
       "    <tr>\n",
       "      <th>280</th>\n",
       "      <td>Seafood</td>\n",
       "      <td>MT</td>\n",
       "      <td>0.000000</td>\n",
       "    </tr>\n",
       "  </tbody>\n",
       "</table>\n",
       "</div>"
      ],
      "text/plain": [
       "    categories state         0\n",
       "271    Seafood    KY  0.042424\n",
       "275    Seafood    ME  0.040000\n",
       "269    Seafood    IN  0.032129\n",
       "270    Seafood    KS  0.028571\n",
       "262    Seafood    DE  0.024390\n",
       "260    Seafood    CO  0.020408\n",
       "261    Seafood    CT  0.020000\n",
       "257    Seafood    AR  0.019802\n",
       "264    Seafood    GA  0.014458\n",
       "289    Seafood    OH  0.013645\n",
       "286    Seafood    NM  0.012987\n",
       "274    Seafood    MD  0.012270\n",
       "296    Seafood    TN  0.010067\n",
       "297    Seafood    TX  0.008739\n",
       "266    Seafood    IA  0.008696\n",
       "287    Seafood    NV  0.008264\n",
       "263    Seafood    FL  0.008157\n",
       "292    Seafood    PA  0.008152\n",
       "305    Seafood   All  0.007062\n",
       "278    Seafood    MO  0.006289\n",
       "258    Seafood    AZ  0.006079\n",
       "273    Seafood    MA  0.005128\n",
       "281    Seafood    NC  0.003425\n",
       "288    Seafood    NY  0.002907\n",
       "259    Seafood    CA  0.001727\n",
       "294    Seafood    SC  0.000000\n",
       "304    Seafood    WY  0.000000\n",
       "293    Seafood    RI  0.000000\n",
       "291    Seafood    OR  0.000000\n",
       "295    Seafood    SD  0.000000\n",
       "301    Seafood    WA  0.000000\n",
       "302    Seafood    WI  0.000000\n",
       "298    Seafood    UT  0.000000\n",
       "299    Seafood    VA  0.000000\n",
       "300    Seafood    VT  0.000000\n",
       "303    Seafood    WV  0.000000\n",
       "255    Seafood    AK  0.000000\n",
       "290    Seafood    OK  0.000000\n",
       "285    Seafood    NJ  0.000000\n",
       "284    Seafood    NH  0.000000\n",
       "283    Seafood    NE  0.000000\n",
       "282    Seafood    ND  0.000000\n",
       "256    Seafood    AL  0.000000\n",
       "279    Seafood    MS  0.000000\n",
       "277    Seafood    MN  0.000000\n",
       "276    Seafood    MI  0.000000\n",
       "272    Seafood    LA  0.000000\n",
       "268    Seafood    IL  0.000000\n",
       "267    Seafood    ID  0.000000\n",
       "265    Seafood    HI  0.000000\n",
       "280    Seafood    MT  0.000000"
      ]
     },
     "execution_count": 449,
     "metadata": {},
     "output_type": "execute_result"
    }
   ],
   "source": [
    "unstack_state[unstack_state[\"categories\"]==\"Seafood\"].sort_values(by = 0, ascending = False)\n"
   ]
  },
  {
   "cell_type": "code",
   "execution_count": 453,
   "metadata": {},
   "outputs": [
    {
     "data": {
      "text/plain": [
       "state  name                          \n",
       "AR     Captain D's Seafood               1\n",
       "       Long John Silver's                1\n",
       "AZ     Joe's Crab Shack                  1\n",
       "       Long John Silver's                1\n",
       "CA     Long John Silver's                2\n",
       "CO     Captain D's Seafood               1\n",
       "       Joe's Crab Shack                  1\n",
       "       Long John Silver's                1\n",
       "CT     Long John Silver's                1\n",
       "DE     Old Mill Crab House               1\n",
       "FL     Captain D's Seafood               4\n",
       "       Long John Silver's                1\n",
       "GA     Captain D's Seafood               6\n",
       "IA     Long John Silver's                1\n",
       "IN     Long John Silver's                8\n",
       "KS     Long John Silver's                2\n",
       "KY     Captain D's Seafood               1\n",
       "       Long John Silver's                6\n",
       "MA     Lobster Hut                       1\n",
       "MD     Long John Silver's                1\n",
       "       Mason's Famous Lobster Rolls      1\n",
       "ME     Clambake Seafood Restaurant       1\n",
       "MO     Long John Silver's                1\n",
       "NC     Captain D's Seafood               1\n",
       "NM     Long John Silver's                1\n",
       "NV     Joe's Crab Shack                  1\n",
       "NY     Long John Silver's                1\n",
       "OH     Arthur Treacher's Fish & Chips    1\n",
       "       Long John Silver's                6\n",
       "PA     A&W/Long John Silvers             1\n",
       "       Long John Silver's                2\n",
       "TN     Captain D's Seafood               1\n",
       "       Long John Silver's                2\n",
       "TX     Long John Silver's                7\n",
       "dtype: int64"
      ]
     },
     "execution_count": 453,
     "metadata": {},
     "output_type": "execute_result"
    }
   ],
   "source": [
    "df[df[\"categories\"]==\"Seafood\"].groupby([\"state\", \"name\"]).size()"
   ]
  },
  {
   "cell_type": "code",
   "execution_count": null,
   "metadata": {},
   "outputs": [],
   "source": []
  }
 ],
 "metadata": {
  "kernelspec": {
   "display_name": "Python 3",
   "language": "python",
   "name": "python3"
  },
  "language_info": {
   "codemirror_mode": {
    "name": "ipython",
    "version": 3
   },
   "file_extension": ".py",
   "mimetype": "text/x-python",
   "name": "python",
   "nbconvert_exporter": "python",
   "pygments_lexer": "ipython3",
   "version": "3.6.9"
  }
 },
 "nbformat": 4,
 "nbformat_minor": 2
}
