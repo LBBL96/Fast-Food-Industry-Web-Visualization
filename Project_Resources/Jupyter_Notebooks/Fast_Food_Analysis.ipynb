{
 "cells": [
  {
   "cell_type": "code",
   "execution_count": 1,
   "metadata": {},
   "outputs": [],
   "source": [
    "import pandas as pd"
   ]
  },
  {
   "cell_type": "code",
   "execution_count": 9,
   "metadata": {},
   "outputs": [],
   "source": [
    "df = pd.read_csv(\"data/Datafiniti_Fast_Food_Restaurants.csv\")"
   ]
  },
  {
   "cell_type": "code",
   "execution_count": 10,
   "metadata": {},
   "outputs": [],
   "source": [
    "columns = [\"id\", \"dateAdded\", \"dateUpdated\", \"keys\", \"sourceURLs\", \"websites\", \"address\"]"
   ]
  },
  {
   "cell_type": "code",
   "execution_count": 11,
   "metadata": {},
   "outputs": [],
   "source": [
    "df.drop(columns = columns, inplace = True)"
   ]
  },
  {
   "cell_type": "code",
   "execution_count": 12,
   "metadata": {},
   "outputs": [
    {
     "data": {
      "text/html": [
       "<div>\n",
       "<style scoped>\n",
       "    .dataframe tbody tr th:only-of-type {\n",
       "        vertical-align: middle;\n",
       "    }\n",
       "\n",
       "    .dataframe tbody tr th {\n",
       "        vertical-align: top;\n",
       "    }\n",
       "\n",
       "    .dataframe thead th {\n",
       "        text-align: right;\n",
       "    }\n",
       "</style>\n",
       "<table border=\"1\" class=\"dataframe\">\n",
       "  <thead>\n",
       "    <tr style=\"text-align: right;\">\n",
       "      <th></th>\n",
       "      <th>categories</th>\n",
       "      <th>city</th>\n",
       "      <th>country</th>\n",
       "      <th>latitude</th>\n",
       "      <th>longitude</th>\n",
       "      <th>name</th>\n",
       "      <th>postalCode</th>\n",
       "      <th>province</th>\n",
       "    </tr>\n",
       "  </thead>\n",
       "  <tbody>\n",
       "    <tr>\n",
       "      <th>0</th>\n",
       "      <td>American Restaurant and Fast Food Restaurant</td>\n",
       "      <td>Thibodaux</td>\n",
       "      <td>US</td>\n",
       "      <td>29.814697</td>\n",
       "      <td>-90.814742</td>\n",
       "      <td>SONIC Drive In</td>\n",
       "      <td>70301</td>\n",
       "      <td>LA</td>\n",
       "    </tr>\n",
       "    <tr>\n",
       "      <th>1</th>\n",
       "      <td>Fast Food Restaurants</td>\n",
       "      <td>Thibodaux</td>\n",
       "      <td>US</td>\n",
       "      <td>29.814697</td>\n",
       "      <td>-90.814742</td>\n",
       "      <td>SONIC Drive In</td>\n",
       "      <td>70301</td>\n",
       "      <td>LA</td>\n",
       "    </tr>\n",
       "    <tr>\n",
       "      <th>2</th>\n",
       "      <td>Fast Food Restaurant</td>\n",
       "      <td>Pigeon Forge</td>\n",
       "      <td>US</td>\n",
       "      <td>35.803788</td>\n",
       "      <td>-83.580553</td>\n",
       "      <td>Taco Bell</td>\n",
       "      <td>37863</td>\n",
       "      <td>TN</td>\n",
       "    </tr>\n",
       "    <tr>\n",
       "      <th>3</th>\n",
       "      <td>Fast Food</td>\n",
       "      <td>Pigeon Forge</td>\n",
       "      <td>US</td>\n",
       "      <td>35.782339</td>\n",
       "      <td>-83.551408</td>\n",
       "      <td>Arby's</td>\n",
       "      <td>37863</td>\n",
       "      <td>TN</td>\n",
       "    </tr>\n",
       "    <tr>\n",
       "      <th>4</th>\n",
       "      <td>Fast Food Restaurant</td>\n",
       "      <td>Morrow</td>\n",
       "      <td>US</td>\n",
       "      <td>33.562738</td>\n",
       "      <td>-84.321143</td>\n",
       "      <td>Steak 'n Shake</td>\n",
       "      <td>30260</td>\n",
       "      <td>GA</td>\n",
       "    </tr>\n",
       "  </tbody>\n",
       "</table>\n",
       "</div>"
      ],
      "text/plain": [
       "                                     categories          city country  \\\n",
       "0  American Restaurant and Fast Food Restaurant     Thibodaux      US   \n",
       "1                         Fast Food Restaurants     Thibodaux      US   \n",
       "2                          Fast Food Restaurant  Pigeon Forge      US   \n",
       "3                                     Fast Food  Pigeon Forge      US   \n",
       "4                          Fast Food Restaurant        Morrow      US   \n",
       "\n",
       "    latitude  longitude            name postalCode province  \n",
       "0  29.814697 -90.814742  SONIC Drive In      70301       LA  \n",
       "1  29.814697 -90.814742  SONIC Drive In      70301       LA  \n",
       "2  35.803788 -83.580553       Taco Bell      37863       TN  \n",
       "3  35.782339 -83.551408          Arby's      37863       TN  \n",
       "4  33.562738 -84.321143  Steak 'n Shake      30260       GA  "
      ]
     },
     "execution_count": 12,
     "metadata": {},
     "output_type": "execute_result"
    }
   ],
   "source": [
    "df.head()"
   ]
  },
  {
   "cell_type": "code",
   "execution_count": 13,
   "metadata": {},
   "outputs": [],
   "source": [
    "column_names = [\"name\", \"categories\", \"city\", \"province\", \"country\", \"postalCode\", \"latitude\", \"longitude\"]"
   ]
  },
  {
   "cell_type": "code",
   "execution_count": 16,
   "metadata": {},
   "outputs": [],
   "source": [
    "df = df[column_names]"
   ]
  },
  {
   "cell_type": "code",
   "execution_count": 17,
   "metadata": {},
   "outputs": [],
   "source": [
    "df = df.rename(columns = {\"province\": \"state\"})"
   ]
  },
  {
   "cell_type": "code",
   "execution_count": 18,
   "metadata": {},
   "outputs": [
    {
     "data": {
      "text/html": [
       "<div>\n",
       "<style scoped>\n",
       "    .dataframe tbody tr th:only-of-type {\n",
       "        vertical-align: middle;\n",
       "    }\n",
       "\n",
       "    .dataframe tbody tr th {\n",
       "        vertical-align: top;\n",
       "    }\n",
       "\n",
       "    .dataframe thead th {\n",
       "        text-align: right;\n",
       "    }\n",
       "</style>\n",
       "<table border=\"1\" class=\"dataframe\">\n",
       "  <thead>\n",
       "    <tr style=\"text-align: right;\">\n",
       "      <th></th>\n",
       "      <th>name</th>\n",
       "      <th>categories</th>\n",
       "      <th>city</th>\n",
       "      <th>state</th>\n",
       "      <th>country</th>\n",
       "      <th>postalCode</th>\n",
       "      <th>latitude</th>\n",
       "      <th>longitude</th>\n",
       "    </tr>\n",
       "  </thead>\n",
       "  <tbody>\n",
       "    <tr>\n",
       "      <th>0</th>\n",
       "      <td>SONIC Drive In</td>\n",
       "      <td>American Restaurant and Fast Food Restaurant</td>\n",
       "      <td>Thibodaux</td>\n",
       "      <td>LA</td>\n",
       "      <td>US</td>\n",
       "      <td>70301</td>\n",
       "      <td>29.814697</td>\n",
       "      <td>-90.814742</td>\n",
       "    </tr>\n",
       "    <tr>\n",
       "      <th>1</th>\n",
       "      <td>SONIC Drive In</td>\n",
       "      <td>Fast Food Restaurants</td>\n",
       "      <td>Thibodaux</td>\n",
       "      <td>LA</td>\n",
       "      <td>US</td>\n",
       "      <td>70301</td>\n",
       "      <td>29.814697</td>\n",
       "      <td>-90.814742</td>\n",
       "    </tr>\n",
       "    <tr>\n",
       "      <th>2</th>\n",
       "      <td>Taco Bell</td>\n",
       "      <td>Fast Food Restaurant</td>\n",
       "      <td>Pigeon Forge</td>\n",
       "      <td>TN</td>\n",
       "      <td>US</td>\n",
       "      <td>37863</td>\n",
       "      <td>35.803788</td>\n",
       "      <td>-83.580553</td>\n",
       "    </tr>\n",
       "    <tr>\n",
       "      <th>3</th>\n",
       "      <td>Arby's</td>\n",
       "      <td>Fast Food</td>\n",
       "      <td>Pigeon Forge</td>\n",
       "      <td>TN</td>\n",
       "      <td>US</td>\n",
       "      <td>37863</td>\n",
       "      <td>35.782339</td>\n",
       "      <td>-83.551408</td>\n",
       "    </tr>\n",
       "    <tr>\n",
       "      <th>4</th>\n",
       "      <td>Steak 'n Shake</td>\n",
       "      <td>Fast Food Restaurant</td>\n",
       "      <td>Morrow</td>\n",
       "      <td>GA</td>\n",
       "      <td>US</td>\n",
       "      <td>30260</td>\n",
       "      <td>33.562738</td>\n",
       "      <td>-84.321143</td>\n",
       "    </tr>\n",
       "  </tbody>\n",
       "</table>\n",
       "</div>"
      ],
      "text/plain": [
       "             name                                    categories          city  \\\n",
       "0  SONIC Drive In  American Restaurant and Fast Food Restaurant     Thibodaux   \n",
       "1  SONIC Drive In                         Fast Food Restaurants     Thibodaux   \n",
       "2       Taco Bell                          Fast Food Restaurant  Pigeon Forge   \n",
       "3          Arby's                                     Fast Food  Pigeon Forge   \n",
       "4  Steak 'n Shake                          Fast Food Restaurant        Morrow   \n",
       "\n",
       "  state country postalCode   latitude  longitude  \n",
       "0    LA      US      70301  29.814697 -90.814742  \n",
       "1    LA      US      70301  29.814697 -90.814742  \n",
       "2    TN      US      37863  35.803788 -83.580553  \n",
       "3    TN      US      37863  35.782339 -83.551408  \n",
       "4    GA      US      30260  33.562738 -84.321143  "
      ]
     },
     "execution_count": 18,
     "metadata": {},
     "output_type": "execute_result"
    }
   ],
   "source": [
    "df.head()"
   ]
  },
  {
   "cell_type": "code",
   "execution_count": 19,
   "metadata": {},
   "outputs": [],
   "source": [
    "df.to_csv(\"Cleaned_Fast_Food.csv\", index = False)"
   ]
  },
  {
   "cell_type": "code",
   "execution_count": 20,
   "metadata": {},
   "outputs": [
    {
     "data": {
      "text/plain": [
       "name           571\n",
       "categories     324\n",
       "city          2764\n",
       "state           50\n",
       "country          1\n",
       "postalCode    5429\n",
       "latitude      9324\n",
       "longitude     9329\n",
       "dtype: int64"
      ]
     },
     "execution_count": 20,
     "metadata": {},
     "output_type": "execute_result"
    }
   ],
   "source": [
    "df.nunique()"
   ]
  },
  {
   "cell_type": "code",
   "execution_count": 21,
   "metadata": {},
   "outputs": [],
   "source": [
    "df.drop(columns = \"country\", inplace = True)"
   ]
  },
  {
   "cell_type": "code",
   "execution_count": 22,
   "metadata": {},
   "outputs": [],
   "source": [
    "df.to_csv(\"Cleaned_Fast_Food.csv\", index = False)"
   ]
  },
  {
   "cell_type": "code",
   "execution_count": 23,
   "metadata": {},
   "outputs": [
    {
     "data": {
      "text/html": [
       "<div>\n",
       "<style scoped>\n",
       "    .dataframe tbody tr th:only-of-type {\n",
       "        vertical-align: middle;\n",
       "    }\n",
       "\n",
       "    .dataframe tbody tr th {\n",
       "        vertical-align: top;\n",
       "    }\n",
       "\n",
       "    .dataframe thead th {\n",
       "        text-align: right;\n",
       "    }\n",
       "</style>\n",
       "<table border=\"1\" class=\"dataframe\">\n",
       "  <thead>\n",
       "    <tr style=\"text-align: right;\">\n",
       "      <th></th>\n",
       "      <th>name</th>\n",
       "      <th>categories</th>\n",
       "      <th>city</th>\n",
       "      <th>state</th>\n",
       "      <th>postalCode</th>\n",
       "      <th>latitude</th>\n",
       "      <th>longitude</th>\n",
       "    </tr>\n",
       "  </thead>\n",
       "  <tbody>\n",
       "    <tr>\n",
       "      <th>0</th>\n",
       "      <td>SONIC Drive In</td>\n",
       "      <td>American Restaurant and Fast Food Restaurant</td>\n",
       "      <td>Thibodaux</td>\n",
       "      <td>LA</td>\n",
       "      <td>70301</td>\n",
       "      <td>29.814697</td>\n",
       "      <td>-90.814742</td>\n",
       "    </tr>\n",
       "    <tr>\n",
       "      <th>1</th>\n",
       "      <td>SONIC Drive In</td>\n",
       "      <td>Fast Food Restaurants</td>\n",
       "      <td>Thibodaux</td>\n",
       "      <td>LA</td>\n",
       "      <td>70301</td>\n",
       "      <td>29.814697</td>\n",
       "      <td>-90.814742</td>\n",
       "    </tr>\n",
       "    <tr>\n",
       "      <th>2</th>\n",
       "      <td>Taco Bell</td>\n",
       "      <td>Fast Food Restaurant</td>\n",
       "      <td>Pigeon Forge</td>\n",
       "      <td>TN</td>\n",
       "      <td>37863</td>\n",
       "      <td>35.803788</td>\n",
       "      <td>-83.580553</td>\n",
       "    </tr>\n",
       "    <tr>\n",
       "      <th>3</th>\n",
       "      <td>Arby's</td>\n",
       "      <td>Fast Food</td>\n",
       "      <td>Pigeon Forge</td>\n",
       "      <td>TN</td>\n",
       "      <td>37863</td>\n",
       "      <td>35.782339</td>\n",
       "      <td>-83.551408</td>\n",
       "    </tr>\n",
       "    <tr>\n",
       "      <th>4</th>\n",
       "      <td>Steak 'n Shake</td>\n",
       "      <td>Fast Food Restaurant</td>\n",
       "      <td>Morrow</td>\n",
       "      <td>GA</td>\n",
       "      <td>30260</td>\n",
       "      <td>33.562738</td>\n",
       "      <td>-84.321143</td>\n",
       "    </tr>\n",
       "  </tbody>\n",
       "</table>\n",
       "</div>"
      ],
      "text/plain": [
       "             name                                    categories          city  \\\n",
       "0  SONIC Drive In  American Restaurant and Fast Food Restaurant     Thibodaux   \n",
       "1  SONIC Drive In                         Fast Food Restaurants     Thibodaux   \n",
       "2       Taco Bell                          Fast Food Restaurant  Pigeon Forge   \n",
       "3          Arby's                                     Fast Food  Pigeon Forge   \n",
       "4  Steak 'n Shake                          Fast Food Restaurant        Morrow   \n",
       "\n",
       "  state postalCode   latitude  longitude  \n",
       "0    LA      70301  29.814697 -90.814742  \n",
       "1    LA      70301  29.814697 -90.814742  \n",
       "2    TN      37863  35.803788 -83.580553  \n",
       "3    TN      37863  35.782339 -83.551408  \n",
       "4    GA      30260  33.562738 -84.321143  "
      ]
     },
     "execution_count": 23,
     "metadata": {},
     "output_type": "execute_result"
    }
   ],
   "source": [
    "df.head()"
   ]
  },
  {
   "cell_type": "code",
   "execution_count": 2,
   "metadata": {},
   "outputs": [
    {
     "data": {
      "text/html": [
       "<div>\n",
       "<style scoped>\n",
       "    .dataframe tbody tr th:only-of-type {\n",
       "        vertical-align: middle;\n",
       "    }\n",
       "\n",
       "    .dataframe tbody tr th {\n",
       "        vertical-align: top;\n",
       "    }\n",
       "\n",
       "    .dataframe thead th {\n",
       "        text-align: right;\n",
       "    }\n",
       "</style>\n",
       "<table border=\"1\" class=\"dataframe\">\n",
       "  <thead>\n",
       "    <tr style=\"text-align: right;\">\n",
       "      <th></th>\n",
       "      <th>name</th>\n",
       "      <th>categories</th>\n",
       "      <th>city</th>\n",
       "      <th>state</th>\n",
       "      <th>postalCode</th>\n",
       "      <th>latitude</th>\n",
       "      <th>longitude</th>\n",
       "    </tr>\n",
       "  </thead>\n",
       "  <tbody>\n",
       "    <tr>\n",
       "      <th>0</th>\n",
       "      <td>SONIC Drive In</td>\n",
       "      <td>American Restaurant and Fast Food Restaurant</td>\n",
       "      <td>Thibodaux</td>\n",
       "      <td>LA</td>\n",
       "      <td>70301</td>\n",
       "      <td>29.814697</td>\n",
       "      <td>-90.814742</td>\n",
       "    </tr>\n",
       "    <tr>\n",
       "      <th>1</th>\n",
       "      <td>SONIC Drive In</td>\n",
       "      <td>Fast Food Restaurants</td>\n",
       "      <td>Thibodaux</td>\n",
       "      <td>LA</td>\n",
       "      <td>70301</td>\n",
       "      <td>29.814697</td>\n",
       "      <td>-90.814742</td>\n",
       "    </tr>\n",
       "    <tr>\n",
       "      <th>2</th>\n",
       "      <td>Taco Bell</td>\n",
       "      <td>Fast Food Restaurant</td>\n",
       "      <td>Pigeon Forge</td>\n",
       "      <td>TN</td>\n",
       "      <td>37863</td>\n",
       "      <td>35.803788</td>\n",
       "      <td>-83.580553</td>\n",
       "    </tr>\n",
       "    <tr>\n",
       "      <th>3</th>\n",
       "      <td>Arby's</td>\n",
       "      <td>Fast Food</td>\n",
       "      <td>Pigeon Forge</td>\n",
       "      <td>TN</td>\n",
       "      <td>37863</td>\n",
       "      <td>35.782339</td>\n",
       "      <td>-83.551408</td>\n",
       "    </tr>\n",
       "    <tr>\n",
       "      <th>4</th>\n",
       "      <td>Steak 'n Shake</td>\n",
       "      <td>Fast Food Restaurant</td>\n",
       "      <td>Morrow</td>\n",
       "      <td>GA</td>\n",
       "      <td>30260</td>\n",
       "      <td>33.562738</td>\n",
       "      <td>-84.321143</td>\n",
       "    </tr>\n",
       "  </tbody>\n",
       "</table>\n",
       "</div>"
      ],
      "text/plain": [
       "             name                                    categories          city  \\\n",
       "0  SONIC Drive In  American Restaurant and Fast Food Restaurant     Thibodaux   \n",
       "1  SONIC Drive In                         Fast Food Restaurants     Thibodaux   \n",
       "2       Taco Bell                          Fast Food Restaurant  Pigeon Forge   \n",
       "3          Arby's                                     Fast Food  Pigeon Forge   \n",
       "4  Steak 'n Shake                          Fast Food Restaurant        Morrow   \n",
       "\n",
       "  state postalCode   latitude  longitude  \n",
       "0    LA      70301  29.814697 -90.814742  \n",
       "1    LA      70301  29.814697 -90.814742  \n",
       "2    TN      37863  35.803788 -83.580553  \n",
       "3    TN      37863  35.782339 -83.551408  \n",
       "4    GA      30260  33.562738 -84.321143  "
      ]
     },
     "execution_count": 2,
     "metadata": {},
     "output_type": "execute_result"
    }
   ],
   "source": [
    "df = pd.read_csv(\"assets/data/Cleaned_Fast_Food.csv\")\n",
    "df.head()"
   ]
  },
  {
   "cell_type": "code",
   "execution_count": 3,
   "metadata": {},
   "outputs": [
    {
     "data": {
      "text/plain": [
       "name           571\n",
       "categories     324\n",
       "city          2764\n",
       "state           50\n",
       "postalCode    5429\n",
       "latitude      9324\n",
       "longitude     9329\n",
       "dtype: int64"
      ]
     },
     "execution_count": 3,
     "metadata": {},
     "output_type": "execute_result"
    }
   ],
   "source": [
    "df.nunique()"
   ]
  },
  {
   "cell_type": "code",
   "execution_count": 4,
   "metadata": {},
   "outputs": [
    {
     "data": {
      "text/html": [
       "<div>\n",
       "<style scoped>\n",
       "    .dataframe tbody tr th:only-of-type {\n",
       "        vertical-align: middle;\n",
       "    }\n",
       "\n",
       "    .dataframe tbody tr th {\n",
       "        vertical-align: top;\n",
       "    }\n",
       "\n",
       "    .dataframe thead th {\n",
       "        text-align: right;\n",
       "    }\n",
       "</style>\n",
       "<table border=\"1\" class=\"dataframe\">\n",
       "  <thead>\n",
       "    <tr style=\"text-align: right;\">\n",
       "      <th></th>\n",
       "      <th>name</th>\n",
       "      <th>categories</th>\n",
       "      <th>city</th>\n",
       "      <th>postalCode</th>\n",
       "      <th>latitude</th>\n",
       "      <th>longitude</th>\n",
       "    </tr>\n",
       "    <tr>\n",
       "      <th>state</th>\n",
       "      <th></th>\n",
       "      <th></th>\n",
       "      <th></th>\n",
       "      <th></th>\n",
       "      <th></th>\n",
       "      <th></th>\n",
       "    </tr>\n",
       "  </thead>\n",
       "  <tbody>\n",
       "    <tr>\n",
       "      <th>AK</th>\n",
       "      <td>16</td>\n",
       "      <td>16</td>\n",
       "      <td>16</td>\n",
       "      <td>16</td>\n",
       "      <td>16</td>\n",
       "      <td>16</td>\n",
       "    </tr>\n",
       "    <tr>\n",
       "      <th>AL</th>\n",
       "      <td>6</td>\n",
       "      <td>6</td>\n",
       "      <td>6</td>\n",
       "      <td>6</td>\n",
       "      <td>6</td>\n",
       "      <td>6</td>\n",
       "    </tr>\n",
       "    <tr>\n",
       "      <th>AR</th>\n",
       "      <td>102</td>\n",
       "      <td>102</td>\n",
       "      <td>102</td>\n",
       "      <td>102</td>\n",
       "      <td>102</td>\n",
       "      <td>102</td>\n",
       "    </tr>\n",
       "    <tr>\n",
       "      <th>AZ</th>\n",
       "      <td>330</td>\n",
       "      <td>330</td>\n",
       "      <td>330</td>\n",
       "      <td>330</td>\n",
       "      <td>330</td>\n",
       "      <td>330</td>\n",
       "    </tr>\n",
       "    <tr>\n",
       "      <th>CA</th>\n",
       "      <td>1201</td>\n",
       "      <td>1201</td>\n",
       "      <td>1201</td>\n",
       "      <td>1201</td>\n",
       "      <td>1201</td>\n",
       "      <td>1201</td>\n",
       "    </tr>\n",
       "  </tbody>\n",
       "</table>\n",
       "</div>"
      ],
      "text/plain": [
       "       name  categories  city  postalCode  latitude  longitude\n",
       "state                                                         \n",
       "AK       16          16    16          16        16         16\n",
       "AL        6           6     6           6         6          6\n",
       "AR      102         102   102         102       102        102\n",
       "AZ      330         330   330         330       330        330\n",
       "CA     1201        1201  1201        1201      1201       1201"
      ]
     },
     "execution_count": 4,
     "metadata": {},
     "output_type": "execute_result"
    }
   ],
   "source": [
    "df.groupby(\"state\").count().head()"
   ]
  },
  {
   "cell_type": "code",
   "execution_count": 5,
   "metadata": {},
   "outputs": [],
   "source": [
    "top_50 = df.groupby(\"name\").size().nlargest(50).reset_index(\"name\")"
   ]
  },
  {
   "cell_type": "code",
   "execution_count": 6,
   "metadata": {},
   "outputs": [
    {
     "data": {
      "text/html": [
       "<div>\n",
       "<style scoped>\n",
       "    .dataframe tbody tr th:only-of-type {\n",
       "        vertical-align: middle;\n",
       "    }\n",
       "\n",
       "    .dataframe tbody tr th {\n",
       "        vertical-align: top;\n",
       "    }\n",
       "\n",
       "    .dataframe thead th {\n",
       "        text-align: right;\n",
       "    }\n",
       "</style>\n",
       "<table border=\"1\" class=\"dataframe\">\n",
       "  <thead>\n",
       "    <tr style=\"text-align: right;\">\n",
       "      <th></th>\n",
       "      <th>name</th>\n",
       "      <th>0</th>\n",
       "    </tr>\n",
       "  </thead>\n",
       "  <tbody>\n",
       "    <tr>\n",
       "      <th>0</th>\n",
       "      <td>McDonald's</td>\n",
       "      <td>1898</td>\n",
       "    </tr>\n",
       "    <tr>\n",
       "      <th>1</th>\n",
       "      <td>Taco Bell</td>\n",
       "      <td>1032</td>\n",
       "    </tr>\n",
       "    <tr>\n",
       "      <th>2</th>\n",
       "      <td>Burger King</td>\n",
       "      <td>833</td>\n",
       "    </tr>\n",
       "    <tr>\n",
       "      <th>3</th>\n",
       "      <td>Subway</td>\n",
       "      <td>776</td>\n",
       "    </tr>\n",
       "    <tr>\n",
       "      <th>4</th>\n",
       "      <td>Arby's</td>\n",
       "      <td>663</td>\n",
       "    </tr>\n",
       "  </tbody>\n",
       "</table>\n",
       "</div>"
      ],
      "text/plain": [
       "          name     0\n",
       "0   McDonald's  1898\n",
       "1    Taco Bell  1032\n",
       "2  Burger King   833\n",
       "3       Subway   776\n",
       "4       Arby's   663"
      ]
     },
     "execution_count": 6,
     "metadata": {},
     "output_type": "execute_result"
    }
   ],
   "source": [
    "top_50.head()"
   ]
  },
  {
   "cell_type": "code",
   "execution_count": 7,
   "metadata": {},
   "outputs": [],
   "source": [
    "top_50.rename(columns = {\"name\": \"Company\", 0 : \"Count\"}, inplace = True)"
   ]
  },
  {
   "cell_type": "code",
   "execution_count": 8,
   "metadata": {},
   "outputs": [
    {
     "data": {
      "text/html": [
       "<div>\n",
       "<style scoped>\n",
       "    .dataframe tbody tr th:only-of-type {\n",
       "        vertical-align: middle;\n",
       "    }\n",
       "\n",
       "    .dataframe tbody tr th {\n",
       "        vertical-align: top;\n",
       "    }\n",
       "\n",
       "    .dataframe thead th {\n",
       "        text-align: right;\n",
       "    }\n",
       "</style>\n",
       "<table border=\"1\" class=\"dataframe\">\n",
       "  <thead>\n",
       "    <tr style=\"text-align: right;\">\n",
       "      <th></th>\n",
       "      <th>Company</th>\n",
       "      <th>Count</th>\n",
       "    </tr>\n",
       "  </thead>\n",
       "  <tbody>\n",
       "    <tr>\n",
       "      <th>0</th>\n",
       "      <td>McDonald's</td>\n",
       "      <td>1898</td>\n",
       "    </tr>\n",
       "    <tr>\n",
       "      <th>1</th>\n",
       "      <td>Taco Bell</td>\n",
       "      <td>1032</td>\n",
       "    </tr>\n",
       "    <tr>\n",
       "      <th>2</th>\n",
       "      <td>Burger King</td>\n",
       "      <td>833</td>\n",
       "    </tr>\n",
       "    <tr>\n",
       "      <th>3</th>\n",
       "      <td>Subway</td>\n",
       "      <td>776</td>\n",
       "    </tr>\n",
       "    <tr>\n",
       "      <th>4</th>\n",
       "      <td>Arby's</td>\n",
       "      <td>663</td>\n",
       "    </tr>\n",
       "  </tbody>\n",
       "</table>\n",
       "</div>"
      ],
      "text/plain": [
       "       Company  Count\n",
       "0   McDonald's   1898\n",
       "1    Taco Bell   1032\n",
       "2  Burger King    833\n",
       "3       Subway    776\n",
       "4       Arby's    663"
      ]
     },
     "execution_count": 8,
     "metadata": {},
     "output_type": "execute_result"
    }
   ],
   "source": [
    "top_50.head()"
   ]
  },
  {
   "cell_type": "code",
   "execution_count": 10,
   "metadata": {},
   "outputs": [],
   "source": [
    "df2 = pd.read_csv(\"assets/data/Fast_Food_Sales.csv\")"
   ]
  },
  {
   "cell_type": "code",
   "execution_count": 11,
   "metadata": {},
   "outputs": [],
   "source": [
    "combined = pd.merge(top_50, df2, on = \"Company\")"
   ]
  },
  {
   "cell_type": "code",
   "execution_count": 12,
   "metadata": {},
   "outputs": [
    {
     "data": {
      "text/html": [
       "<div>\n",
       "<style scoped>\n",
       "    .dataframe tbody tr th:only-of-type {\n",
       "        vertical-align: middle;\n",
       "    }\n",
       "\n",
       "    .dataframe tbody tr th {\n",
       "        vertical-align: top;\n",
       "    }\n",
       "\n",
       "    .dataframe thead th {\n",
       "        text-align: right;\n",
       "    }\n",
       "</style>\n",
       "<table border=\"1\" class=\"dataframe\">\n",
       "  <thead>\n",
       "    <tr style=\"text-align: right;\">\n",
       "      <th></th>\n",
       "      <th>Company</th>\n",
       "      <th>Count</th>\n",
       "      <th>Category</th>\n",
       "      <th>2016 U.S. Systemwide Sales (millions)</th>\n",
       "      <th>2016 U.S. Average Sales Per Unit (thousands)</th>\n",
       "      <th>Number of Franchised Units in 2016</th>\n",
       "      <th>Number of Company Units in 2016</th>\n",
       "      <th>Total Units in 2016</th>\n",
       "    </tr>\n",
       "  </thead>\n",
       "  <tbody>\n",
       "    <tr>\n",
       "      <th>0</th>\n",
       "      <td>McDonald's</td>\n",
       "      <td>1898</td>\n",
       "      <td>Burger</td>\n",
       "      <td>36389.00</td>\n",
       "      <td>2550.00</td>\n",
       "      <td>13046</td>\n",
       "      <td>1109</td>\n",
       "      <td>14155</td>\n",
       "    </tr>\n",
       "    <tr>\n",
       "      <th>1</th>\n",
       "      <td>Taco Bell</td>\n",
       "      <td>1032</td>\n",
       "      <td>Ethnic</td>\n",
       "      <td>9353.80</td>\n",
       "      <td>1510.00</td>\n",
       "      <td>5399</td>\n",
       "      <td>879</td>\n",
       "      <td>6278</td>\n",
       "    </tr>\n",
       "    <tr>\n",
       "      <th>2</th>\n",
       "      <td>Burger King</td>\n",
       "      <td>833</td>\n",
       "      <td>Burger</td>\n",
       "      <td>9749.19</td>\n",
       "      <td>1361.43</td>\n",
       "      <td>7111</td>\n",
       "      <td>50</td>\n",
       "      <td>7161</td>\n",
       "    </tr>\n",
       "    <tr>\n",
       "      <th>3</th>\n",
       "      <td>Subway</td>\n",
       "      <td>776</td>\n",
       "      <td>Sandwich</td>\n",
       "      <td>11300.00</td>\n",
       "      <td>422.52</td>\n",
       "      <td>26744</td>\n",
       "      <td>0</td>\n",
       "      <td>26744</td>\n",
       "    </tr>\n",
       "    <tr>\n",
       "      <th>4</th>\n",
       "      <td>Arby's</td>\n",
       "      <td>663</td>\n",
       "      <td>Sandwich</td>\n",
       "      <td>3600.00</td>\n",
       "      <td>1117.00</td>\n",
       "      <td>2314</td>\n",
       "      <td>1044</td>\n",
       "      <td>3358</td>\n",
       "    </tr>\n",
       "    <tr>\n",
       "      <th>5</th>\n",
       "      <td>Wendy's</td>\n",
       "      <td>628</td>\n",
       "      <td>Burger</td>\n",
       "      <td>9510.00</td>\n",
       "      <td>1454.80</td>\n",
       "      <td>6207</td>\n",
       "      <td>330</td>\n",
       "      <td>6537</td>\n",
       "    </tr>\n",
       "    <tr>\n",
       "      <th>6</th>\n",
       "      <td>Jack in the Box</td>\n",
       "      <td>330</td>\n",
       "      <td>Burger</td>\n",
       "      <td>3445.00</td>\n",
       "      <td>1530.00</td>\n",
       "      <td>1838</td>\n",
       "      <td>417</td>\n",
       "      <td>2255</td>\n",
       "    </tr>\n",
       "    <tr>\n",
       "      <th>7</th>\n",
       "      <td>Pizza Hut</td>\n",
       "      <td>230</td>\n",
       "      <td>Pizza</td>\n",
       "      <td>5751.40</td>\n",
       "      <td>740.00</td>\n",
       "      <td>7371</td>\n",
       "      <td>318</td>\n",
       "      <td>7689</td>\n",
       "    </tr>\n",
       "    <tr>\n",
       "      <th>8</th>\n",
       "      <td>Dairy Queen</td>\n",
       "      <td>218</td>\n",
       "      <td>Snack</td>\n",
       "      <td>3621.00</td>\n",
       "      <td>1268.05</td>\n",
       "      <td>4515</td>\n",
       "      <td>2</td>\n",
       "      <td>4517</td>\n",
       "    </tr>\n",
       "    <tr>\n",
       "      <th>9</th>\n",
       "      <td>Chick-fil-A</td>\n",
       "      <td>206</td>\n",
       "      <td>Chicken</td>\n",
       "      <td>7973.50</td>\n",
       "      <td>4407.10</td>\n",
       "      <td>1730</td>\n",
       "      <td>372</td>\n",
       "      <td>2102</td>\n",
       "    </tr>\n",
       "    <tr>\n",
       "      <th>10</th>\n",
       "      <td>KFC</td>\n",
       "      <td>162</td>\n",
       "      <td>Chicken</td>\n",
       "      <td>4483.30</td>\n",
       "      <td>1060.00</td>\n",
       "      <td>3966</td>\n",
       "      <td>201</td>\n",
       "      <td>4167</td>\n",
       "    </tr>\n",
       "    <tr>\n",
       "      <th>11</th>\n",
       "      <td>Jimmy John's</td>\n",
       "      <td>119</td>\n",
       "      <td>Sandwich</td>\n",
       "      <td>2146.60</td>\n",
       "      <td>841.70</td>\n",
       "      <td>2584</td>\n",
       "      <td>63</td>\n",
       "      <td>2647</td>\n",
       "    </tr>\n",
       "    <tr>\n",
       "      <th>12</th>\n",
       "      <td>Panera Bread</td>\n",
       "      <td>76</td>\n",
       "      <td>Sandwich</td>\n",
       "      <td>5200.00</td>\n",
       "      <td>2700.00</td>\n",
       "      <td>1134</td>\n",
       "      <td>908</td>\n",
       "      <td>2042</td>\n",
       "    </tr>\n",
       "    <tr>\n",
       "      <th>13</th>\n",
       "      <td>Culver's</td>\n",
       "      <td>71</td>\n",
       "      <td>Burger</td>\n",
       "      <td>1301.38</td>\n",
       "      <td>2252.20</td>\n",
       "      <td>597</td>\n",
       "      <td>8</td>\n",
       "      <td>605</td>\n",
       "    </tr>\n",
       "    <tr>\n",
       "      <th>14</th>\n",
       "      <td>Dunkin' Donuts</td>\n",
       "      <td>71</td>\n",
       "      <td>Snack</td>\n",
       "      <td>8200.00</td>\n",
       "      <td>928.86</td>\n",
       "      <td>8828</td>\n",
       "      <td>0</td>\n",
       "      <td>8828</td>\n",
       "    </tr>\n",
       "    <tr>\n",
       "      <th>15</th>\n",
       "      <td>Del Taco</td>\n",
       "      <td>66</td>\n",
       "      <td>Ethnic</td>\n",
       "      <td>738.08</td>\n",
       "      <td>1359.00</td>\n",
       "      <td>310</td>\n",
       "      <td>241</td>\n",
       "      <td>551</td>\n",
       "    </tr>\n",
       "    <tr>\n",
       "      <th>16</th>\n",
       "      <td>Panda Express</td>\n",
       "      <td>61</td>\n",
       "      <td>Ethnic</td>\n",
       "      <td>2903.04</td>\n",
       "      <td>1606.00</td>\n",
       "      <td>95</td>\n",
       "      <td>1798</td>\n",
       "      <td>1893</td>\n",
       "    </tr>\n",
       "    <tr>\n",
       "      <th>17</th>\n",
       "      <td>In-N-Out Burger</td>\n",
       "      <td>54</td>\n",
       "      <td>Burger</td>\n",
       "      <td>630.03</td>\n",
       "      <td>1975.00</td>\n",
       "      <td>0</td>\n",
       "      <td>319</td>\n",
       "      <td>319</td>\n",
       "    </tr>\n",
       "    <tr>\n",
       "      <th>18</th>\n",
       "      <td>Boston Market</td>\n",
       "      <td>42</td>\n",
       "      <td>Chicken</td>\n",
       "      <td>659.16</td>\n",
       "      <td>1426.74</td>\n",
       "      <td>5</td>\n",
       "      <td>457</td>\n",
       "      <td>462</td>\n",
       "    </tr>\n",
       "    <tr>\n",
       "      <th>19</th>\n",
       "      <td>Whataburger</td>\n",
       "      <td>41</td>\n",
       "      <td>Burger</td>\n",
       "      <td>2181.35</td>\n",
       "      <td>2706.00</td>\n",
       "      <td>122</td>\n",
       "      <td>684</td>\n",
       "      <td>806</td>\n",
       "    </tr>\n",
       "    <tr>\n",
       "      <th>20</th>\n",
       "      <td>Church's Chicken</td>\n",
       "      <td>27</td>\n",
       "      <td>Chicken</td>\n",
       "      <td>800.27</td>\n",
       "      <td>724.00</td>\n",
       "      <td>838</td>\n",
       "      <td>238</td>\n",
       "      <td>1076</td>\n",
       "    </tr>\n",
       "    <tr>\n",
       "      <th>21</th>\n",
       "      <td>White Castle</td>\n",
       "      <td>27</td>\n",
       "      <td>Burger</td>\n",
       "      <td>716.71</td>\n",
       "      <td>1434.52</td>\n",
       "      <td>0</td>\n",
       "      <td>384</td>\n",
       "      <td>384</td>\n",
       "    </tr>\n",
       "    <tr>\n",
       "      <th>22</th>\n",
       "      <td>Baskin-Robbins</td>\n",
       "      <td>26</td>\n",
       "      <td>Snack</td>\n",
       "      <td>603.60</td>\n",
       "      <td>237.83</td>\n",
       "      <td>2538</td>\n",
       "      <td>0</td>\n",
       "      <td>2538</td>\n",
       "    </tr>\n",
       "    <tr>\n",
       "      <th>23</th>\n",
       "      <td>El Pollo Loco</td>\n",
       "      <td>23</td>\n",
       "      <td>Chicken</td>\n",
       "      <td>795.44</td>\n",
       "      <td>1988.00</td>\n",
       "      <td>259</td>\n",
       "      <td>201</td>\n",
       "      <td>460</td>\n",
       "    </tr>\n",
       "    <tr>\n",
       "      <th>24</th>\n",
       "      <td>Five Guys</td>\n",
       "      <td>22</td>\n",
       "      <td>Burger</td>\n",
       "      <td>1382.01</td>\n",
       "      <td>1038.24</td>\n",
       "      <td>914</td>\n",
       "      <td>507</td>\n",
       "      <td>1421</td>\n",
       "    </tr>\n",
       "    <tr>\n",
       "      <th>25</th>\n",
       "      <td>Sonic</td>\n",
       "      <td>20</td>\n",
       "      <td>Burger</td>\n",
       "      <td>4504.14</td>\n",
       "      <td>1284.00</td>\n",
       "      <td>3201</td>\n",
       "      <td>356</td>\n",
       "      <td>3557</td>\n",
       "    </tr>\n",
       "  </tbody>\n",
       "</table>\n",
       "</div>"
      ],
      "text/plain": [
       "             Company  Count  Category  2016 U.S. Systemwide Sales (millions)  \\\n",
       "0         McDonald's   1898    Burger                               36389.00   \n",
       "1          Taco Bell   1032    Ethnic                                9353.80   \n",
       "2        Burger King    833    Burger                                9749.19   \n",
       "3             Subway    776  Sandwich                               11300.00   \n",
       "4             Arby's    663  Sandwich                                3600.00   \n",
       "5            Wendy's    628    Burger                                9510.00   \n",
       "6    Jack in the Box    330    Burger                                3445.00   \n",
       "7          Pizza Hut    230     Pizza                                5751.40   \n",
       "8        Dairy Queen    218     Snack                                3621.00   \n",
       "9        Chick-fil-A    206   Chicken                                7973.50   \n",
       "10               KFC    162   Chicken                                4483.30   \n",
       "11      Jimmy John's    119  Sandwich                                2146.60   \n",
       "12      Panera Bread     76  Sandwich                                5200.00   \n",
       "13          Culver's     71    Burger                                1301.38   \n",
       "14    Dunkin' Donuts     71     Snack                                8200.00   \n",
       "15          Del Taco     66    Ethnic                                 738.08   \n",
       "16     Panda Express     61    Ethnic                                2903.04   \n",
       "17   In-N-Out Burger     54    Burger                                 630.03   \n",
       "18     Boston Market     42   Chicken                                 659.16   \n",
       "19       Whataburger     41    Burger                                2181.35   \n",
       "20  Church's Chicken     27   Chicken                                 800.27   \n",
       "21      White Castle     27    Burger                                 716.71   \n",
       "22    Baskin-Robbins     26     Snack                                 603.60   \n",
       "23     El Pollo Loco     23   Chicken                                 795.44   \n",
       "24         Five Guys     22    Burger                                1382.01   \n",
       "25             Sonic     20    Burger                                4504.14   \n",
       "\n",
       "    2016 U.S. Average Sales Per Unit (thousands)  \\\n",
       "0                                        2550.00   \n",
       "1                                        1510.00   \n",
       "2                                        1361.43   \n",
       "3                                         422.52   \n",
       "4                                        1117.00   \n",
       "5                                        1454.80   \n",
       "6                                        1530.00   \n",
       "7                                         740.00   \n",
       "8                                        1268.05   \n",
       "9                                        4407.10   \n",
       "10                                       1060.00   \n",
       "11                                        841.70   \n",
       "12                                       2700.00   \n",
       "13                                       2252.20   \n",
       "14                                        928.86   \n",
       "15                                       1359.00   \n",
       "16                                       1606.00   \n",
       "17                                       1975.00   \n",
       "18                                       1426.74   \n",
       "19                                       2706.00   \n",
       "20                                        724.00   \n",
       "21                                       1434.52   \n",
       "22                                        237.83   \n",
       "23                                       1988.00   \n",
       "24                                       1038.24   \n",
       "25                                       1284.00   \n",
       "\n",
       "    Number of Franchised Units in 2016  Number of Company Units in 2016  \\\n",
       "0                                13046                             1109   \n",
       "1                                 5399                              879   \n",
       "2                                 7111                               50   \n",
       "3                                26744                                0   \n",
       "4                                 2314                             1044   \n",
       "5                                 6207                              330   \n",
       "6                                 1838                              417   \n",
       "7                                 7371                              318   \n",
       "8                                 4515                                2   \n",
       "9                                 1730                              372   \n",
       "10                                3966                              201   \n",
       "11                                2584                               63   \n",
       "12                                1134                              908   \n",
       "13                                 597                                8   \n",
       "14                                8828                                0   \n",
       "15                                 310                              241   \n",
       "16                                  95                             1798   \n",
       "17                                   0                              319   \n",
       "18                                   5                              457   \n",
       "19                                 122                              684   \n",
       "20                                 838                              238   \n",
       "21                                   0                              384   \n",
       "22                                2538                                0   \n",
       "23                                 259                              201   \n",
       "24                                 914                              507   \n",
       "25                                3201                              356   \n",
       "\n",
       "    Total Units in 2016  \n",
       "0                 14155  \n",
       "1                  6278  \n",
       "2                  7161  \n",
       "3                 26744  \n",
       "4                  3358  \n",
       "5                  6537  \n",
       "6                  2255  \n",
       "7                  7689  \n",
       "8                  4517  \n",
       "9                  2102  \n",
       "10                 4167  \n",
       "11                 2647  \n",
       "12                 2042  \n",
       "13                  605  \n",
       "14                 8828  \n",
       "15                  551  \n",
       "16                 1893  \n",
       "17                  319  \n",
       "18                  462  \n",
       "19                  806  \n",
       "20                 1076  \n",
       "21                  384  \n",
       "22                 2538  \n",
       "23                  460  \n",
       "24                 1421  \n",
       "25                 3557  "
      ]
     },
     "execution_count": 12,
     "metadata": {},
     "output_type": "execute_result"
    }
   ],
   "source": [
    "# Only a fraction of stores (\"Count\") is captured in the larger 10,000-row dataset and there's only \n",
    "# a 25-restaurant overlap between it and the sales data\n",
    "combined"
   ]
  },
  {
   "cell_type": "code",
   "execution_count": 13,
   "metadata": {},
   "outputs": [],
   "source": [
    "combined.to_csv(\"assets/data/Top25.csv\")"
   ]
  },
  {
   "cell_type": "code",
   "execution_count": 14,
   "metadata": {},
   "outputs": [
    {
     "data": {
      "text/plain": [
       "state\n",
       "CA    1201\n",
       "TX     811\n",
       "FL     621\n",
       "OH     522\n",
       "GA     420\n",
       "IL     405\n",
       "PA     383\n",
       "MI     374\n",
       "NY     352\n",
       "AZ     330\n",
       "TN     302\n",
       "NC     295\n",
       "IN     254\n",
       "VA     253\n",
       "MA     205\n",
       "LA     202\n",
       "MN     199\n",
       "WA     196\n",
       "WI     189\n",
       "SC     188\n",
       "MD     172\n",
       "OK     166\n",
       "KY     166\n",
       "MO     163\n",
       "OR     154\n",
       "CO     148\n",
       "NJ     129\n",
       "NV     121\n",
       "IA     115\n",
       "AR     102\n",
       "NE      87\n",
       "NM      78\n",
       "KS      74\n",
       "WV      70\n",
       "UT      63\n",
       "MS      55\n",
       "CT      53\n",
       "ID      51\n",
       "DE      44\n",
       "SD      42\n",
       "MT      38\n",
       "ND      35\n",
       "NH      34\n",
       "HI      32\n",
       "WY      29\n",
       "ME      25\n",
       "AK      16\n",
       "VT      15\n",
       "RI      15\n",
       "AL       6\n",
       "dtype: int64"
      ]
     },
     "execution_count": 14,
     "metadata": {},
     "output_type": "execute_result"
    }
   ],
   "source": [
    "# It appears that some states are underrepresented; Mississippi only has 55 restaurants in the large dataset\n",
    "# and Alabama only has 6. \n",
    "df.groupby(\"state\").size().nlargest(50)"
   ]
  },
  {
   "cell_type": "code",
   "execution_count": 15,
   "metadata": {},
   "outputs": [
    {
     "data": {
      "text/html": [
       "<div>\n",
       "<style scoped>\n",
       "    .dataframe tbody tr th:only-of-type {\n",
       "        vertical-align: middle;\n",
       "    }\n",
       "\n",
       "    .dataframe tbody tr th {\n",
       "        vertical-align: top;\n",
       "    }\n",
       "\n",
       "    .dataframe thead th {\n",
       "        text-align: right;\n",
       "    }\n",
       "</style>\n",
       "<table border=\"1\" class=\"dataframe\">\n",
       "  <thead>\n",
       "    <tr style=\"text-align: right;\">\n",
       "      <th></th>\n",
       "      <th>Company</th>\n",
       "      <th>Count</th>\n",
       "      <th>Category</th>\n",
       "      <th>2016 U.S. Systemwide Sales (millions)</th>\n",
       "      <th>2016 U.S. Average Sales Per Unit (thousands)</th>\n",
       "      <th>Number of Franchised Units in 2016</th>\n",
       "      <th>Number of Company Units in 2016</th>\n",
       "      <th>Total Units in 2016</th>\n",
       "    </tr>\n",
       "  </thead>\n",
       "  <tbody>\n",
       "    <tr>\n",
       "      <th>0</th>\n",
       "      <td>McDonald's</td>\n",
       "      <td>1898</td>\n",
       "      <td>Burger</td>\n",
       "      <td>36389.00</td>\n",
       "      <td>2550.00</td>\n",
       "      <td>13046</td>\n",
       "      <td>1109</td>\n",
       "      <td>14155</td>\n",
       "    </tr>\n",
       "    <tr>\n",
       "      <th>3</th>\n",
       "      <td>Subway</td>\n",
       "      <td>776</td>\n",
       "      <td>Sandwich</td>\n",
       "      <td>11300.00</td>\n",
       "      <td>422.52</td>\n",
       "      <td>26744</td>\n",
       "      <td>0</td>\n",
       "      <td>26744</td>\n",
       "    </tr>\n",
       "    <tr>\n",
       "      <th>2</th>\n",
       "      <td>Burger King</td>\n",
       "      <td>833</td>\n",
       "      <td>Burger</td>\n",
       "      <td>9749.19</td>\n",
       "      <td>1361.43</td>\n",
       "      <td>7111</td>\n",
       "      <td>50</td>\n",
       "      <td>7161</td>\n",
       "    </tr>\n",
       "    <tr>\n",
       "      <th>5</th>\n",
       "      <td>Wendy's</td>\n",
       "      <td>628</td>\n",
       "      <td>Burger</td>\n",
       "      <td>9510.00</td>\n",
       "      <td>1454.80</td>\n",
       "      <td>6207</td>\n",
       "      <td>330</td>\n",
       "      <td>6537</td>\n",
       "    </tr>\n",
       "    <tr>\n",
       "      <th>1</th>\n",
       "      <td>Taco Bell</td>\n",
       "      <td>1032</td>\n",
       "      <td>Ethnic</td>\n",
       "      <td>9353.80</td>\n",
       "      <td>1510.00</td>\n",
       "      <td>5399</td>\n",
       "      <td>879</td>\n",
       "      <td>6278</td>\n",
       "    </tr>\n",
       "  </tbody>\n",
       "</table>\n",
       "</div>"
      ],
      "text/plain": [
       "       Company  Count  Category  2016 U.S. Systemwide Sales (millions)  \\\n",
       "0   McDonald's   1898    Burger                               36389.00   \n",
       "3       Subway    776  Sandwich                               11300.00   \n",
       "2  Burger King    833    Burger                                9749.19   \n",
       "5      Wendy's    628    Burger                                9510.00   \n",
       "1    Taco Bell   1032    Ethnic                                9353.80   \n",
       "\n",
       "   2016 U.S. Average Sales Per Unit (thousands)  \\\n",
       "0                                       2550.00   \n",
       "3                                        422.52   \n",
       "2                                       1361.43   \n",
       "5                                       1454.80   \n",
       "1                                       1510.00   \n",
       "\n",
       "   Number of Franchised Units in 2016  Number of Company Units in 2016  \\\n",
       "0                               13046                             1109   \n",
       "3                               26744                                0   \n",
       "2                                7111                               50   \n",
       "5                                6207                              330   \n",
       "1                                5399                              879   \n",
       "\n",
       "   Total Units in 2016  \n",
       "0                14155  \n",
       "3                26744  \n",
       "2                 7161  \n",
       "5                 6537  \n",
       "1                 6278  "
      ]
     },
     "execution_count": 15,
     "metadata": {},
     "output_type": "execute_result"
    }
   ],
   "source": [
    "# Sorting top five by total sales\n",
    "combined.sort_values(\"2016 U.S. Systemwide Sales (millions)\", ascending = False).head()"
   ]
  },
  {
   "cell_type": "code",
   "execution_count": 16,
   "metadata": {},
   "outputs": [
    {
     "data": {
      "text/html": [
       "<div>\n",
       "<style scoped>\n",
       "    .dataframe tbody tr th:only-of-type {\n",
       "        vertical-align: middle;\n",
       "    }\n",
       "\n",
       "    .dataframe tbody tr th {\n",
       "        vertical-align: top;\n",
       "    }\n",
       "\n",
       "    .dataframe thead th {\n",
       "        text-align: right;\n",
       "    }\n",
       "</style>\n",
       "<table border=\"1\" class=\"dataframe\">\n",
       "  <thead>\n",
       "    <tr style=\"text-align: right;\">\n",
       "      <th></th>\n",
       "      <th>Company</th>\n",
       "      <th>Count</th>\n",
       "      <th>Category</th>\n",
       "      <th>2016 U.S. Systemwide Sales (millions)</th>\n",
       "      <th>2016 U.S. Average Sales Per Unit (thousands)</th>\n",
       "      <th>Number of Franchised Units in 2016</th>\n",
       "      <th>Number of Company Units in 2016</th>\n",
       "      <th>Total Units in 2016</th>\n",
       "    </tr>\n",
       "  </thead>\n",
       "  <tbody>\n",
       "    <tr>\n",
       "      <th>9</th>\n",
       "      <td>Chick-fil-A</td>\n",
       "      <td>206</td>\n",
       "      <td>Chicken</td>\n",
       "      <td>7973.50</td>\n",
       "      <td>4407.1</td>\n",
       "      <td>1730</td>\n",
       "      <td>372</td>\n",
       "      <td>2102</td>\n",
       "    </tr>\n",
       "    <tr>\n",
       "      <th>19</th>\n",
       "      <td>Whataburger</td>\n",
       "      <td>41</td>\n",
       "      <td>Burger</td>\n",
       "      <td>2181.35</td>\n",
       "      <td>2706.0</td>\n",
       "      <td>122</td>\n",
       "      <td>684</td>\n",
       "      <td>806</td>\n",
       "    </tr>\n",
       "    <tr>\n",
       "      <th>12</th>\n",
       "      <td>Panera Bread</td>\n",
       "      <td>76</td>\n",
       "      <td>Sandwich</td>\n",
       "      <td>5200.00</td>\n",
       "      <td>2700.0</td>\n",
       "      <td>1134</td>\n",
       "      <td>908</td>\n",
       "      <td>2042</td>\n",
       "    </tr>\n",
       "    <tr>\n",
       "      <th>0</th>\n",
       "      <td>McDonald's</td>\n",
       "      <td>1898</td>\n",
       "      <td>Burger</td>\n",
       "      <td>36389.00</td>\n",
       "      <td>2550.0</td>\n",
       "      <td>13046</td>\n",
       "      <td>1109</td>\n",
       "      <td>14155</td>\n",
       "    </tr>\n",
       "    <tr>\n",
       "      <th>13</th>\n",
       "      <td>Culver's</td>\n",
       "      <td>71</td>\n",
       "      <td>Burger</td>\n",
       "      <td>1301.38</td>\n",
       "      <td>2252.2</td>\n",
       "      <td>597</td>\n",
       "      <td>8</td>\n",
       "      <td>605</td>\n",
       "    </tr>\n",
       "  </tbody>\n",
       "</table>\n",
       "</div>"
      ],
      "text/plain": [
       "         Company  Count  Category  2016 U.S. Systemwide Sales (millions)  \\\n",
       "9    Chick-fil-A    206   Chicken                                7973.50   \n",
       "19   Whataburger     41    Burger                                2181.35   \n",
       "12  Panera Bread     76  Sandwich                                5200.00   \n",
       "0     McDonald's   1898    Burger                               36389.00   \n",
       "13      Culver's     71    Burger                                1301.38   \n",
       "\n",
       "    2016 U.S. Average Sales Per Unit (thousands)  \\\n",
       "9                                         4407.1   \n",
       "19                                        2706.0   \n",
       "12                                        2700.0   \n",
       "0                                         2550.0   \n",
       "13                                        2252.2   \n",
       "\n",
       "    Number of Franchised Units in 2016  Number of Company Units in 2016  \\\n",
       "9                                 1730                              372   \n",
       "19                                 122                              684   \n",
       "12                                1134                              908   \n",
       "0                                13046                             1109   \n",
       "13                                 597                                8   \n",
       "\n",
       "    Total Units in 2016  \n",
       "9                  2102  \n",
       "19                  806  \n",
       "12                 2042  \n",
       "0                 14155  \n",
       "13                  605  "
      ]
     },
     "execution_count": 16,
     "metadata": {},
     "output_type": "execute_result"
    }
   ],
   "source": [
    "# Sorting top five by average sales per unit\n",
    "combined.sort_values(\"2016 U.S. Average Sales Per Unit (thousands)\", ascending = False).head()"
   ]
  },
  {
   "cell_type": "code",
   "execution_count": 17,
   "metadata": {},
   "outputs": [
    {
     "data": {
      "text/html": [
       "<div>\n",
       "<style scoped>\n",
       "    .dataframe tbody tr th:only-of-type {\n",
       "        vertical-align: middle;\n",
       "    }\n",
       "\n",
       "    .dataframe tbody tr th {\n",
       "        vertical-align: top;\n",
       "    }\n",
       "\n",
       "    .dataframe thead th {\n",
       "        text-align: right;\n",
       "    }\n",
       "</style>\n",
       "<table border=\"1\" class=\"dataframe\">\n",
       "  <thead>\n",
       "    <tr style=\"text-align: right;\">\n",
       "      <th></th>\n",
       "      <th>Company</th>\n",
       "      <th>Count</th>\n",
       "      <th>Category</th>\n",
       "      <th>2016 U.S. Systemwide Sales (millions)</th>\n",
       "      <th>2016 U.S. Average Sales Per Unit (thousands)</th>\n",
       "      <th>Number of Franchised Units in 2016</th>\n",
       "      <th>Number of Company Units in 2016</th>\n",
       "      <th>Total Units in 2016</th>\n",
       "    </tr>\n",
       "  </thead>\n",
       "  <tbody>\n",
       "    <tr>\n",
       "      <th>3</th>\n",
       "      <td>Subway</td>\n",
       "      <td>776</td>\n",
       "      <td>Sandwich</td>\n",
       "      <td>11300.00</td>\n",
       "      <td>422.52</td>\n",
       "      <td>26744</td>\n",
       "      <td>0</td>\n",
       "      <td>26744</td>\n",
       "    </tr>\n",
       "    <tr>\n",
       "      <th>0</th>\n",
       "      <td>McDonald's</td>\n",
       "      <td>1898</td>\n",
       "      <td>Burger</td>\n",
       "      <td>36389.00</td>\n",
       "      <td>2550.00</td>\n",
       "      <td>13046</td>\n",
       "      <td>1109</td>\n",
       "      <td>14155</td>\n",
       "    </tr>\n",
       "    <tr>\n",
       "      <th>14</th>\n",
       "      <td>Dunkin' Donuts</td>\n",
       "      <td>71</td>\n",
       "      <td>Snack</td>\n",
       "      <td>8200.00</td>\n",
       "      <td>928.86</td>\n",
       "      <td>8828</td>\n",
       "      <td>0</td>\n",
       "      <td>8828</td>\n",
       "    </tr>\n",
       "    <tr>\n",
       "      <th>7</th>\n",
       "      <td>Pizza Hut</td>\n",
       "      <td>230</td>\n",
       "      <td>Pizza</td>\n",
       "      <td>5751.40</td>\n",
       "      <td>740.00</td>\n",
       "      <td>7371</td>\n",
       "      <td>318</td>\n",
       "      <td>7689</td>\n",
       "    </tr>\n",
       "    <tr>\n",
       "      <th>2</th>\n",
       "      <td>Burger King</td>\n",
       "      <td>833</td>\n",
       "      <td>Burger</td>\n",
       "      <td>9749.19</td>\n",
       "      <td>1361.43</td>\n",
       "      <td>7111</td>\n",
       "      <td>50</td>\n",
       "      <td>7161</td>\n",
       "    </tr>\n",
       "  </tbody>\n",
       "</table>\n",
       "</div>"
      ],
      "text/plain": [
       "           Company  Count  Category  2016 U.S. Systemwide Sales (millions)  \\\n",
       "3           Subway    776  Sandwich                               11300.00   \n",
       "0       McDonald's   1898    Burger                               36389.00   \n",
       "14  Dunkin' Donuts     71     Snack                                8200.00   \n",
       "7        Pizza Hut    230     Pizza                                5751.40   \n",
       "2      Burger King    833    Burger                                9749.19   \n",
       "\n",
       "    2016 U.S. Average Sales Per Unit (thousands)  \\\n",
       "3                                         422.52   \n",
       "0                                        2550.00   \n",
       "14                                        928.86   \n",
       "7                                         740.00   \n",
       "2                                        1361.43   \n",
       "\n",
       "    Number of Franchised Units in 2016  Number of Company Units in 2016  \\\n",
       "3                                26744                                0   \n",
       "0                                13046                             1109   \n",
       "14                                8828                                0   \n",
       "7                                 7371                              318   \n",
       "2                                 7111                               50   \n",
       "\n",
       "    Total Units in 2016  \n",
       "3                 26744  \n",
       "0                 14155  \n",
       "14                 8828  \n",
       "7                  7689  \n",
       "2                  7161  "
      ]
     },
     "execution_count": 17,
     "metadata": {},
     "output_type": "execute_result"
    }
   ],
   "source": [
    "# Sorting top five by number of units (which also shows where data is missing in larger dataset)\n",
    "combined.sort_values(\"Total Units in 2016\", ascending = False).head()"
   ]
  },
  {
   "cell_type": "code",
   "execution_count": 18,
   "metadata": {},
   "outputs": [],
   "source": [
    "top_5_units = combined.sort_values(\"Total Units in 2016\", ascending = False).head()"
   ]
  },
  {
   "cell_type": "code",
   "execution_count": 19,
   "metadata": {},
   "outputs": [
    {
     "data": {
      "text/html": [
       "<div>\n",
       "<style scoped>\n",
       "    .dataframe tbody tr th:only-of-type {\n",
       "        vertical-align: middle;\n",
       "    }\n",
       "\n",
       "    .dataframe tbody tr th {\n",
       "        vertical-align: top;\n",
       "    }\n",
       "\n",
       "    .dataframe thead th {\n",
       "        text-align: right;\n",
       "    }\n",
       "</style>\n",
       "<table border=\"1\" class=\"dataframe\">\n",
       "  <thead>\n",
       "    <tr style=\"text-align: right;\">\n",
       "      <th></th>\n",
       "      <th>Company</th>\n",
       "      <th>Count</th>\n",
       "      <th>Category</th>\n",
       "      <th>2016 U.S. Systemwide Sales (millions)</th>\n",
       "      <th>2016 U.S. Average Sales Per Unit (thousands)</th>\n",
       "      <th>Number of Franchised Units in 2016</th>\n",
       "      <th>Number of Company Units in 2016</th>\n",
       "      <th>Total Units in 2016</th>\n",
       "    </tr>\n",
       "  </thead>\n",
       "  <tbody>\n",
       "    <tr>\n",
       "      <th>3</th>\n",
       "      <td>Subway</td>\n",
       "      <td>776</td>\n",
       "      <td>Sandwich</td>\n",
       "      <td>11300.00</td>\n",
       "      <td>422.52</td>\n",
       "      <td>26744</td>\n",
       "      <td>0</td>\n",
       "      <td>26744</td>\n",
       "    </tr>\n",
       "    <tr>\n",
       "      <th>0</th>\n",
       "      <td>McDonald's</td>\n",
       "      <td>1898</td>\n",
       "      <td>Burger</td>\n",
       "      <td>36389.00</td>\n",
       "      <td>2550.00</td>\n",
       "      <td>13046</td>\n",
       "      <td>1109</td>\n",
       "      <td>14155</td>\n",
       "    </tr>\n",
       "    <tr>\n",
       "      <th>14</th>\n",
       "      <td>Dunkin' Donuts</td>\n",
       "      <td>71</td>\n",
       "      <td>Snack</td>\n",
       "      <td>8200.00</td>\n",
       "      <td>928.86</td>\n",
       "      <td>8828</td>\n",
       "      <td>0</td>\n",
       "      <td>8828</td>\n",
       "    </tr>\n",
       "    <tr>\n",
       "      <th>7</th>\n",
       "      <td>Pizza Hut</td>\n",
       "      <td>230</td>\n",
       "      <td>Pizza</td>\n",
       "      <td>5751.40</td>\n",
       "      <td>740.00</td>\n",
       "      <td>7371</td>\n",
       "      <td>318</td>\n",
       "      <td>7689</td>\n",
       "    </tr>\n",
       "    <tr>\n",
       "      <th>2</th>\n",
       "      <td>Burger King</td>\n",
       "      <td>833</td>\n",
       "      <td>Burger</td>\n",
       "      <td>9749.19</td>\n",
       "      <td>1361.43</td>\n",
       "      <td>7111</td>\n",
       "      <td>50</td>\n",
       "      <td>7161</td>\n",
       "    </tr>\n",
       "  </tbody>\n",
       "</table>\n",
       "</div>"
      ],
      "text/plain": [
       "           Company  Count  Category  2016 U.S. Systemwide Sales (millions)  \\\n",
       "3           Subway    776  Sandwich                               11300.00   \n",
       "0       McDonald's   1898    Burger                               36389.00   \n",
       "14  Dunkin' Donuts     71     Snack                                8200.00   \n",
       "7        Pizza Hut    230     Pizza                                5751.40   \n",
       "2      Burger King    833    Burger                                9749.19   \n",
       "\n",
       "    2016 U.S. Average Sales Per Unit (thousands)  \\\n",
       "3                                         422.52   \n",
       "0                                        2550.00   \n",
       "14                                        928.86   \n",
       "7                                         740.00   \n",
       "2                                        1361.43   \n",
       "\n",
       "    Number of Franchised Units in 2016  Number of Company Units in 2016  \\\n",
       "3                                26744                                0   \n",
       "0                                13046                             1109   \n",
       "14                                8828                                0   \n",
       "7                                 7371                              318   \n",
       "2                                 7111                               50   \n",
       "\n",
       "    Total Units in 2016  \n",
       "3                 26744  \n",
       "0                 14155  \n",
       "14                 8828  \n",
       "7                  7689  \n",
       "2                  7161  "
      ]
     },
     "execution_count": 19,
     "metadata": {},
     "output_type": "execute_result"
    }
   ],
   "source": [
    "top_5_units"
   ]
  },
  {
   "cell_type": "code",
   "execution_count": 125,
   "metadata": {},
   "outputs": [
    {
     "data": {
      "text/html": [
       "<div>\n",
       "<style scoped>\n",
       "    .dataframe tbody tr th:only-of-type {\n",
       "        vertical-align: middle;\n",
       "    }\n",
       "\n",
       "    .dataframe tbody tr th {\n",
       "        vertical-align: top;\n",
       "    }\n",
       "\n",
       "    .dataframe thead th {\n",
       "        text-align: right;\n",
       "    }\n",
       "</style>\n",
       "<table border=\"1\" class=\"dataframe\">\n",
       "  <thead>\n",
       "    <tr style=\"text-align: right;\">\n",
       "      <th></th>\n",
       "      <th>Company</th>\n",
       "      <th>Category</th>\n",
       "      <th>2016 U.S. Systemwide Sales (millions)</th>\n",
       "      <th>2016 U.S. Average Sales Per Unit (thousands)</th>\n",
       "      <th>Number of Franchised Units in 2016</th>\n",
       "      <th>Number of Company Units in 2016</th>\n",
       "      <th>Total Units in 2016</th>\n",
       "    </tr>\n",
       "  </thead>\n",
       "  <tbody>\n",
       "    <tr>\n",
       "      <th>0</th>\n",
       "      <td>McDonald's</td>\n",
       "      <td>Burger</td>\n",
       "      <td>36389.00</td>\n",
       "      <td>2550.00</td>\n",
       "      <td>13046</td>\n",
       "      <td>1109</td>\n",
       "      <td>14155</td>\n",
       "    </tr>\n",
       "    <tr>\n",
       "      <th>1</th>\n",
       "      <td>Starbucks</td>\n",
       "      <td>Snack</td>\n",
       "      <td>14795.40</td>\n",
       "      <td>1123.25</td>\n",
       "      <td>5292</td>\n",
       "      <td>7880</td>\n",
       "      <td>13172</td>\n",
       "    </tr>\n",
       "    <tr>\n",
       "      <th>2</th>\n",
       "      <td>Subway</td>\n",
       "      <td>Sandwich</td>\n",
       "      <td>11300.00</td>\n",
       "      <td>422.52</td>\n",
       "      <td>26744</td>\n",
       "      <td>0</td>\n",
       "      <td>26744</td>\n",
       "    </tr>\n",
       "    <tr>\n",
       "      <th>3</th>\n",
       "      <td>Wendy's</td>\n",
       "      <td>Burger</td>\n",
       "      <td>9510.00</td>\n",
       "      <td>1454.80</td>\n",
       "      <td>6207</td>\n",
       "      <td>330</td>\n",
       "      <td>6537</td>\n",
       "    </tr>\n",
       "    <tr>\n",
       "      <th>4</th>\n",
       "      <td>Burger King</td>\n",
       "      <td>Burger</td>\n",
       "      <td>9749.19</td>\n",
       "      <td>1361.43</td>\n",
       "      <td>7111</td>\n",
       "      <td>50</td>\n",
       "      <td>7161</td>\n",
       "    </tr>\n",
       "  </tbody>\n",
       "</table>\n",
       "</div>"
      ],
      "text/plain": [
       "       Company  Category  2016 U.S. Systemwide Sales (millions)  \\\n",
       "0   McDonald's    Burger                               36389.00   \n",
       "1    Starbucks     Snack                               14795.40   \n",
       "2       Subway  Sandwich                               11300.00   \n",
       "3      Wendy's    Burger                                9510.00   \n",
       "4  Burger King    Burger                                9749.19   \n",
       "\n",
       "   2016 U.S. Average Sales Per Unit (thousands)  \\\n",
       "0                                       2550.00   \n",
       "1                                       1123.25   \n",
       "2                                        422.52   \n",
       "3                                       1454.80   \n",
       "4                                       1361.43   \n",
       "\n",
       "   Number of Franchised Units in 2016  Number of Company Units in 2016  \\\n",
       "0                               13046                             1109   \n",
       "1                                5292                             7880   \n",
       "2                               26744                                0   \n",
       "3                                6207                              330   \n",
       "4                                7111                               50   \n",
       "\n",
       "   Total Units in 2016  \n",
       "0                14155  \n",
       "1                13172  \n",
       "2                26744  \n",
       "3                 6537  \n",
       "4                 7161  "
      ]
     },
     "execution_count": 125,
     "metadata": {},
     "output_type": "execute_result"
    }
   ],
   "source": [
    "df2.head()"
   ]
  },
  {
   "cell_type": "code",
   "execution_count": 20,
   "metadata": {},
   "outputs": [
    {
     "data": {
      "text/plain": [
       "159792"
      ]
     },
     "execution_count": 20,
     "metadata": {},
     "output_type": "execute_result"
    }
   ],
   "source": [
    "# Nearly 160,000 total fast food restaurants in the top 50\n",
    "df2[\"Total Units in 2016\"].sum()"
   ]
  },
  {
   "cell_type": "code",
   "execution_count": 21,
   "metadata": {},
   "outputs": [
    {
     "data": {
      "text/plain": [
       "189363670.0"
      ]
     },
     "execution_count": 21,
     "metadata": {},
     "output_type": "execute_result"
    }
   ],
   "source": [
    "sales_of_top50 = df2[\"2016 U.S. Systemwide Sales (millions)\"].sum()*1000\n",
    "sales_of_top50"
   ]
  },
  {
   "cell_type": "code",
   "execution_count": 22,
   "metadata": {},
   "outputs": [],
   "source": [
    "population_of_USA = 329968629"
   ]
  },
  {
   "cell_type": "code",
   "execution_count": 23,
   "metadata": {},
   "outputs": [],
   "source": [
    "per_capita_sales = population_of_USA/sales_of_top50"
   ]
  },
  {
   "cell_type": "code",
   "execution_count": 24,
   "metadata": {},
   "outputs": [
    {
     "data": {
      "text/plain": [
       "1.7425128537063101"
      ]
     },
     "execution_count": 24,
     "metadata": {},
     "output_type": "execute_result"
    }
   ],
   "source": [
    "per_capita_sales"
   ]
  },
  {
   "cell_type": "code",
   "execution_count": 50,
   "metadata": {},
   "outputs": [
    {
     "data": {
      "text/html": [
       "<div>\n",
       "<style scoped>\n",
       "    .dataframe tbody tr th:only-of-type {\n",
       "        vertical-align: middle;\n",
       "    }\n",
       "\n",
       "    .dataframe tbody tr th {\n",
       "        vertical-align: top;\n",
       "    }\n",
       "\n",
       "    .dataframe thead th {\n",
       "        text-align: right;\n",
       "    }\n",
       "</style>\n",
       "<table border=\"1\" class=\"dataframe\">\n",
       "  <thead>\n",
       "    <tr style=\"text-align: right;\">\n",
       "      <th></th>\n",
       "      <th>Rank</th>\n",
       "      <th>﻿State</th>\n",
       "      <th>Population</th>\n",
       "    </tr>\n",
       "  </thead>\n",
       "  <tbody>\n",
       "    <tr>\n",
       "      <th>0</th>\n",
       "      <td>1</td>\n",
       "      <td>California</td>\n",
       "      <td>39557045</td>\n",
       "    </tr>\n",
       "    <tr>\n",
       "      <th>1</th>\n",
       "      <td>2</td>\n",
       "      <td>Texas</td>\n",
       "      <td>28701845</td>\n",
       "    </tr>\n",
       "    <tr>\n",
       "      <th>2</th>\n",
       "      <td>3</td>\n",
       "      <td>Florida</td>\n",
       "      <td>21299325</td>\n",
       "    </tr>\n",
       "    <tr>\n",
       "      <th>3</th>\n",
       "      <td>4</td>\n",
       "      <td>New York</td>\n",
       "      <td>19542209</td>\n",
       "    </tr>\n",
       "    <tr>\n",
       "      <th>4</th>\n",
       "      <td>5</td>\n",
       "      <td>Pennsylvania</td>\n",
       "      <td>12807060</td>\n",
       "    </tr>\n",
       "  </tbody>\n",
       "</table>\n",
       "</div>"
      ],
      "text/plain": [
       "   Rank        ﻿State  Population\n",
       "0     1    California    39557045\n",
       "1     2         Texas    28701845\n",
       "2     3       Florida    21299325\n",
       "3     4      New York    19542209\n",
       "4     5  Pennsylvania    12807060"
      ]
     },
     "execution_count": 50,
     "metadata": {},
     "output_type": "execute_result"
    }
   ],
   "source": [
    "# Scraped state populations (WorldAtlas.com)\n",
    "state_pop = pd.read_csv(\"assets/data/state_populations.csv\")\n",
    "state_pop.head()"
   ]
  },
  {
   "cell_type": "code",
   "execution_count": 52,
   "metadata": {},
   "outputs": [],
   "source": [
    "state_pop[\"Abbreviation\"] = ['CA', 'TX', 'FL', 'NY', 'PA', 'IL', 'OH', 'GA', 'NC', 'MI', \n",
    "                             'NJ', 'VA', 'WA', 'AZ', 'MA', 'TN', 'IN', 'MO', 'MD', 'WI', 'CO', \n",
    "                             'MN', 'SC', 'AL', 'LA', 'KY', 'OR', 'OK', 'CT', 'UT', 'IA', 'NV', \n",
    "                             'AR', 'MS', 'KS', 'NM', 'NE', 'WV', 'ID', 'HI', 'NH', 'ME', 'MT', \n",
    "                             'RI', 'DE', 'SD', 'ND', 'AK', 'VT', 'WY']"
   ]
  },
  {
   "cell_type": "code",
   "execution_count": 57,
   "metadata": {},
   "outputs": [
    {
     "data": {
      "text/html": [
       "<div>\n",
       "<style scoped>\n",
       "    .dataframe tbody tr th:only-of-type {\n",
       "        vertical-align: middle;\n",
       "    }\n",
       "\n",
       "    .dataframe tbody tr th {\n",
       "        vertical-align: top;\n",
       "    }\n",
       "\n",
       "    .dataframe thead th {\n",
       "        text-align: right;\n",
       "    }\n",
       "</style>\n",
       "<table border=\"1\" class=\"dataframe\">\n",
       "  <thead>\n",
       "    <tr style=\"text-align: right;\">\n",
       "      <th></th>\n",
       "      <th>Rank</th>\n",
       "      <th>﻿State</th>\n",
       "      <th>Population</th>\n",
       "      <th>Abbreviation</th>\n",
       "    </tr>\n",
       "  </thead>\n",
       "  <tbody>\n",
       "    <tr>\n",
       "      <th>0</th>\n",
       "      <td>1</td>\n",
       "      <td>California</td>\n",
       "      <td>39557045</td>\n",
       "      <td>CA</td>\n",
       "    </tr>\n",
       "    <tr>\n",
       "      <th>1</th>\n",
       "      <td>2</td>\n",
       "      <td>Texas</td>\n",
       "      <td>28701845</td>\n",
       "      <td>TX</td>\n",
       "    </tr>\n",
       "    <tr>\n",
       "      <th>2</th>\n",
       "      <td>3</td>\n",
       "      <td>Florida</td>\n",
       "      <td>21299325</td>\n",
       "      <td>FL</td>\n",
       "    </tr>\n",
       "  </tbody>\n",
       "</table>\n",
       "</div>"
      ],
      "text/plain": [
       "   Rank      ﻿State  Population Abbreviation\n",
       "0     1  California    39557045           CA\n",
       "1     2       Texas    28701845           TX\n",
       "2     3     Florida    21299325           FL"
      ]
     },
     "execution_count": 57,
     "metadata": {},
     "output_type": "execute_result"
    }
   ],
   "source": [
    "state_pop.head(3)"
   ]
  },
  {
   "cell_type": "code",
   "execution_count": 25,
   "metadata": {},
   "outputs": [
    {
     "data": {
      "text/plain": [
       "Category\n",
       "Burger      13\n",
       "Chicken      9\n",
       "Sandwich     8\n",
       "Ethnic       7\n",
       "Snack        7\n",
       "Pizza        5\n",
       "Seafood      1\n",
       "dtype: int64"
      ]
     },
     "execution_count": 25,
     "metadata": {},
     "output_type": "execute_result"
    }
   ],
   "source": [
    "# Most popular types of food from sales dataset\n",
    "df2.groupby(\"Category\").size().nlargest(10)"
   ]
  },
  {
   "cell_type": "code",
   "execution_count": 27,
   "metadata": {},
   "outputs": [
    {
     "data": {
      "text/plain": [
       "(-1.1138856119308733,\n",
       " 1.100661219615756,\n",
       " -1.107962920036388,\n",
       " 1.1072980263210073)"
      ]
     },
     "execution_count": 27,
     "metadata": {},
     "output_type": "execute_result"
    },
    {
     "data": {
      "image/png": "[encoded data removed]",
      "text/plain": [
       "<Figure size 432x288 with 1 Axes>"
      ]
     },
     "metadata": {},
     "output_type": "display_data"
    }
   ],
   "source": [
    "# pie chart for most popular food categories from sales dataset\n",
    "df2.groupby(\"Category\").size().nlargest(10).plot(kind = \"pie\", autopct=\"%1.1f%%\").axis(\"equal\")"
   ]
  },
  {
   "cell_type": "code",
   "execution_count": 28,
   "metadata": {},
   "outputs": [
    {
     "data": {
      "text/plain": [
       "categories\n",
       "Fast Food Restaurant                                             3425\n",
       "Fast Food Restaurants                                            3406\n",
       "Fast Food                                                        1777\n",
       "Fast Food Restaurant and Burger Joint                             260\n",
       "Fast food restaurants                                             191\n",
       "Fast Food Restaurant and Mexican Restaurant                       132\n",
       "Fast Food Restaurant, American Restaurant, and Sandwich Place     101\n",
       "Fast Food Restaurant, Sandwich Place, and American Restaurant      65\n",
       "Sandwich Place and Fast Food Restaurant                            35\n",
       "Fast Food Restaurant and American Restaurant                       29\n",
       "American Restaurant and Fast Food Restaurant                       22\n",
       "Ice Cream Shop and Fast Food Restaurant                            19\n",
       "Burger Joint, Fast Food Restaurant, and American Restaurant        16\n",
       "Mexican Restaurant and Fast Food Restaurant                        16\n",
       "Fast Food Restaurant and Sandwich Place                            14\n",
       "Fast Food Restaurant, American Restaurant, and Burger Joint        14\n",
       "Fast Food Restaurant, Burger Joint, and Ice Cream Shop             14\n",
       "Fried Chicken Joint and Fast Food Restaurant                       14\n",
       "Burger Joint and Fast Food Restaurant                              13\n",
       "Fast Food Restaurant and Food                                      13\n",
       "fast food restaurant                                               13\n",
       "Fast Food Restaurant and Ice Cream Shop                            10\n",
       "Fast Food Restaurant, Burger Joint, and American Restaurant        10\n",
       "American Restaurant, Fast Food Restaurant, and Breakfast Spot       7\n",
       "Fast Food Restaurant, Burger Joint, and Restaurant                  7\n",
       "Fast Food Restaurant, Mexican Restaurant, and Diner                 7\n",
       "Taco Place and Fast Food Restaurant                                 7\n",
       "Restaurant, Fast Food Restaurant, and Sandwich Place                6\n",
       "Fast Food Restaurant Southwest Dallas                               5\n",
       "Hot Dog Joint and Fast Food Restaurant                              5\n",
       "dtype: int64"
      ]
     },
     "execution_count": 28,
     "metadata": {},
     "output_type": "execute_result"
    }
   ],
   "source": [
    "# Breakdown by type of food for top 30 restaurant categories in 10,000 row dataset\n",
    "df.groupby(\"categories\").size().nlargest(30)"
   ]
  },
  {
   "cell_type": "code",
   "execution_count": 3,
   "metadata": {},
   "outputs": [],
   "source": [
    "df = pd.read_csv(\"Cleaned_Fast_Food.csv\")"
   ]
  },
  {
   "cell_type": "code",
   "execution_count": 29,
   "metadata": {},
   "outputs": [
    {
     "data": {
      "text/plain": [
       "state\n",
       "AL     6\n",
       "RI    15\n",
       "VT    15\n",
       "AK    16\n",
       "ME    25\n",
       "WY    29\n",
       "HI    32\n",
       "NH    34\n",
       "ND    35\n",
       "MT    38\n",
       "dtype: int64"
      ]
     },
     "execution_count": 29,
     "metadata": {},
     "output_type": "execute_result"
    }
   ],
   "source": [
    "df.groupby(\"state\").size().nsmallest(10)"
   ]
  },
  {
   "cell_type": "code",
   "execution_count": 30,
   "metadata": {},
   "outputs": [
    {
     "data": {
      "text/plain": [
       "state\n",
       "CA    1201\n",
       "TX     811\n",
       "FL     621\n",
       "OH     522\n",
       "GA     420\n",
       "IL     405\n",
       "PA     383\n",
       "MI     374\n",
       "NY     352\n",
       "AZ     330\n",
       "dtype: int64"
      ]
     },
     "execution_count": 30,
     "metadata": {},
     "output_type": "execute_result"
    }
   ],
   "source": [
    "df.groupby(\"state\").size().nlargest(10)"
   ]
  },
  {
   "cell_type": "code",
   "execution_count": 31,
   "metadata": {},
   "outputs": [
    {
     "data": {
      "text/plain": [
       "200.0"
      ]
     },
     "execution_count": 31,
     "metadata": {},
     "output_type": "execute_result"
    }
   ],
   "source": [
    "# Mean number of restaurants per state is 200\n",
    "df.groupby(\"state\").size().mean()"
   ]
  },
  {
   "cell_type": "code",
   "execution_count": 32,
   "metadata": {},
   "outputs": [
    {
     "data": {
      "text/plain": [
       "<matplotlib.axes._subplots.AxesSubplot at 0x1189b7128>"
      ]
     },
     "execution_count": 32,
     "metadata": {},
     "output_type": "execute_result"
    },
    {
     "data": {
      "image/png": "[encoded data removed]",
      "text/plain": [
       "<Figure size 432x288 with 1 Axes>"
      ]
     },
     "metadata": {
      "needs_background": "light"
     },
     "output_type": "display_data"
    }
   ],
   "source": [
    "# Top three (CA, TX, FL) are outliers\n",
    "df.groupby(\"state\").size().plot(kind = \"box\")"
   ]
  },
  {
   "cell_type": "code",
   "execution_count": 33,
   "metadata": {},
   "outputs": [
    {
     "data": {
      "text/plain": [
       "<matplotlib.axes._subplots.AxesSubplot at 0x118a105c0>"
      ]
     },
     "execution_count": 33,
     "metadata": {},
     "output_type": "execute_result"
    },
    {
     "data": {
      "image/png": "[encoded data removed]",
      "text/plain": [
       "<Figure size 432x288 with 1 Axes>"
      ]
     },
     "metadata": {
      "needs_background": "light"
     },
     "output_type": "display_data"
    }
   ],
   "source": [
    "df.groupby(\"state\").size().plot(kind = \"box\", grid = True)"
   ]
  },
  {
   "cell_type": "code",
   "execution_count": 34,
   "metadata": {},
   "outputs": [
    {
     "data": {
      "text/plain": [
       "151.0"
      ]
     },
     "execution_count": 34,
     "metadata": {},
     "output_type": "execute_result"
    }
   ],
   "source": [
    "# Median number of restaurants per state is 151 -- outliers skew the mean upward to 200\n",
    "df.groupby(\"state\").size().median()"
   ]
  },
  {
   "cell_type": "code",
   "execution_count": 35,
   "metadata": {},
   "outputs": [
    {
     "data": {
      "text/plain": [
       "0     15\n",
       "1    166\n",
       "dtype: int64"
      ]
     },
     "execution_count": 35,
     "metadata": {},
     "output_type": "execute_result"
    }
   ],
   "source": [
    "# Not sure if mode tells us anything -- doesn't look like it\n",
    "df.groupby(\"state\").size().mode()"
   ]
  },
  {
   "cell_type": "code",
   "execution_count": 36,
   "metadata": {},
   "outputs": [
    {
     "data": {
      "text/plain": [
       "<matplotlib.axes._subplots.AxesSubplot at 0x118aa7518>"
      ]
     },
     "execution_count": 36,
     "metadata": {},
     "output_type": "execute_result"
    },
    {
     "data": {
      "image/png": "[encoded data removed]",
      "text/plain": [
       "<Figure size 432x288 with 1 Axes>"
      ]
     },
     "metadata": {
      "needs_background": "light"
     },
     "output_type": "display_data"
    }
   ],
   "source": [
    "df.groupby(\"state\").size().plot(kind = \"area\")"
   ]
  },
  {
   "cell_type": "code",
   "execution_count": 37,
   "metadata": {},
   "outputs": [
    {
     "data": {
      "text/plain": [
       "<matplotlib.axes._subplots.AxesSubplot at 0x118b712e8>"
      ]
     },
     "execution_count": 37,
     "metadata": {},
     "output_type": "execute_result"
    },
    {
     "data": {
      "image/png": "[encoded data removed]",
      "text/plain": [
       "<Figure size 432x288 with 1 Axes>"
      ]
     },
     "metadata": {
      "needs_background": "light"
     },
     "output_type": "display_data"
    }
   ],
   "source": [
    "df.groupby(\"state\").size().plot(kind = \"kde\")"
   ]
  },
  {
   "cell_type": "code",
   "execution_count": 38,
   "metadata": {},
   "outputs": [
    {
     "data": {
      "text/plain": [
       "<matplotlib.axes._subplots.AxesSubplot at 0x1a2797fb00>"
      ]
     },
     "execution_count": 38,
     "metadata": {},
     "output_type": "execute_result"
    },
    {
     "data": {
      "image/png": "[encoded data removed]",
      "text/plain": [
       "<Figure size 432x288 with 1 Axes>"
      ]
     },
     "metadata": {
      "needs_background": "light"
     },
     "output_type": "display_data"
    }
   ],
   "source": [
    "df.groupby(\"state\").size().nlargest(10).plot(kind = \"bar\", rot = 0)"
   ]
  },
  {
   "cell_type": "code",
   "execution_count": 40,
   "metadata": {},
   "outputs": [],
   "source": [
    "demo_df = pd.read_csv(\"assets/data/demographic_data.csv\")"
   ]
  },
  {
   "cell_type": "code",
   "execution_count": 73,
   "metadata": {},
   "outputs": [
    {
     "data": {
      "text/html": [
       "<div>\n",
       "<style scoped>\n",
       "    .dataframe tbody tr th:only-of-type {\n",
       "        vertical-align: middle;\n",
       "    }\n",
       "\n",
       "    .dataframe tbody tr th {\n",
       "        vertical-align: top;\n",
       "    }\n",
       "\n",
       "    .dataframe thead th {\n",
       "        text-align: right;\n",
       "    }\n",
       "</style>\n",
       "<table border=\"1\" class=\"dataframe\">\n",
       "  <thead>\n",
       "    <tr style=\"text-align: right;\">\n",
       "      <th></th>\n",
       "      <th>state abbr</th>\n",
       "      <th>number of restaurants</th>\n",
       "      <th>poverty</th>\n",
       "      <th>povertyMoe</th>\n",
       "      <th>age</th>\n",
       "      <th>ageMoe</th>\n",
       "      <th>income</th>\n",
       "      <th>incomeMoe</th>\n",
       "      <th>healthcare</th>\n",
       "      <th>healthcareLow</th>\n",
       "      <th>healthcareHigh</th>\n",
       "      <th>obesity</th>\n",
       "      <th>obesityLow</th>\n",
       "      <th>obesityHigh</th>\n",
       "      <th>smokes</th>\n",
       "      <th>smokesLow</th>\n",
       "      <th>smokesHigh</th>\n",
       "    </tr>\n",
       "  </thead>\n",
       "  <tbody>\n",
       "    <tr>\n",
       "      <th>0</th>\n",
       "      <td>CA</td>\n",
       "      <td>1201</td>\n",
       "      <td>16.4</td>\n",
       "      <td>0.2</td>\n",
       "      <td>36.0</td>\n",
       "      <td>0.1</td>\n",
       "      <td>61933</td>\n",
       "      <td>238</td>\n",
       "      <td>14.8</td>\n",
       "      <td>13.8</td>\n",
       "      <td>15.8</td>\n",
       "      <td>24.7</td>\n",
       "      <td>23.5</td>\n",
       "      <td>25.9</td>\n",
       "      <td>12.9</td>\n",
       "      <td>11.9</td>\n",
       "      <td>13.8</td>\n",
       "    </tr>\n",
       "    <tr>\n",
       "      <th>1</th>\n",
       "      <td>TX</td>\n",
       "      <td>811</td>\n",
       "      <td>17.2</td>\n",
       "      <td>0.2</td>\n",
       "      <td>34.3</td>\n",
       "      <td>0.1</td>\n",
       "      <td>53035</td>\n",
       "      <td>377</td>\n",
       "      <td>24.9</td>\n",
       "      <td>23.7</td>\n",
       "      <td>26.1</td>\n",
       "      <td>31.9</td>\n",
       "      <td>30.6</td>\n",
       "      <td>33.3</td>\n",
       "      <td>14.5</td>\n",
       "      <td>13.6</td>\n",
       "      <td>15.5</td>\n",
       "    </tr>\n",
       "    <tr>\n",
       "      <th>2</th>\n",
       "      <td>FL</td>\n",
       "      <td>621</td>\n",
       "      <td>16.5</td>\n",
       "      <td>0.3</td>\n",
       "      <td>41.6</td>\n",
       "      <td>0.1</td>\n",
       "      <td>47463</td>\n",
       "      <td>329</td>\n",
       "      <td>17.6</td>\n",
       "      <td>16.4</td>\n",
       "      <td>18.8</td>\n",
       "      <td>26.2</td>\n",
       "      <td>25.0</td>\n",
       "      <td>27.5</td>\n",
       "      <td>17.7</td>\n",
       "      <td>16.5</td>\n",
       "      <td>18.8</td>\n",
       "    </tr>\n",
       "    <tr>\n",
       "      <th>3</th>\n",
       "      <td>OH</td>\n",
       "      <td>522</td>\n",
       "      <td>15.8</td>\n",
       "      <td>0.3</td>\n",
       "      <td>39.4</td>\n",
       "      <td>0.1</td>\n",
       "      <td>49308</td>\n",
       "      <td>363</td>\n",
       "      <td>10.2</td>\n",
       "      <td>9.2</td>\n",
       "      <td>11.3</td>\n",
       "      <td>32.6</td>\n",
       "      <td>31.2</td>\n",
       "      <td>34.1</td>\n",
       "      <td>21.0</td>\n",
       "      <td>19.7</td>\n",
       "      <td>22.3</td>\n",
       "    </tr>\n",
       "    <tr>\n",
       "      <th>4</th>\n",
       "      <td>GA</td>\n",
       "      <td>420</td>\n",
       "      <td>18.3</td>\n",
       "      <td>0.4</td>\n",
       "      <td>36.1</td>\n",
       "      <td>0.1</td>\n",
       "      <td>49321</td>\n",
       "      <td>543</td>\n",
       "      <td>20.9</td>\n",
       "      <td>19.3</td>\n",
       "      <td>22.5</td>\n",
       "      <td>30.5</td>\n",
       "      <td>28.9</td>\n",
       "      <td>32.1</td>\n",
       "      <td>17.4</td>\n",
       "      <td>15.9</td>\n",
       "      <td>18.8</td>\n",
       "    </tr>\n",
       "  </tbody>\n",
       "</table>\n",
       "</div>"
      ],
      "text/plain": [
       "  state abbr  number of restaurants  poverty  povertyMoe   age  ageMoe  \\\n",
       "0         CA                   1201     16.4         0.2  36.0     0.1   \n",
       "1         TX                    811     17.2         0.2  34.3     0.1   \n",
       "2         FL                    621     16.5         0.3  41.6     0.1   \n",
       "3         OH                    522     15.8         0.3  39.4     0.1   \n",
       "4         GA                    420     18.3         0.4  36.1     0.1   \n",
       "\n",
       "   income  incomeMoe  healthcare  healthcareLow  healthcareHigh  obesity  \\\n",
       "0   61933        238        14.8           13.8            15.8     24.7   \n",
       "1   53035        377        24.9           23.7            26.1     31.9   \n",
       "2   47463        329        17.6           16.4            18.8     26.2   \n",
       "3   49308        363        10.2            9.2            11.3     32.6   \n",
       "4   49321        543        20.9           19.3            22.5     30.5   \n",
       "\n",
       "   obesityLow  obesityHigh  smokes  smokesLow  smokesHigh  \n",
       "0        23.5         25.9    12.9       11.9        13.8  \n",
       "1        30.6         33.3    14.5       13.6        15.5  \n",
       "2        25.0         27.5    17.7       16.5        18.8  \n",
       "3        31.2         34.1    21.0       19.7        22.3  \n",
       "4        28.9         32.1    17.4       15.9        18.8  "
      ]
     },
     "execution_count": 73,
     "metadata": {},
     "output_type": "execute_result"
    }
   ],
   "source": [
    "demo_df.rename(columns = {\"State Abbr\":\"state abbr\"}, inplace = True)\n",
    "demo_df.head()"
   ]
  },
  {
   "cell_type": "code",
   "execution_count": 74,
   "metadata": {},
   "outputs": [
    {
     "data": {
      "text/html": [
       "<div>\n",
       "<style scoped>\n",
       "    .dataframe tbody tr th:only-of-type {\n",
       "        vertical-align: middle;\n",
       "    }\n",
       "\n",
       "    .dataframe tbody tr th {\n",
       "        vertical-align: top;\n",
       "    }\n",
       "\n",
       "    .dataframe thead th {\n",
       "        text-align: right;\n",
       "    }\n",
       "</style>\n",
       "<table border=\"1\" class=\"dataframe\">\n",
       "  <thead>\n",
       "    <tr style=\"text-align: right;\">\n",
       "      <th></th>\n",
       "      <th>Rank</th>\n",
       "      <th>﻿State</th>\n",
       "      <th>Population</th>\n",
       "      <th>state abbr</th>\n",
       "    </tr>\n",
       "  </thead>\n",
       "  <tbody>\n",
       "    <tr>\n",
       "      <th>0</th>\n",
       "      <td>1</td>\n",
       "      <td>California</td>\n",
       "      <td>39557045</td>\n",
       "      <td>CA</td>\n",
       "    </tr>\n",
       "    <tr>\n",
       "      <th>1</th>\n",
       "      <td>2</td>\n",
       "      <td>Texas</td>\n",
       "      <td>28701845</td>\n",
       "      <td>TX</td>\n",
       "    </tr>\n",
       "    <tr>\n",
       "      <th>2</th>\n",
       "      <td>3</td>\n",
       "      <td>Florida</td>\n",
       "      <td>21299325</td>\n",
       "      <td>FL</td>\n",
       "    </tr>\n",
       "    <tr>\n",
       "      <th>3</th>\n",
       "      <td>4</td>\n",
       "      <td>New York</td>\n",
       "      <td>19542209</td>\n",
       "      <td>NY</td>\n",
       "    </tr>\n",
       "    <tr>\n",
       "      <th>4</th>\n",
       "      <td>5</td>\n",
       "      <td>Pennsylvania</td>\n",
       "      <td>12807060</td>\n",
       "      <td>PA</td>\n",
       "    </tr>\n",
       "  </tbody>\n",
       "</table>\n",
       "</div>"
      ],
      "text/plain": [
       "   Rank        ﻿State  Population state abbr\n",
       "0     1    California    39557045         CA\n",
       "1     2         Texas    28701845         TX\n",
       "2     3       Florida    21299325         FL\n",
       "3     4      New York    19542209         NY\n",
       "4     5  Pennsylvania    12807060         PA"
      ]
     },
     "execution_count": 74,
     "metadata": {},
     "output_type": "execute_result"
    }
   ],
   "source": [
    "state_pop.rename(columns = {\"Abbreviation\": \"state abbr\"}, inplace = True)\n",
    "state_pop.head()"
   ]
  },
  {
   "cell_type": "code",
   "execution_count": 79,
   "metadata": {},
   "outputs": [],
   "source": [
    "# demo = pd.merge(demo_df, state_pop, on = \"state abbr\")\n",
    "demo.rename(columns = {\"State\": \"state\"}, inplace = True)\n",
    "demo.to_csv(\"assets/data/State_Pop_Demographics_Restaurants.csv\", index = False)"
   ]
  },
  {
   "cell_type": "code",
   "execution_count": 60,
   "metadata": {},
   "outputs": [
    {
     "data": {
      "text/html": [
       "<div>\n",
       "<style scoped>\n",
       "    .dataframe tbody tr th:only-of-type {\n",
       "        vertical-align: middle;\n",
       "    }\n",
       "\n",
       "    .dataframe tbody tr th {\n",
       "        vertical-align: top;\n",
       "    }\n",
       "\n",
       "    .dataframe thead th {\n",
       "        text-align: right;\n",
       "    }\n",
       "</style>\n",
       "<table border=\"1\" class=\"dataframe\">\n",
       "  <thead>\n",
       "    <tr style=\"text-align: right;\">\n",
       "      <th></th>\n",
       "      <th>Company</th>\n",
       "      <th>Count</th>\n",
       "    </tr>\n",
       "  </thead>\n",
       "  <tbody>\n",
       "    <tr>\n",
       "      <th>0</th>\n",
       "      <td>McDonald's</td>\n",
       "      <td>1898</td>\n",
       "    </tr>\n",
       "    <tr>\n",
       "      <th>1</th>\n",
       "      <td>Taco Bell</td>\n",
       "      <td>1032</td>\n",
       "    </tr>\n",
       "    <tr>\n",
       "      <th>2</th>\n",
       "      <td>Burger King</td>\n",
       "      <td>833</td>\n",
       "    </tr>\n",
       "    <tr>\n",
       "      <th>3</th>\n",
       "      <td>Subway</td>\n",
       "      <td>776</td>\n",
       "    </tr>\n",
       "    <tr>\n",
       "      <th>4</th>\n",
       "      <td>Arby's</td>\n",
       "      <td>663</td>\n",
       "    </tr>\n",
       "  </tbody>\n",
       "</table>\n",
       "</div>"
      ],
      "text/plain": [
       "       Company  Count\n",
       "0   McDonald's   1898\n",
       "1    Taco Bell   1032\n",
       "2  Burger King    833\n",
       "3       Subway    776\n",
       "4       Arby's    663"
      ]
     },
     "execution_count": 60,
     "metadata": {},
     "output_type": "execute_result"
    }
   ],
   "source": [
    "top_50.head()"
   ]
  },
  {
   "cell_type": "code",
   "execution_count": 64,
   "metadata": {},
   "outputs": [
    {
     "ename": "KeyError",
     "evalue": "'state'",
     "output_type": "error",
     "traceback": [
      "\u001b[0;31m---------------------------------------------------------------------------\u001b[0m",
      "\u001b[0;31mKeyError\u001b[0m                                  Traceback (most recent call last)",
      "\u001b[0;32m<ipython-input-64-724568b20ce5>\u001b[0m in \u001b[0;36m<module>\u001b[0;34m\u001b[0m\n\u001b[0;32m----> 1\u001b[0;31m \u001b[0mdemo_df\u001b[0m\u001b[0;34m.\u001b[0m\u001b[0mgroupby\u001b[0m\u001b[0;34m(\u001b[0m\u001b[0;34m[\u001b[0m\u001b[0;34m\"state\"\u001b[0m\u001b[0;34m,\u001b[0m \u001b[0;34m\"name\"\u001b[0m\u001b[0;34m]\u001b[0m\u001b[0;34m)\u001b[0m\u001b[0;34m[\u001b[0m\u001b[0;34m\"state\"\u001b[0m\u001b[0;34m]\u001b[0m\u001b[0;34m.\u001b[0m\u001b[0msize\u001b[0m\u001b[0;34m(\u001b[0m\u001b[0;34m)\u001b[0m\u001b[0;34m.\u001b[0m\u001b[0mnlargest\u001b[0m\u001b[0;34m(\u001b[0m\u001b[0;36m50\u001b[0m\u001b[0;34m)\u001b[0m\u001b[0;34m.\u001b[0m\u001b[0msort_values\u001b[0m\u001b[0;34m(\u001b[0m\u001b[0mascending\u001b[0m \u001b[0;34m=\u001b[0m \u001b[0;32mFalse\u001b[0m\u001b[0;34m)\u001b[0m\u001b[0;31m\\\u001b[0m\u001b[0;34m\u001b[0m\u001b[0;34m\u001b[0m\u001b[0m\n\u001b[0m\u001b[1;32m      2\u001b[0m                 \u001b[0;34m.\u001b[0m\u001b[0mhead\u001b[0m\u001b[0;34m(\u001b[0m\u001b[0;36m10\u001b[0m\u001b[0;34m)\u001b[0m\u001b[0;34m.\u001b[0m\u001b[0mplot\u001b[0m\u001b[0;34m(\u001b[0m\u001b[0mkind\u001b[0m \u001b[0;34m=\u001b[0m \u001b[0;34m\"bar\"\u001b[0m\u001b[0;34m,\u001b[0m \u001b[0mrot\u001b[0m \u001b[0;34m=\u001b[0m \u001b[0;36m45\u001b[0m\u001b[0;34m)\u001b[0m\u001b[0;34m\u001b[0m\u001b[0;34m\u001b[0m\u001b[0m\n",
      "\u001b[0;32m/Applications/anaconda3/envs/PythonData/lib/python3.6/site-packages/pandas/core/generic.py\u001b[0m in \u001b[0;36mgroupby\u001b[0;34m(self, by, axis, level, as_index, sort, group_keys, squeeze, observed, **kwargs)\u001b[0m\n\u001b[1;32m   6661\u001b[0m         return groupby(self, by=by, axis=axis, level=level, as_index=as_index,\n\u001b[1;32m   6662\u001b[0m                        \u001b[0msort\u001b[0m\u001b[0;34m=\u001b[0m\u001b[0msort\u001b[0m\u001b[0;34m,\u001b[0m \u001b[0mgroup_keys\u001b[0m\u001b[0;34m=\u001b[0m\u001b[0mgroup_keys\u001b[0m\u001b[0;34m,\u001b[0m \u001b[0msqueeze\u001b[0m\u001b[0;34m=\u001b[0m\u001b[0msqueeze\u001b[0m\u001b[0;34m,\u001b[0m\u001b[0;34m\u001b[0m\u001b[0;34m\u001b[0m\u001b[0m\n\u001b[0;32m-> 6663\u001b[0;31m                        observed=observed, **kwargs)\n\u001b[0m\u001b[1;32m   6664\u001b[0m \u001b[0;34m\u001b[0m\u001b[0m\n\u001b[1;32m   6665\u001b[0m     def asfreq(self, freq, method=None, how=None, normalize=False,\n",
      "\u001b[0;32m/Applications/anaconda3/envs/PythonData/lib/python3.6/site-packages/pandas/core/groupby/groupby.py\u001b[0m in \u001b[0;36mgroupby\u001b[0;34m(obj, by, **kwds)\u001b[0m\n\u001b[1;32m   2150\u001b[0m         \u001b[0;32mraise\u001b[0m \u001b[0mTypeError\u001b[0m\u001b[0;34m(\u001b[0m\u001b[0;34m'invalid type: %s'\u001b[0m \u001b[0;34m%\u001b[0m \u001b[0mtype\u001b[0m\u001b[0;34m(\u001b[0m\u001b[0mobj\u001b[0m\u001b[0;34m)\u001b[0m\u001b[0;34m)\u001b[0m\u001b[0;34m\u001b[0m\u001b[0;34m\u001b[0m\u001b[0m\n\u001b[1;32m   2151\u001b[0m \u001b[0;34m\u001b[0m\u001b[0m\n\u001b[0;32m-> 2152\u001b[0;31m     \u001b[0;32mreturn\u001b[0m \u001b[0mklass\u001b[0m\u001b[0;34m(\u001b[0m\u001b[0mobj\u001b[0m\u001b[0;34m,\u001b[0m \u001b[0mby\u001b[0m\u001b[0;34m,\u001b[0m \u001b[0;34m**\u001b[0m\u001b[0mkwds\u001b[0m\u001b[0;34m)\u001b[0m\u001b[0;34m\u001b[0m\u001b[0;34m\u001b[0m\u001b[0m\n\u001b[0m\u001b[1;32m   2153\u001b[0m \u001b[0;34m\u001b[0m\u001b[0m\n\u001b[1;32m   2154\u001b[0m \u001b[0;34m\u001b[0m\u001b[0m\n",
      "\u001b[0;32m/Applications/anaconda3/envs/PythonData/lib/python3.6/site-packages/pandas/core/groupby/groupby.py\u001b[0m in \u001b[0;36m__init__\u001b[0;34m(self, obj, keys, axis, level, grouper, exclusions, selection, as_index, sort, group_keys, squeeze, observed, **kwargs)\u001b[0m\n\u001b[1;32m    597\u001b[0m                                                     \u001b[0msort\u001b[0m\u001b[0;34m=\u001b[0m\u001b[0msort\u001b[0m\u001b[0;34m,\u001b[0m\u001b[0;34m\u001b[0m\u001b[0;34m\u001b[0m\u001b[0m\n\u001b[1;32m    598\u001b[0m                                                     \u001b[0mobserved\u001b[0m\u001b[0;34m=\u001b[0m\u001b[0mobserved\u001b[0m\u001b[0;34m,\u001b[0m\u001b[0;34m\u001b[0m\u001b[0;34m\u001b[0m\u001b[0m\n\u001b[0;32m--> 599\u001b[0;31m                                                     mutated=self.mutated)\n\u001b[0m\u001b[1;32m    600\u001b[0m \u001b[0;34m\u001b[0m\u001b[0m\n\u001b[1;32m    601\u001b[0m         \u001b[0mself\u001b[0m\u001b[0;34m.\u001b[0m\u001b[0mobj\u001b[0m \u001b[0;34m=\u001b[0m \u001b[0mobj\u001b[0m\u001b[0;34m\u001b[0m\u001b[0;34m\u001b[0m\u001b[0m\n",
      "\u001b[0;32m/Applications/anaconda3/envs/PythonData/lib/python3.6/site-packages/pandas/core/groupby/groupby.py\u001b[0m in \u001b[0;36m_get_grouper\u001b[0;34m(obj, key, axis, level, sort, observed, mutated, validate)\u001b[0m\n\u001b[1;32m   3289\u001b[0m                 \u001b[0min_axis\u001b[0m\u001b[0;34m,\u001b[0m \u001b[0mname\u001b[0m\u001b[0;34m,\u001b[0m \u001b[0mlevel\u001b[0m\u001b[0;34m,\u001b[0m \u001b[0mgpr\u001b[0m \u001b[0;34m=\u001b[0m \u001b[0;32mFalse\u001b[0m\u001b[0;34m,\u001b[0m \u001b[0;32mNone\u001b[0m\u001b[0;34m,\u001b[0m \u001b[0mgpr\u001b[0m\u001b[0;34m,\u001b[0m \u001b[0;32mNone\u001b[0m\u001b[0;34m\u001b[0m\u001b[0;34m\u001b[0m\u001b[0m\n\u001b[1;32m   3290\u001b[0m             \u001b[0;32melse\u001b[0m\u001b[0;34m:\u001b[0m\u001b[0;34m\u001b[0m\u001b[0;34m\u001b[0m\u001b[0m\n\u001b[0;32m-> 3291\u001b[0;31m                 \u001b[0;32mraise\u001b[0m \u001b[0mKeyError\u001b[0m\u001b[0;34m(\u001b[0m\u001b[0mgpr\u001b[0m\u001b[0;34m)\u001b[0m\u001b[0;34m\u001b[0m\u001b[0;34m\u001b[0m\u001b[0m\n\u001b[0m\u001b[1;32m   3292\u001b[0m         \u001b[0;32melif\u001b[0m \u001b[0misinstance\u001b[0m\u001b[0;34m(\u001b[0m\u001b[0mgpr\u001b[0m\u001b[0;34m,\u001b[0m \u001b[0mGrouper\u001b[0m\u001b[0;34m)\u001b[0m \u001b[0;32mand\u001b[0m \u001b[0mgpr\u001b[0m\u001b[0;34m.\u001b[0m\u001b[0mkey\u001b[0m \u001b[0;32mis\u001b[0m \u001b[0;32mnot\u001b[0m \u001b[0;32mNone\u001b[0m\u001b[0;34m:\u001b[0m\u001b[0;34m\u001b[0m\u001b[0;34m\u001b[0m\u001b[0m\n\u001b[1;32m   3293\u001b[0m             \u001b[0;31m# Add key to exclusions\u001b[0m\u001b[0;34m\u001b[0m\u001b[0;34m\u001b[0m\u001b[0;34m\u001b[0m\u001b[0m\n",
      "\u001b[0;31mKeyError\u001b[0m: 'state'"
     ]
    }
   ],
   "source": [
    "demo_df.groupby([\"state\", \"name\"])[\"state\"].size().nlargest(50).sort_values(ascending = False)\\\n",
    "                .head(10).plot(kind = \"bar\", rot = 45)"
   ]
  },
  {
   "cell_type": "code",
   "execution_count": 44,
   "metadata": {},
   "outputs": [],
   "source": [
    "obesity = demo_df.sort_values(by = \"obesity\", ascending = False).reset_index()"
   ]
  },
  {
   "cell_type": "code",
   "execution_count": 45,
   "metadata": {},
   "outputs": [
    {
     "data": {
      "text/html": [
       "<div>\n",
       "<style scoped>\n",
       "    .dataframe tbody tr th:only-of-type {\n",
       "        vertical-align: middle;\n",
       "    }\n",
       "\n",
       "    .dataframe tbody tr th {\n",
       "        vertical-align: top;\n",
       "    }\n",
       "\n",
       "    .dataframe thead th {\n",
       "        text-align: right;\n",
       "    }\n",
       "</style>\n",
       "<table border=\"1\" class=\"dataframe\">\n",
       "  <thead>\n",
       "    <tr style=\"text-align: right;\">\n",
       "      <th></th>\n",
       "      <th>index</th>\n",
       "      <th>state_long</th>\n",
       "      <th>number of restaurants</th>\n",
       "      <th>poverty</th>\n",
       "      <th>povertyMoe</th>\n",
       "      <th>age</th>\n",
       "      <th>ageMoe</th>\n",
       "      <th>income</th>\n",
       "      <th>incomeMoe</th>\n",
       "      <th>healthcare</th>\n",
       "      <th>healthcareLow</th>\n",
       "      <th>healthcareHigh</th>\n",
       "      <th>obesity</th>\n",
       "      <th>obesityLow</th>\n",
       "      <th>obesityHigh</th>\n",
       "      <th>smokes</th>\n",
       "      <th>smokesLow</th>\n",
       "      <th>smokesHigh</th>\n",
       "    </tr>\n",
       "  </thead>\n",
       "  <tbody>\n",
       "    <tr>\n",
       "      <th>0</th>\n",
       "      <td>29</td>\n",
       "      <td>AR</td>\n",
       "      <td>102</td>\n",
       "      <td>18.9</td>\n",
       "      <td>0.5</td>\n",
       "      <td>37.8</td>\n",
       "      <td>0.2</td>\n",
       "      <td>41262</td>\n",
       "      <td>653</td>\n",
       "      <td>16.3</td>\n",
       "      <td>14.4</td>\n",
       "      <td>18.2</td>\n",
       "      <td>35.9</td>\n",
       "      <td>33.8</td>\n",
       "      <td>38.0</td>\n",
       "      <td>24.7</td>\n",
       "      <td>22.7</td>\n",
       "      <td>26.7</td>\n",
       "    </tr>\n",
       "    <tr>\n",
       "      <th>1</th>\n",
       "      <td>33</td>\n",
       "      <td>WV</td>\n",
       "      <td>70</td>\n",
       "      <td>18.3</td>\n",
       "      <td>0.7</td>\n",
       "      <td>41.9</td>\n",
       "      <td>0.2</td>\n",
       "      <td>41059</td>\n",
       "      <td>651</td>\n",
       "      <td>10.1</td>\n",
       "      <td>9.1</td>\n",
       "      <td>11.2</td>\n",
       "      <td>35.7</td>\n",
       "      <td>34.2</td>\n",
       "      <td>37.2</td>\n",
       "      <td>26.7</td>\n",
       "      <td>25.2</td>\n",
       "      <td>28.1</td>\n",
       "    </tr>\n",
       "    <tr>\n",
       "      <th>2</th>\n",
       "      <td>35</td>\n",
       "      <td>MS</td>\n",
       "      <td>55</td>\n",
       "      <td>21.5</td>\n",
       "      <td>0.6</td>\n",
       "      <td>36.7</td>\n",
       "      <td>0.2</td>\n",
       "      <td>39680</td>\n",
       "      <td>773</td>\n",
       "      <td>18.8</td>\n",
       "      <td>17.0</td>\n",
       "      <td>20.7</td>\n",
       "      <td>35.5</td>\n",
       "      <td>33.4</td>\n",
       "      <td>37.6</td>\n",
       "      <td>23.0</td>\n",
       "      <td>21.0</td>\n",
       "      <td>24.9</td>\n",
       "    </tr>\n",
       "    <tr>\n",
       "      <th>3</th>\n",
       "      <td>15</td>\n",
       "      <td>LA</td>\n",
       "      <td>202</td>\n",
       "      <td>19.8</td>\n",
       "      <td>0.5</td>\n",
       "      <td>36.1</td>\n",
       "      <td>0.1</td>\n",
       "      <td>44555</td>\n",
       "      <td>738</td>\n",
       "      <td>18.7</td>\n",
       "      <td>17.4</td>\n",
       "      <td>20.0</td>\n",
       "      <td>34.9</td>\n",
       "      <td>33.4</td>\n",
       "      <td>36.4</td>\n",
       "      <td>24.0</td>\n",
       "      <td>22.6</td>\n",
       "      <td>25.4</td>\n",
       "    </tr>\n",
       "    <tr>\n",
       "      <th>4</th>\n",
       "      <td>49</td>\n",
       "      <td>AL</td>\n",
       "      <td>6</td>\n",
       "      <td>19.3</td>\n",
       "      <td>0.5</td>\n",
       "      <td>38.6</td>\n",
       "      <td>0.2</td>\n",
       "      <td>42830</td>\n",
       "      <td>598</td>\n",
       "      <td>13.9</td>\n",
       "      <td>12.7</td>\n",
       "      <td>15.1</td>\n",
       "      <td>33.5</td>\n",
       "      <td>32.1</td>\n",
       "      <td>35.0</td>\n",
       "      <td>21.1</td>\n",
       "      <td>19.8</td>\n",
       "      <td>22.5</td>\n",
       "    </tr>\n",
       "  </tbody>\n",
       "</table>\n",
       "</div>"
      ],
      "text/plain": [
       "   index state_long  number of restaurants  poverty  povertyMoe   age  ageMoe  \\\n",
       "0     29         AR                    102     18.9         0.5  37.8     0.2   \n",
       "1     33         WV                     70     18.3         0.7  41.9     0.2   \n",
       "2     35         MS                     55     21.5         0.6  36.7     0.2   \n",
       "3     15         LA                    202     19.8         0.5  36.1     0.1   \n",
       "4     49         AL                      6     19.3         0.5  38.6     0.2   \n",
       "\n",
       "   income  incomeMoe  healthcare  healthcareLow  healthcareHigh  obesity  \\\n",
       "0   41262        653        16.3           14.4            18.2     35.9   \n",
       "1   41059        651        10.1            9.1            11.2     35.7   \n",
       "2   39680        773        18.8           17.0            20.7     35.5   \n",
       "3   44555        738        18.7           17.4            20.0     34.9   \n",
       "4   42830        598        13.9           12.7            15.1     33.5   \n",
       "\n",
       "   obesityLow  obesityHigh  smokes  smokesLow  smokesHigh  \n",
       "0        33.8         38.0    24.7       22.7        26.7  \n",
       "1        34.2         37.2    26.7       25.2        28.1  \n",
       "2        33.4         37.6    23.0       21.0        24.9  \n",
       "3        33.4         36.4    24.0       22.6        25.4  \n",
       "4        32.1         35.0    21.1       19.8        22.5  "
      ]
     },
     "execution_count": 45,
     "metadata": {},
     "output_type": "execute_result"
    }
   ],
   "source": [
    "obesity.head()"
   ]
  },
  {
   "cell_type": "code",
   "execution_count": 46,
   "metadata": {},
   "outputs": [
    {
     "data": {
      "text/html": [
       "<div>\n",
       "<style scoped>\n",
       "    .dataframe tbody tr th:only-of-type {\n",
       "        vertical-align: middle;\n",
       "    }\n",
       "\n",
       "    .dataframe tbody tr th {\n",
       "        vertical-align: top;\n",
       "    }\n",
       "\n",
       "    .dataframe thead th {\n",
       "        text-align: right;\n",
       "    }\n",
       "</style>\n",
       "<table border=\"1\" class=\"dataframe\">\n",
       "  <thead>\n",
       "    <tr style=\"text-align: right;\">\n",
       "      <th></th>\n",
       "      <th>index</th>\n",
       "      <th>number of restaurants</th>\n",
       "      <th>poverty</th>\n",
       "      <th>povertyMoe</th>\n",
       "      <th>age</th>\n",
       "      <th>ageMoe</th>\n",
       "      <th>income</th>\n",
       "      <th>incomeMoe</th>\n",
       "      <th>healthcare</th>\n",
       "      <th>healthcareLow</th>\n",
       "      <th>healthcareHigh</th>\n",
       "      <th>obesity</th>\n",
       "      <th>obesityLow</th>\n",
       "      <th>obesityHigh</th>\n",
       "      <th>smokes</th>\n",
       "      <th>smokesLow</th>\n",
       "      <th>smokesHigh</th>\n",
       "    </tr>\n",
       "  </thead>\n",
       "  <tbody>\n",
       "    <tr>\n",
       "      <th>count</th>\n",
       "      <td>50.00000</td>\n",
       "      <td>50.000000</td>\n",
       "      <td>50.000000</td>\n",
       "      <td>50.000000</td>\n",
       "      <td>50.000000</td>\n",
       "      <td>50.000000</td>\n",
       "      <td>50.000000</td>\n",
       "      <td>50.000000</td>\n",
       "      <td>50.000000</td>\n",
       "      <td>50.000000</td>\n",
       "      <td>50.000000</td>\n",
       "      <td>50.000000</td>\n",
       "      <td>50.000000</td>\n",
       "      <td>50.000000</td>\n",
       "      <td>50.000000</td>\n",
       "      <td>50.000000</td>\n",
       "      <td>50.000000</td>\n",
       "    </tr>\n",
       "    <tr>\n",
       "      <th>mean</th>\n",
       "      <td>24.50000</td>\n",
       "      <td>200.000000</td>\n",
       "      <td>14.810000</td>\n",
       "      <td>0.518000</td>\n",
       "      <td>38.056000</td>\n",
       "      <td>0.174000</td>\n",
       "      <td>54109.720000</td>\n",
       "      <td>783.400000</td>\n",
       "      <td>12.714000</td>\n",
       "      <td>11.530000</td>\n",
       "      <td>13.904000</td>\n",
       "      <td>29.376000</td>\n",
       "      <td>27.912000</td>\n",
       "      <td>30.856000</td>\n",
       "      <td>18.502000</td>\n",
       "      <td>17.188000</td>\n",
       "      <td>19.822000</td>\n",
       "    </tr>\n",
       "    <tr>\n",
       "      <th>std</th>\n",
       "      <td>14.57738</td>\n",
       "      <td>222.035665</td>\n",
       "      <td>3.090291</td>\n",
       "      <td>0.208679</td>\n",
       "      <td>2.397461</td>\n",
       "      <td>0.077749</td>\n",
       "      <td>8985.187736</td>\n",
       "      <td>443.053275</td>\n",
       "      <td>3.938974</td>\n",
       "      <td>3.793294</td>\n",
       "      <td>4.118349</td>\n",
       "      <td>3.276232</td>\n",
       "      <td>3.169346</td>\n",
       "      <td>3.411874</td>\n",
       "      <td>3.469899</td>\n",
       "      <td>3.306681</td>\n",
       "      <td>3.658554</td>\n",
       "    </tr>\n",
       "    <tr>\n",
       "      <th>min</th>\n",
       "      <td>0.00000</td>\n",
       "      <td>6.000000</td>\n",
       "      <td>9.200000</td>\n",
       "      <td>0.200000</td>\n",
       "      <td>30.500000</td>\n",
       "      <td>0.100000</td>\n",
       "      <td>39680.000000</td>\n",
       "      <td>238.000000</td>\n",
       "      <td>4.600000</td>\n",
       "      <td>4.000000</td>\n",
       "      <td>5.200000</td>\n",
       "      <td>21.300000</td>\n",
       "      <td>20.400000</td>\n",
       "      <td>22.200000</td>\n",
       "      <td>9.700000</td>\n",
       "      <td>9.000000</td>\n",
       "      <td>10.300000</td>\n",
       "    </tr>\n",
       "    <tr>\n",
       "      <th>25%</th>\n",
       "      <td>12.25000</td>\n",
       "      <td>51.500000</td>\n",
       "      <td>12.050000</td>\n",
       "      <td>0.400000</td>\n",
       "      <td>36.600000</td>\n",
       "      <td>0.100000</td>\n",
       "      <td>47612.000000</td>\n",
       "      <td>474.000000</td>\n",
       "      <td>10.025000</td>\n",
       "      <td>8.875000</td>\n",
       "      <td>11.125000</td>\n",
       "      <td>27.325000</td>\n",
       "      <td>25.725000</td>\n",
       "      <td>28.525000</td>\n",
       "      <td>16.300000</td>\n",
       "      <td>14.850000</td>\n",
       "      <td>17.450000</td>\n",
       "    </tr>\n",
       "    <tr>\n",
       "      <th>50%</th>\n",
       "      <td>24.50000</td>\n",
       "      <td>151.000000</td>\n",
       "      <td>14.600000</td>\n",
       "      <td>0.500000</td>\n",
       "      <td>38.150000</td>\n",
       "      <td>0.200000</td>\n",
       "      <td>52563.000000</td>\n",
       "      <td>652.000000</td>\n",
       "      <td>12.650000</td>\n",
       "      <td>11.550000</td>\n",
       "      <td>13.500000</td>\n",
       "      <td>29.650000</td>\n",
       "      <td>27.850000</td>\n",
       "      <td>31.150000</td>\n",
       "      <td>18.300000</td>\n",
       "      <td>17.050000</td>\n",
       "      <td>19.350000</td>\n",
       "    </tr>\n",
       "    <tr>\n",
       "      <th>75%</th>\n",
       "      <td>36.75000</td>\n",
       "      <td>253.750000</td>\n",
       "      <td>17.050000</td>\n",
       "      <td>0.700000</td>\n",
       "      <td>39.400000</td>\n",
       "      <td>0.200000</td>\n",
       "      <td>60620.500000</td>\n",
       "      <td>934.500000</td>\n",
       "      <td>14.950000</td>\n",
       "      <td>13.775000</td>\n",
       "      <td>16.425000</td>\n",
       "      <td>31.275000</td>\n",
       "      <td>30.050000</td>\n",
       "      <td>33.025000</td>\n",
       "      <td>20.425000</td>\n",
       "      <td>19.100000</td>\n",
       "      <td>22.025000</td>\n",
       "    </tr>\n",
       "    <tr>\n",
       "      <th>max</th>\n",
       "      <td>49.00000</td>\n",
       "      <td>1201.000000</td>\n",
       "      <td>21.500000</td>\n",
       "      <td>0.900000</td>\n",
       "      <td>44.100000</td>\n",
       "      <td>0.400000</td>\n",
       "      <td>73971.000000</td>\n",
       "      <td>1983.000000</td>\n",
       "      <td>24.900000</td>\n",
       "      <td>23.700000</td>\n",
       "      <td>26.100000</td>\n",
       "      <td>35.900000</td>\n",
       "      <td>34.200000</td>\n",
       "      <td>38.000000</td>\n",
       "      <td>26.700000</td>\n",
       "      <td>25.200000</td>\n",
       "      <td>28.100000</td>\n",
       "    </tr>\n",
       "  </tbody>\n",
       "</table>\n",
       "</div>"
      ],
      "text/plain": [
       "          index  number of restaurants    poverty  povertyMoe        age  \\\n",
       "count  50.00000              50.000000  50.000000   50.000000  50.000000   \n",
       "mean   24.50000             200.000000  14.810000    0.518000  38.056000   \n",
       "std    14.57738             222.035665   3.090291    0.208679   2.397461   \n",
       "min     0.00000               6.000000   9.200000    0.200000  30.500000   \n",
       "25%    12.25000              51.500000  12.050000    0.400000  36.600000   \n",
       "50%    24.50000             151.000000  14.600000    0.500000  38.150000   \n",
       "75%    36.75000             253.750000  17.050000    0.700000  39.400000   \n",
       "max    49.00000            1201.000000  21.500000    0.900000  44.100000   \n",
       "\n",
       "          ageMoe        income    incomeMoe  healthcare  healthcareLow  \\\n",
       "count  50.000000     50.000000    50.000000   50.000000      50.000000   \n",
       "mean    0.174000  54109.720000   783.400000   12.714000      11.530000   \n",
       "std     0.077749   8985.187736   443.053275    3.938974       3.793294   \n",
       "min     0.100000  39680.000000   238.000000    4.600000       4.000000   \n",
       "25%     0.100000  47612.000000   474.000000   10.025000       8.875000   \n",
       "50%     0.200000  52563.000000   652.000000   12.650000      11.550000   \n",
       "75%     0.200000  60620.500000   934.500000   14.950000      13.775000   \n",
       "max     0.400000  73971.000000  1983.000000   24.900000      23.700000   \n",
       "\n",
       "       healthcareHigh    obesity  obesityLow  obesityHigh     smokes  \\\n",
       "count       50.000000  50.000000   50.000000    50.000000  50.000000   \n",
       "mean        13.904000  29.376000   27.912000    30.856000  18.502000   \n",
       "std          4.118349   3.276232    3.169346     3.411874   3.469899   \n",
       "min          5.200000  21.300000   20.400000    22.200000   9.700000   \n",
       "25%         11.125000  27.325000   25.725000    28.525000  16.300000   \n",
       "50%         13.500000  29.650000   27.850000    31.150000  18.300000   \n",
       "75%         16.425000  31.275000   30.050000    33.025000  20.425000   \n",
       "max         26.100000  35.900000   34.200000    38.000000  26.700000   \n",
       "\n",
       "       smokesLow  smokesHigh  \n",
       "count  50.000000   50.000000  \n",
       "mean   17.188000   19.822000  \n",
       "std     3.306681    3.658554  \n",
       "min     9.000000   10.300000  \n",
       "25%    14.850000   17.450000  \n",
       "50%    17.050000   19.350000  \n",
       "75%    19.100000   22.025000  \n",
       "max    25.200000   28.100000  "
      ]
     },
     "execution_count": 46,
     "metadata": {},
     "output_type": "execute_result"
    }
   ],
   "source": [
    "obesity.describe()"
   ]
  },
  {
   "cell_type": "code",
   "execution_count": 58,
   "metadata": {},
   "outputs": [],
   "source": [
    "# obesity.drop(columns = [\"id\", \"-0.385218228\"], inplace = True)"
   ]
  },
  {
   "cell_type": "code",
   "execution_count": 48,
   "metadata": {},
   "outputs": [
    {
     "data": {
      "text/html": [
       "<div>\n",
       "<style scoped>\n",
       "    .dataframe tbody tr th:only-of-type {\n",
       "        vertical-align: middle;\n",
       "    }\n",
       "\n",
       "    .dataframe tbody tr th {\n",
       "        vertical-align: top;\n",
       "    }\n",
       "\n",
       "    .dataframe thead th {\n",
       "        text-align: right;\n",
       "    }\n",
       "</style>\n",
       "<table border=\"1\" class=\"dataframe\">\n",
       "  <thead>\n",
       "    <tr style=\"text-align: right;\">\n",
       "      <th></th>\n",
       "      <th>index</th>\n",
       "      <th>state_long</th>\n",
       "      <th>number of restaurants</th>\n",
       "      <th>poverty</th>\n",
       "      <th>povertyMoe</th>\n",
       "      <th>age</th>\n",
       "      <th>ageMoe</th>\n",
       "      <th>income</th>\n",
       "      <th>incomeMoe</th>\n",
       "      <th>healthcare</th>\n",
       "      <th>healthcareLow</th>\n",
       "      <th>healthcareHigh</th>\n",
       "      <th>obesity</th>\n",
       "      <th>obesityLow</th>\n",
       "      <th>obesityHigh</th>\n",
       "      <th>smokes</th>\n",
       "      <th>smokesLow</th>\n",
       "      <th>smokesHigh</th>\n",
       "    </tr>\n",
       "  </thead>\n",
       "  <tbody>\n",
       "    <tr>\n",
       "      <th>0</th>\n",
       "      <td>29</td>\n",
       "      <td>AR</td>\n",
       "      <td>102</td>\n",
       "      <td>18.9</td>\n",
       "      <td>0.5</td>\n",
       "      <td>37.8</td>\n",
       "      <td>0.2</td>\n",
       "      <td>41262</td>\n",
       "      <td>653</td>\n",
       "      <td>16.3</td>\n",
       "      <td>14.4</td>\n",
       "      <td>18.2</td>\n",
       "      <td>35.9</td>\n",
       "      <td>33.8</td>\n",
       "      <td>38.0</td>\n",
       "      <td>24.7</td>\n",
       "      <td>22.7</td>\n",
       "      <td>26.7</td>\n",
       "    </tr>\n",
       "    <tr>\n",
       "      <th>1</th>\n",
       "      <td>33</td>\n",
       "      <td>WV</td>\n",
       "      <td>70</td>\n",
       "      <td>18.3</td>\n",
       "      <td>0.7</td>\n",
       "      <td>41.9</td>\n",
       "      <td>0.2</td>\n",
       "      <td>41059</td>\n",
       "      <td>651</td>\n",
       "      <td>10.1</td>\n",
       "      <td>9.1</td>\n",
       "      <td>11.2</td>\n",
       "      <td>35.7</td>\n",
       "      <td>34.2</td>\n",
       "      <td>37.2</td>\n",
       "      <td>26.7</td>\n",
       "      <td>25.2</td>\n",
       "      <td>28.1</td>\n",
       "    </tr>\n",
       "    <tr>\n",
       "      <th>2</th>\n",
       "      <td>35</td>\n",
       "      <td>MS</td>\n",
       "      <td>55</td>\n",
       "      <td>21.5</td>\n",
       "      <td>0.6</td>\n",
       "      <td>36.7</td>\n",
       "      <td>0.2</td>\n",
       "      <td>39680</td>\n",
       "      <td>773</td>\n",
       "      <td>18.8</td>\n",
       "      <td>17.0</td>\n",
       "      <td>20.7</td>\n",
       "      <td>35.5</td>\n",
       "      <td>33.4</td>\n",
       "      <td>37.6</td>\n",
       "      <td>23.0</td>\n",
       "      <td>21.0</td>\n",
       "      <td>24.9</td>\n",
       "    </tr>\n",
       "    <tr>\n",
       "      <th>3</th>\n",
       "      <td>15</td>\n",
       "      <td>LA</td>\n",
       "      <td>202</td>\n",
       "      <td>19.8</td>\n",
       "      <td>0.5</td>\n",
       "      <td>36.1</td>\n",
       "      <td>0.1</td>\n",
       "      <td>44555</td>\n",
       "      <td>738</td>\n",
       "      <td>18.7</td>\n",
       "      <td>17.4</td>\n",
       "      <td>20.0</td>\n",
       "      <td>34.9</td>\n",
       "      <td>33.4</td>\n",
       "      <td>36.4</td>\n",
       "      <td>24.0</td>\n",
       "      <td>22.6</td>\n",
       "      <td>25.4</td>\n",
       "    </tr>\n",
       "    <tr>\n",
       "      <th>4</th>\n",
       "      <td>49</td>\n",
       "      <td>AL</td>\n",
       "      <td>6</td>\n",
       "      <td>19.3</td>\n",
       "      <td>0.5</td>\n",
       "      <td>38.6</td>\n",
       "      <td>0.2</td>\n",
       "      <td>42830</td>\n",
       "      <td>598</td>\n",
       "      <td>13.9</td>\n",
       "      <td>12.7</td>\n",
       "      <td>15.1</td>\n",
       "      <td>33.5</td>\n",
       "      <td>32.1</td>\n",
       "      <td>35.0</td>\n",
       "      <td>21.1</td>\n",
       "      <td>19.8</td>\n",
       "      <td>22.5</td>\n",
       "    </tr>\n",
       "  </tbody>\n",
       "</table>\n",
       "</div>"
      ],
      "text/plain": [
       "   index state_long  number of restaurants  poverty  povertyMoe   age  ageMoe  \\\n",
       "0     29         AR                    102     18.9         0.5  37.8     0.2   \n",
       "1     33         WV                     70     18.3         0.7  41.9     0.2   \n",
       "2     35         MS                     55     21.5         0.6  36.7     0.2   \n",
       "3     15         LA                    202     19.8         0.5  36.1     0.1   \n",
       "4     49         AL                      6     19.3         0.5  38.6     0.2   \n",
       "\n",
       "   income  incomeMoe  healthcare  healthcareLow  healthcareHigh  obesity  \\\n",
       "0   41262        653        16.3           14.4            18.2     35.9   \n",
       "1   41059        651        10.1            9.1            11.2     35.7   \n",
       "2   39680        773        18.8           17.0            20.7     35.5   \n",
       "3   44555        738        18.7           17.4            20.0     34.9   \n",
       "4   42830        598        13.9           12.7            15.1     33.5   \n",
       "\n",
       "   obesityLow  obesityHigh  smokes  smokesLow  smokesHigh  \n",
       "0        33.8         38.0    24.7       22.7        26.7  \n",
       "1        34.2         37.2    26.7       25.2        28.1  \n",
       "2        33.4         37.6    23.0       21.0        24.9  \n",
       "3        33.4         36.4    24.0       22.6        25.4  \n",
       "4        32.1         35.0    21.1       19.8        22.5  "
      ]
     },
     "execution_count": 48,
     "metadata": {},
     "output_type": "execute_result"
    }
   ],
   "source": [
    "obesity.head()"
   ]
  },
  {
   "cell_type": "code",
   "execution_count": 59,
   "metadata": {},
   "outputs": [],
   "source": [
    "# means_by_state = demo_combined.groupby(\"state\").mean()"
   ]
  },
  {
   "cell_type": "code",
   "execution_count": 83,
   "metadata": {},
   "outputs": [
    {
     "data": {
      "text/html": [
       "<div>\n",
       "<style scoped>\n",
       "    .dataframe tbody tr th:only-of-type {\n",
       "        vertical-align: middle;\n",
       "    }\n",
       "\n",
       "    .dataframe tbody tr th {\n",
       "        vertical-align: top;\n",
       "    }\n",
       "\n",
       "    .dataframe thead th {\n",
       "        text-align: right;\n",
       "    }\n",
       "</style>\n",
       "<table border=\"1\" class=\"dataframe\">\n",
       "  <thead>\n",
       "    <tr style=\"text-align: right;\">\n",
       "      <th></th>\n",
       "      <th>id</th>\n",
       "      <th>poverty</th>\n",
       "      <th>povertyMoe</th>\n",
       "      <th>age</th>\n",
       "      <th>ageMoe</th>\n",
       "      <th>income</th>\n",
       "      <th>incomeMoe</th>\n",
       "      <th>healthcare</th>\n",
       "      <th>healthcareLow</th>\n",
       "      <th>healthcareHigh</th>\n",
       "      <th>obesity</th>\n",
       "      <th>obesityLow</th>\n",
       "      <th>obesityHigh</th>\n",
       "      <th>smokes</th>\n",
       "      <th>smokesLow</th>\n",
       "      <th>smokesHigh</th>\n",
       "      <th>-0.385218228</th>\n",
       "      <th>latitude</th>\n",
       "      <th>longitude</th>\n",
       "    </tr>\n",
       "    <tr>\n",
       "      <th>state</th>\n",
       "      <th></th>\n",
       "      <th></th>\n",
       "      <th></th>\n",
       "      <th></th>\n",
       "      <th></th>\n",
       "      <th></th>\n",
       "      <th></th>\n",
       "      <th></th>\n",
       "      <th></th>\n",
       "      <th></th>\n",
       "      <th></th>\n",
       "      <th></th>\n",
       "      <th></th>\n",
       "      <th></th>\n",
       "      <th></th>\n",
       "      <th></th>\n",
       "      <th></th>\n",
       "      <th></th>\n",
       "      <th></th>\n",
       "    </tr>\n",
       "  </thead>\n",
       "  <tbody>\n",
       "    <tr>\n",
       "      <th>MS</th>\n",
       "      <td>28</td>\n",
       "      <td>21.5</td>\n",
       "      <td>0.6</td>\n",
       "      <td>36.7</td>\n",
       "      <td>0.2</td>\n",
       "      <td>39680</td>\n",
       "      <td>773</td>\n",
       "      <td>18.8</td>\n",
       "      <td>17.0</td>\n",
       "      <td>20.7</td>\n",
       "      <td>35.5</td>\n",
       "      <td>33.4</td>\n",
       "      <td>37.6</td>\n",
       "      <td>23.0</td>\n",
       "      <td>21.0</td>\n",
       "      <td>24.9</td>\n",
       "      <td>NaN</td>\n",
       "      <td>32.892372</td>\n",
       "      <td>-89.649682</td>\n",
       "    </tr>\n",
       "    <tr>\n",
       "      <th>NM</th>\n",
       "      <td>35</td>\n",
       "      <td>21.3</td>\n",
       "      <td>0.9</td>\n",
       "      <td>37.2</td>\n",
       "      <td>0.2</td>\n",
       "      <td>44803</td>\n",
       "      <td>849</td>\n",
       "      <td>15.4</td>\n",
       "      <td>14.1</td>\n",
       "      <td>16.8</td>\n",
       "      <td>28.4</td>\n",
       "      <td>26.9</td>\n",
       "      <td>30.0</td>\n",
       "      <td>19.2</td>\n",
       "      <td>17.7</td>\n",
       "      <td>20.6</td>\n",
       "      <td>NaN</td>\n",
       "      <td>34.631333</td>\n",
       "      <td>-106.361484</td>\n",
       "    </tr>\n",
       "    <tr>\n",
       "      <th>LA</th>\n",
       "      <td>22</td>\n",
       "      <td>19.8</td>\n",
       "      <td>0.5</td>\n",
       "      <td>36.1</td>\n",
       "      <td>0.1</td>\n",
       "      <td>44555</td>\n",
       "      <td>738</td>\n",
       "      <td>18.7</td>\n",
       "      <td>17.4</td>\n",
       "      <td>20.0</td>\n",
       "      <td>34.9</td>\n",
       "      <td>33.4</td>\n",
       "      <td>36.4</td>\n",
       "      <td>24.0</td>\n",
       "      <td>22.6</td>\n",
       "      <td>25.4</td>\n",
       "      <td>NaN</td>\n",
       "      <td>30.659084</td>\n",
       "      <td>-91.517311</td>\n",
       "    </tr>\n",
       "    <tr>\n",
       "      <th>AL</th>\n",
       "      <td>1</td>\n",
       "      <td>19.3</td>\n",
       "      <td>0.5</td>\n",
       "      <td>38.6</td>\n",
       "      <td>0.2</td>\n",
       "      <td>42830</td>\n",
       "      <td>598</td>\n",
       "      <td>13.9</td>\n",
       "      <td>12.7</td>\n",
       "      <td>15.1</td>\n",
       "      <td>33.5</td>\n",
       "      <td>32.1</td>\n",
       "      <td>35.0</td>\n",
       "      <td>21.1</td>\n",
       "      <td>19.8</td>\n",
       "      <td>22.5</td>\n",
       "      <td>NaN</td>\n",
       "      <td>32.898891</td>\n",
       "      <td>-86.667125</td>\n",
       "    </tr>\n",
       "    <tr>\n",
       "      <th>KY</th>\n",
       "      <td>21</td>\n",
       "      <td>19.1</td>\n",
       "      <td>0.5</td>\n",
       "      <td>38.5</td>\n",
       "      <td>0.2</td>\n",
       "      <td>42958</td>\n",
       "      <td>697</td>\n",
       "      <td>10.0</td>\n",
       "      <td>8.8</td>\n",
       "      <td>11.1</td>\n",
       "      <td>31.6</td>\n",
       "      <td>30.2</td>\n",
       "      <td>33.1</td>\n",
       "      <td>26.2</td>\n",
       "      <td>24.7</td>\n",
       "      <td>27.7</td>\n",
       "      <td>NaN</td>\n",
       "      <td>37.770018</td>\n",
       "      <td>-85.390993</td>\n",
       "    </tr>\n",
       "  </tbody>\n",
       "</table>\n",
       "</div>"
      ],
      "text/plain": [
       "       id  poverty  povertyMoe   age  ageMoe  income  incomeMoe  healthcare  \\\n",
       "state                                                                         \n",
       "MS     28     21.5         0.6  36.7     0.2   39680        773        18.8   \n",
       "NM     35     21.3         0.9  37.2     0.2   44803        849        15.4   \n",
       "LA     22     19.8         0.5  36.1     0.1   44555        738        18.7   \n",
       "AL      1     19.3         0.5  38.6     0.2   42830        598        13.9   \n",
       "KY     21     19.1         0.5  38.5     0.2   42958        697        10.0   \n",
       "\n",
       "       healthcareLow  healthcareHigh  obesity  obesityLow  obesityHigh  \\\n",
       "state                                                                    \n",
       "MS              17.0            20.7     35.5        33.4         37.6   \n",
       "NM              14.1            16.8     28.4        26.9         30.0   \n",
       "LA              17.4            20.0     34.9        33.4         36.4   \n",
       "AL              12.7            15.1     33.5        32.1         35.0   \n",
       "KY               8.8            11.1     31.6        30.2         33.1   \n",
       "\n",
       "       smokes  smokesLow  smokesHigh  -0.385218228   latitude   longitude  \n",
       "state                                                                      \n",
       "MS       23.0       21.0        24.9           NaN  32.892372  -89.649682  \n",
       "NM       19.2       17.7        20.6           NaN  34.631333 -106.361484  \n",
       "LA       24.0       22.6        25.4           NaN  30.659084  -91.517311  \n",
       "AL       21.1       19.8        22.5           NaN  32.898891  -86.667125  \n",
       "KY       26.2       24.7        27.7           NaN  37.770018  -85.390993  "
      ]
     },
     "execution_count": 83,
     "metadata": {},
     "output_type": "execute_result"
    }
   ],
   "source": [
    "means_by_state.sort_values(by = \"poverty\", ascending = False).head()"
   ]
  },
  {
   "cell_type": "code",
   "execution_count": 66,
   "metadata": {},
   "outputs": [
    {
     "data": {
      "text/html": [
       "<div>\n",
       "<style scoped>\n",
       "    .dataframe tbody tr th:only-of-type {\n",
       "        vertical-align: middle;\n",
       "    }\n",
       "\n",
       "    .dataframe tbody tr th {\n",
       "        vertical-align: top;\n",
       "    }\n",
       "\n",
       "    .dataframe thead th {\n",
       "        text-align: right;\n",
       "    }\n",
       "</style>\n",
       "<table border=\"1\" class=\"dataframe\">\n",
       "  <thead>\n",
       "    <tr style=\"text-align: right;\">\n",
       "      <th></th>\n",
       "      <th>id</th>\n",
       "      <th>poverty</th>\n",
       "      <th>povertyMoe</th>\n",
       "      <th>age</th>\n",
       "      <th>ageMoe</th>\n",
       "      <th>income</th>\n",
       "      <th>incomeMoe</th>\n",
       "      <th>healthcare</th>\n",
       "      <th>healthcareLow</th>\n",
       "      <th>healthcareHigh</th>\n",
       "      <th>obesity</th>\n",
       "      <th>obesityLow</th>\n",
       "      <th>obesityHigh</th>\n",
       "      <th>smokes</th>\n",
       "      <th>smokesLow</th>\n",
       "      <th>smokesHigh</th>\n",
       "      <th>-0.385218228</th>\n",
       "      <th>latitude</th>\n",
       "      <th>longitude</th>\n",
       "    </tr>\n",
       "  </thead>\n",
       "  <tbody>\n",
       "    <tr>\n",
       "      <th>count</th>\n",
       "      <td>10000.000000</td>\n",
       "      <td>10000.000000</td>\n",
       "      <td>10000.000000</td>\n",
       "      <td>10000.000000</td>\n",
       "      <td>10000.000000</td>\n",
       "      <td>10000.000000</td>\n",
       "      <td>10000.000000</td>\n",
       "      <td>10000.000000</td>\n",
       "      <td>10000.000000</td>\n",
       "      <td>10000.000000</td>\n",
       "      <td>10000.000000</td>\n",
       "      <td>10000.000000</td>\n",
       "      <td>10000.000000</td>\n",
       "      <td>10000.000000</td>\n",
       "      <td>10000.000000</td>\n",
       "      <td>10000.000000</td>\n",
       "      <td>0.0</td>\n",
       "      <td>10000.000000</td>\n",
       "      <td>10000.000000</td>\n",
       "    </tr>\n",
       "    <tr>\n",
       "      <th>mean</th>\n",
       "      <td>27.699000</td>\n",
       "      <td>15.668710</td>\n",
       "      <td>0.362400</td>\n",
       "      <td>37.773220</td>\n",
       "      <td>0.128780</td>\n",
       "      <td>53934.509800</td>\n",
       "      <td>503.271400</td>\n",
       "      <td>14.206860</td>\n",
       "      <td>13.064440</td>\n",
       "      <td>15.363110</td>\n",
       "      <td>29.159600</td>\n",
       "      <td>27.787880</td>\n",
       "      <td>30.557450</td>\n",
       "      <td>17.755620</td>\n",
       "      <td>16.547990</td>\n",
       "      <td>18.967490</td>\n",
       "      <td>NaN</td>\n",
       "      <td>37.337400</td>\n",
       "      <td>-93.106515</td>\n",
       "    </tr>\n",
       "    <tr>\n",
       "      <th>std</th>\n",
       "      <td>16.013464</td>\n",
       "      <td>2.412624</td>\n",
       "      <td>0.146616</td>\n",
       "      <td>2.062721</td>\n",
       "      <td>0.051303</td>\n",
       "      <td>7562.951548</td>\n",
       "      <td>251.900979</td>\n",
       "      <td>4.629799</td>\n",
       "      <td>4.522709</td>\n",
       "      <td>4.748398</td>\n",
       "      <td>3.098051</td>\n",
       "      <td>2.996398</td>\n",
       "      <td>3.221284</td>\n",
       "      <td>3.535838</td>\n",
       "      <td>3.379702</td>\n",
       "      <td>3.723275</td>\n",
       "      <td>NaN</td>\n",
       "      <td>5.100276</td>\n",
       "      <td>15.787614</td>\n",
       "    </tr>\n",
       "    <tr>\n",
       "      <th>min</th>\n",
       "      <td>1.000000</td>\n",
       "      <td>9.200000</td>\n",
       "      <td>0.200000</td>\n",
       "      <td>30.500000</td>\n",
       "      <td>0.100000</td>\n",
       "      <td>39680.000000</td>\n",
       "      <td>238.000000</td>\n",
       "      <td>4.600000</td>\n",
       "      <td>4.000000</td>\n",
       "      <td>5.200000</td>\n",
       "      <td>21.300000</td>\n",
       "      <td>20.400000</td>\n",
       "      <td>22.200000</td>\n",
       "      <td>9.700000</td>\n",
       "      <td>9.000000</td>\n",
       "      <td>10.300000</td>\n",
       "      <td>NaN</td>\n",
       "      <td>19.504168</td>\n",
       "      <td>-159.378066</td>\n",
       "    </tr>\n",
       "    <tr>\n",
       "      <th>25%</th>\n",
       "      <td>12.000000</td>\n",
       "      <td>14.200000</td>\n",
       "      <td>0.300000</td>\n",
       "      <td>36.100000</td>\n",
       "      <td>0.100000</td>\n",
       "      <td>48363.000000</td>\n",
       "      <td>377.000000</td>\n",
       "      <td>10.300000</td>\n",
       "      <td>9.300000</td>\n",
       "      <td>11.300000</td>\n",
       "      <td>26.900000</td>\n",
       "      <td>25.400000</td>\n",
       "      <td>28.100000</td>\n",
       "      <td>14.600000</td>\n",
       "      <td>13.600000</td>\n",
       "      <td>15.700000</td>\n",
       "      <td>NaN</td>\n",
       "      <td>33.773973</td>\n",
       "      <td>-102.891796</td>\n",
       "    </tr>\n",
       "    <tr>\n",
       "      <th>50%</th>\n",
       "      <td>26.000000</td>\n",
       "      <td>16.400000</td>\n",
       "      <td>0.300000</td>\n",
       "      <td>37.700000</td>\n",
       "      <td>0.100000</td>\n",
       "      <td>52622.000000</td>\n",
       "      <td>433.000000</td>\n",
       "      <td>14.200000</td>\n",
       "      <td>12.900000</td>\n",
       "      <td>15.600000</td>\n",
       "      <td>29.700000</td>\n",
       "      <td>28.400000</td>\n",
       "      <td>31.100000</td>\n",
       "      <td>17.400000</td>\n",
       "      <td>15.900000</td>\n",
       "      <td>18.800000</td>\n",
       "      <td>NaN</td>\n",
       "      <td>37.706263</td>\n",
       "      <td>-87.951149</td>\n",
       "    </tr>\n",
       "    <tr>\n",
       "      <th>75%</th>\n",
       "      <td>42.000000</td>\n",
       "      <td>17.200000</td>\n",
       "      <td>0.400000</td>\n",
       "      <td>39.400000</td>\n",
       "      <td>0.200000</td>\n",
       "      <td>61303.000000</td>\n",
       "      <td>561.000000</td>\n",
       "      <td>16.300000</td>\n",
       "      <td>15.100000</td>\n",
       "      <td>18.200000</td>\n",
       "      <td>31.600000</td>\n",
       "      <td>30.200000</td>\n",
       "      <td>33.100000</td>\n",
       "      <td>20.600000</td>\n",
       "      <td>19.200000</td>\n",
       "      <td>22.100000</td>\n",
       "      <td>NaN</td>\n",
       "      <td>41.140722</td>\n",
       "      <td>-81.454907</td>\n",
       "    </tr>\n",
       "    <tr>\n",
       "      <th>max</th>\n",
       "      <td>56.000000</td>\n",
       "      <td>21.500000</td>\n",
       "      <td>0.900000</td>\n",
       "      <td>44.100000</td>\n",
       "      <td>0.400000</td>\n",
       "      <td>73971.000000</td>\n",
       "      <td>1983.000000</td>\n",
       "      <td>24.900000</td>\n",
       "      <td>23.700000</td>\n",
       "      <td>26.100000</td>\n",
       "      <td>35.900000</td>\n",
       "      <td>34.200000</td>\n",
       "      <td>38.000000</td>\n",
       "      <td>26.700000</td>\n",
       "      <td>25.200000</td>\n",
       "      <td>28.100000</td>\n",
       "      <td>NaN</td>\n",
       "      <td>64.840240</td>\n",
       "      <td>-67.463019</td>\n",
       "    </tr>\n",
       "  </tbody>\n",
       "</table>\n",
       "</div>"
      ],
      "text/plain": [
       "                 id       poverty    povertyMoe           age        ageMoe  \\\n",
       "count  10000.000000  10000.000000  10000.000000  10000.000000  10000.000000   \n",
       "mean      27.699000     15.668710      0.362400     37.773220      0.128780   \n",
       "std       16.013464      2.412624      0.146616      2.062721      0.051303   \n",
       "min        1.000000      9.200000      0.200000     30.500000      0.100000   \n",
       "25%       12.000000     14.200000      0.300000     36.100000      0.100000   \n",
       "50%       26.000000     16.400000      0.300000     37.700000      0.100000   \n",
       "75%       42.000000     17.200000      0.400000     39.400000      0.200000   \n",
       "max       56.000000     21.500000      0.900000     44.100000      0.400000   \n",
       "\n",
       "             income     incomeMoe    healthcare  healthcareLow  \\\n",
       "count  10000.000000  10000.000000  10000.000000   10000.000000   \n",
       "mean   53934.509800    503.271400     14.206860      13.064440   \n",
       "std     7562.951548    251.900979      4.629799       4.522709   \n",
       "min    39680.000000    238.000000      4.600000       4.000000   \n",
       "25%    48363.000000    377.000000     10.300000       9.300000   \n",
       "50%    52622.000000    433.000000     14.200000      12.900000   \n",
       "75%    61303.000000    561.000000     16.300000      15.100000   \n",
       "max    73971.000000   1983.000000     24.900000      23.700000   \n",
       "\n",
       "       healthcareHigh       obesity    obesityLow   obesityHigh        smokes  \\\n",
       "count    10000.000000  10000.000000  10000.000000  10000.000000  10000.000000   \n",
       "mean        15.363110     29.159600     27.787880     30.557450     17.755620   \n",
       "std          4.748398      3.098051      2.996398      3.221284      3.535838   \n",
       "min          5.200000     21.300000     20.400000     22.200000      9.700000   \n",
       "25%         11.300000     26.900000     25.400000     28.100000     14.600000   \n",
       "50%         15.600000     29.700000     28.400000     31.100000     17.400000   \n",
       "75%         18.200000     31.600000     30.200000     33.100000     20.600000   \n",
       "max         26.100000     35.900000     34.200000     38.000000     26.700000   \n",
       "\n",
       "          smokesLow    smokesHigh  -0.385218228      latitude     longitude  \n",
       "count  10000.000000  10000.000000           0.0  10000.000000  10000.000000  \n",
       "mean      16.547990     18.967490           NaN     37.337400    -93.106515  \n",
       "std        3.379702      3.723275           NaN      5.100276     15.787614  \n",
       "min        9.000000     10.300000           NaN     19.504168   -159.378066  \n",
       "25%       13.600000     15.700000           NaN     33.773973   -102.891796  \n",
       "50%       15.900000     18.800000           NaN     37.706263    -87.951149  \n",
       "75%       19.200000     22.100000           NaN     41.140722    -81.454907  \n",
       "max       25.200000     28.100000           NaN     64.840240    -67.463019  "
      ]
     },
     "execution_count": 66,
     "metadata": {},
     "output_type": "execute_result"
    }
   ],
   "source": [
    "demo_combined.describe()"
   ]
  },
  {
   "cell_type": "code",
   "execution_count": 100,
   "metadata": {},
   "outputs": [
    {
     "data": {
      "text/plain": [
       "0.4623462429179055"
      ]
     },
     "execution_count": 100,
     "metadata": {},
     "output_type": "execute_result"
    }
   ],
   "source": [
    "# Correlation between obesity and poverty overall\n",
    "obesity[\"obesity\"].corr(obesity[\"poverty\"])"
   ]
  },
  {
   "cell_type": "code",
   "execution_count": 105,
   "metadata": {},
   "outputs": [],
   "source": [
    "# Dropping Washington, DC\n",
    "obesity.drop(49, inplace = True)"
   ]
  },
  {
   "cell_type": "code",
   "execution_count": 108,
   "metadata": {},
   "outputs": [
    {
     "data": {
      "text/plain": [
       "0.7043404886049724"
      ]
     },
     "execution_count": 108,
     "metadata": {},
     "output_type": "execute_result"
    }
   ],
   "source": [
    "obesity[\"obesity\"].corr(top_50[\"Count\"])"
   ]
  },
  {
   "cell_type": "code",
   "execution_count": 114,
   "metadata": {},
   "outputs": [],
   "source": [
    "state_count = df.groupby(\"state\").size().nlargest(50).reset_index(\"state\")"
   ]
  },
  {
   "cell_type": "code",
   "execution_count": 115,
   "metadata": {},
   "outputs": [
    {
     "data": {
      "text/html": [
       "<div>\n",
       "<style scoped>\n",
       "    .dataframe tbody tr th:only-of-type {\n",
       "        vertical-align: middle;\n",
       "    }\n",
       "\n",
       "    .dataframe tbody tr th {\n",
       "        vertical-align: top;\n",
       "    }\n",
       "\n",
       "    .dataframe thead th {\n",
       "        text-align: right;\n",
       "    }\n",
       "</style>\n",
       "<table border=\"1\" class=\"dataframe\">\n",
       "  <thead>\n",
       "    <tr style=\"text-align: right;\">\n",
       "      <th></th>\n",
       "      <th>state</th>\n",
       "      <th>0</th>\n",
       "    </tr>\n",
       "  </thead>\n",
       "  <tbody>\n",
       "    <tr>\n",
       "      <th>0</th>\n",
       "      <td>CA</td>\n",
       "      <td>1201</td>\n",
       "    </tr>\n",
       "    <tr>\n",
       "      <th>1</th>\n",
       "      <td>TX</td>\n",
       "      <td>811</td>\n",
       "    </tr>\n",
       "    <tr>\n",
       "      <th>2</th>\n",
       "      <td>FL</td>\n",
       "      <td>621</td>\n",
       "    </tr>\n",
       "    <tr>\n",
       "      <th>3</th>\n",
       "      <td>OH</td>\n",
       "      <td>522</td>\n",
       "    </tr>\n",
       "    <tr>\n",
       "      <th>4</th>\n",
       "      <td>GA</td>\n",
       "      <td>420</td>\n",
       "    </tr>\n",
       "  </tbody>\n",
       "</table>\n",
       "</div>"
      ],
      "text/plain": [
       "  state     0\n",
       "0    CA  1201\n",
       "1    TX   811\n",
       "2    FL   621\n",
       "3    OH   522\n",
       "4    GA   420"
      ]
     },
     "execution_count": 115,
     "metadata": {},
     "output_type": "execute_result"
    }
   ],
   "source": [
    "state_count.head()"
   ]
  },
  {
   "cell_type": "code",
   "execution_count": 60,
   "metadata": {},
   "outputs": [],
   "source": [
    "# state_count.to_json(\"state_count.json\", index = False)"
   ]
  },
  {
   "cell_type": "code",
   "execution_count": 117,
   "metadata": {},
   "outputs": [],
   "source": [
    "state_count.rename(columns = {0 : \"number of restaurants\"}, inplace = True)"
   ]
  },
  {
   "cell_type": "code",
   "execution_count": 118,
   "metadata": {},
   "outputs": [],
   "source": [
    "state_count.to_csv(\"data/Count_by_State.csv\", index = False)"
   ]
  },
  {
   "cell_type": "code",
   "execution_count": 62,
   "metadata": {},
   "outputs": [
    {
     "ename": "NameError",
     "evalue": "name 'state_count' is not defined",
     "output_type": "error",
     "traceback": [
      "\u001b[0;31m---------------------------------------------------------------------------\u001b[0m",
      "\u001b[0;31mNameError\u001b[0m                                 Traceback (most recent call last)",
      "\u001b[0;32m<ipython-input-62-fe2311b0fd42>\u001b[0m in \u001b[0;36m<module>\u001b[0;34m\u001b[0m\n\u001b[0;32m----> 1\u001b[0;31m \u001b[0mdemo_count\u001b[0m \u001b[0;34m=\u001b[0m \u001b[0mpd\u001b[0m\u001b[0;34m.\u001b[0m\u001b[0mmerge\u001b[0m\u001b[0;34m(\u001b[0m\u001b[0mstate_count\u001b[0m\u001b[0;34m,\u001b[0m \u001b[0mobesity\u001b[0m\u001b[0;34m,\u001b[0m \u001b[0mon\u001b[0m \u001b[0;34m=\u001b[0m \u001b[0;34m\"state\"\u001b[0m\u001b[0;34m)\u001b[0m\u001b[0;34m\u001b[0m\u001b[0;34m\u001b[0m\u001b[0m\n\u001b[0m",
      "\u001b[0;31mNameError\u001b[0m: name 'state_count' is not defined"
     ]
    }
   ],
   "source": [
    "demo_count = pd.merge(state_count, obesity, on = \"state\")"
   ]
  },
  {
   "cell_type": "code",
   "execution_count": 61,
   "metadata": {},
   "outputs": [
    {
     "ename": "NameError",
     "evalue": "name 'demo_count' is not defined",
     "output_type": "error",
     "traceback": [
      "\u001b[0;31m---------------------------------------------------------------------------\u001b[0m",
      "\u001b[0;31mNameError\u001b[0m                                 Traceback (most recent call last)",
      "\u001b[0;32m<ipython-input-61-b08aa9384866>\u001b[0m in \u001b[0;36m<module>\u001b[0;34m\u001b[0m\n\u001b[0;32m----> 1\u001b[0;31m \u001b[0mdemo_count\u001b[0m\u001b[0;34m.\u001b[0m\u001b[0mhead\u001b[0m\u001b[0;34m(\u001b[0m\u001b[0;34m)\u001b[0m\u001b[0;34m\u001b[0m\u001b[0;34m\u001b[0m\u001b[0m\n\u001b[0m",
      "\u001b[0;31mNameError\u001b[0m: name 'demo_count' is not defined"
     ]
    }
   ],
   "source": [
    "demo_count.head()"
   ]
  },
  {
   "cell_type": "code",
   "execution_count": 121,
   "metadata": {},
   "outputs": [],
   "source": [
    "demo_count.drop(columns = [\"index\", \"state_long\"], inplace = True)"
   ]
  },
  {
   "cell_type": "code",
   "execution_count": 123,
   "metadata": {},
   "outputs": [],
   "source": [
    "demo_count.to_csv(\"demographic_data.csv\", index = False)"
   ]
  },
  {
   "cell_type": "code",
   "execution_count": 124,
   "metadata": {},
   "outputs": [
    {
     "data": {
      "text/plain": [
       "-0.06071049176445141"
      ]
     },
     "execution_count": 124,
     "metadata": {},
     "output_type": "execute_result"
    }
   ],
   "source": [
    "demo_count[\"number of restaurants\"].corr(demo_count[\"obesity\"])"
   ]
  },
  {
   "cell_type": "code",
   "execution_count": 125,
   "metadata": {},
   "outputs": [
    {
     "data": {
      "text/plain": [
       "-0.01792311160696316"
      ]
     },
     "execution_count": 125,
     "metadata": {},
     "output_type": "execute_result"
    }
   ],
   "source": [
    "demo_count[\"number of restaurants\"].corr(demo_count[\"income\"])"
   ]
  },
  {
   "cell_type": "code",
   "execution_count": 126,
   "metadata": {},
   "outputs": [
    {
     "data": {
      "text/plain": [
       "-0.10841222919585207"
      ]
     },
     "execution_count": 126,
     "metadata": {},
     "output_type": "execute_result"
    }
   ],
   "source": [
    "demo_count[\"number of restaurants\"].corr(demo_count[\"age\"])"
   ]
  },
  {
   "cell_type": "code",
   "execution_count": 127,
   "metadata": {},
   "outputs": [
    {
     "data": {
      "text/plain": [
       "0.25540437617444856"
      ]
     },
     "execution_count": 127,
     "metadata": {},
     "output_type": "execute_result"
    }
   ],
   "source": [
    "demo_count[\"number of restaurants\"].corr(demo_count[\"poverty\"])"
   ]
  },
  {
   "cell_type": "code",
   "execution_count": 128,
   "metadata": {},
   "outputs": [
    {
     "data": {
      "text/plain": [
       "-0.1977080362495971"
      ]
     },
     "execution_count": 128,
     "metadata": {},
     "output_type": "execute_result"
    }
   ],
   "source": [
    "demo_count[\"number of restaurants\"].corr(demo_count[\"smokes\"])"
   ]
  },
  {
   "cell_type": "code",
   "execution_count": 129,
   "metadata": {},
   "outputs": [
    {
     "data": {
      "text/plain": [
       "-0.03599592665197667"
      ]
     },
     "execution_count": 129,
     "metadata": {},
     "output_type": "execute_result"
    }
   ],
   "source": [
    "# Sounds mildly plausible -- negative correlation between low obesity and high restaurant count\n",
    "demo_count[\"number of restaurants\"].corr(demo_count[\"obesityLow\"])"
   ]
  },
  {
   "cell_type": "code",
   "execution_count": 130,
   "metadata": {},
   "outputs": [
    {
     "data": {
      "text/plain": [
       "-0.08042763870868921"
      ]
     },
     "execution_count": 130,
     "metadata": {},
     "output_type": "execute_result"
    }
   ],
   "source": [
    "demo_count[\"number of restaurants\"].corr(demo_count[\"obesityHigh\"])"
   ]
  },
  {
   "cell_type": "code",
   "execution_count": 133,
   "metadata": {},
   "outputs": [
    {
     "data": {
      "text/plain": [
       "0.3256462240939498"
      ]
     },
     "execution_count": 133,
     "metadata": {},
     "output_type": "execute_result"
    }
   ],
   "source": [
    "demo_count[\"number of restaurants\"].corr(demo_count[\"healthcareHigh\"])"
   ]
  },
  {
   "cell_type": "code",
   "execution_count": 134,
   "metadata": {},
   "outputs": [
    {
     "data": {
      "text/plain": [
       "0.37180442351488147"
      ]
     },
     "execution_count": 134,
     "metadata": {},
     "output_type": "execute_result"
    }
   ],
   "source": [
    "# This is a low (weak) linear relationship\n",
    "demo_count[\"number of restaurants\"].corr(demo_count[\"healthcareLow\"])"
   ]
  },
  {
   "cell_type": "code",
   "execution_count": 135,
   "metadata": {},
   "outputs": [],
   "source": [
    "from scipy.stats import ttest_ind_from_stats"
   ]
  },
  {
   "cell_type": "code",
   "execution_count": 136,
   "metadata": {},
   "outputs": [],
   "source": [
    "n1 = 50\n",
    "mean1 = demo_count[\"number of restaurants\"].mean()\n",
    "n2 = 50\n",
    "mean2 = demo_count[\"poverty\"].mean()"
   ]
  },
  {
   "cell_type": "code",
   "execution_count": 138,
   "metadata": {},
   "outputs": [],
   "source": [
    "sd1 = demo_count[\"number of restaurants\"].std()"
   ]
  },
  {
   "cell_type": "code",
   "execution_count": 139,
   "metadata": {},
   "outputs": [],
   "source": [
    "sd2 = demo_count[\"poverty\"].std()"
   ]
  },
  {
   "cell_type": "code",
   "execution_count": 141,
   "metadata": {},
   "outputs": [],
   "source": [
    "tstat, pvalue = ttest_ind_from_stats(mean1, sd1, n1, mean2, sd2, n2)"
   ]
  },
  {
   "cell_type": "code",
   "execution_count": 142,
   "metadata": {},
   "outputs": [
    {
     "data": {
      "text/plain": [
       "5.2713361236173005e-08"
      ]
     },
     "execution_count": 142,
     "metadata": {},
     "output_type": "execute_result"
    }
   ],
   "source": [
    "# p-value for a two-sided t-test of correlation between number of restaurants\n",
    "# and poverty level is 0.0000000527 -- extraordinarily low. This makes it statistically significant.\n",
    "pvalue"
   ]
  },
  {
   "cell_type": "code",
   "execution_count": 149,
   "metadata": {},
   "outputs": [],
   "source": [
    "subset = demo_count.sort_values(by = \"obesity\", ascending = False).head(10)"
   ]
  },
  {
   "cell_type": "code",
   "execution_count": 150,
   "metadata": {},
   "outputs": [
    {
     "data": {
      "text/plain": [
       "-0.3717691573433956"
      ]
     },
     "execution_count": 150,
     "metadata": {},
     "output_type": "execute_result"
    }
   ],
   "source": [
    "# Correlation between ten most obese states and number of restaurants in 10,000 row dataset\n",
    "subset[\"number of restaurants\"].corr(subset[\"obesity\"])"
   ]
  },
  {
   "cell_type": "code",
   "execution_count": 156,
   "metadata": {},
   "outputs": [
    {
     "data": {
      "text/plain": [
       "<matplotlib.axes._subplots.AxesSubplot at 0x1a21a1c2e8>"
      ]
     },
     "execution_count": 156,
     "metadata": {},
     "output_type": "execute_result"
    },
    {
     "data": {
      "image/png": "[encoded data removed]",
      "text/plain": [
       "<Figure size 432x288 with 1 Axes>"
      ]
     },
     "metadata": {
      "needs_background": "light"
     },
     "output_type": "display_data"
    }
   ],
   "source": [
    "subset[\"number of restaurants\"].plot(kind = \"bar\")"
   ]
  },
  {
   "cell_type": "code",
   "execution_count": 157,
   "metadata": {},
   "outputs": [],
   "source": [
    "subset_of_5 = subset.head(5)"
   ]
  },
  {
   "cell_type": "code",
   "execution_count": 158,
   "metadata": {},
   "outputs": [
    {
     "data": {
      "text/plain": [
       "0.3376211407166021"
      ]
     },
     "execution_count": 158,
     "metadata": {},
     "output_type": "execute_result"
    }
   ],
   "source": [
    "# Looking at five most-obese states, there's a weak positive correlation\n",
    "subset_of_5[\"number of restaurants\"].corr(subset_of_5[\"obesity\"])"
   ]
  },
  {
   "cell_type": "code",
   "execution_count": 160,
   "metadata": {},
   "outputs": [
    {
     "data": {
      "text/plain": [
       "<matplotlib.axes._subplots.AxesSubplot at 0x1a27ffadd8>"
      ]
     },
     "execution_count": 160,
     "metadata": {},
     "output_type": "execute_result"
    },
    {
     "data": {
      "image/png": "[encoded data removed]",
      "text/plain": [
       "<Figure size 432x288 with 1 Axes>"
      ]
     },
     "metadata": {
      "needs_background": "light"
     },
     "output_type": "display_data"
    }
   ],
   "source": [
    "subset_of_5.plot(kind = \"scatter\", x = \"number of restaurants\", y = \"obesity\")"
   ]
  },
  {
   "cell_type": "code",
   "execution_count": null,
   "metadata": {},
   "outputs": [],
   "source": []
  }
 ],
 "metadata": {
  "kernelspec": {
   "display_name": "Python 3",
   "language": "python",
   "name": "python3"
  },
  "language_info": {
   "codemirror_mode": {
    "name": "ipython",
    "version": 3
   },
   "file_extension": ".py",
   "mimetype": "text/x-python",
   "name": "python",
   "nbconvert_exporter": "python",
   "pygments_lexer": "ipython3",
   "version": "3.6.9"
  }
 },
 "nbformat": 4,
 "nbformat_minor": 2
}
